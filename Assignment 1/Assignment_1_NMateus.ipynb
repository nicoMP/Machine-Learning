{
  "cells": [
    {
      "cell_type": "markdown",
      "metadata": {
        "id": "mEK2QYPrX78R"
      },
      "source": [
        "# Grade: /100 points\n",
        "\n",
        "# Assignment 01: Supervised learning, Linear models, and Loss functions\n",
        "\n",
        "In this assignment, you're going to write your own methods to fit a linear model using either an OLS or LAD cost function.  \n",
        "\n",
        "## Data set \n",
        "\n",
        "We will examine a data set containing 200 observations. The data set has 3 variables:\n",
        "\n",
        "1. $y$: the outcome of interest.\n",
        "2. $x1$: first predictor.\n",
        "3. $x2$: second predictor.\n",
        "\n",
        "## Follow These Steps Before Submitting\n",
        "Once you are finished, ensure to complete the following steps.\n",
        "\n",
        "1.  Restart your kernel by clicking 'Kernel' > 'Restart & Run All'.\n",
        "\n",
        "2.  Fix any errors which result from this.\n",
        "\n",
        "3.  Repeat steps 1. and 2. until your notebook runs without errors.\n",
        "\n",
        "4.  Submit your completed notebook to OWL by the deadline.\n",
        "\n",
        "\n",
        "## Preliminaries"
      ]
    },
    {
      "cell_type": "code",
      "execution_count": 299,
      "metadata": {
        "id": "aBu-equFX78Y"
      },
      "outputs": [],
      "source": [
        "# Import all the necessary packages: \n",
        "import matplotlib.pyplot as plt \n",
        "from google.colab import drive\n",
        "import numpy as np\n",
        "import pandas as pd\n",
        "import scipy.stats as ss \n",
        "import scipy.optimize as so\n",
        "from sklearn import linear_model\n",
        "\n",
        "#Mounting the google drive\n",
        "\n",
        "%matplotlib inline"
      ]
    },
    {
      "cell_type": "markdown",
      "metadata": {
        "id": "rBv9WDghTVHx",
        "outputId": "03ea85f6-d46d-4c35-8f10-1cca830ff3dc"
      },
      "source": [
        "#### Before you start...\n",
        "\n",
        "Recall that L1 loss function (sum of magnitudes, used for LAD model):\n",
        "\n",
        "$$L_1(\\theta) = \\sum_{i=1}^{n} \\lvert {y_i-\\hat{y_i}} \\rvert$$\n",
        "\n",
        "L2 loss function (RSS, residual sum of squares, used for OLS model):\n",
        "\n",
        "$$L_2(\\theta) = \\sum_{i=1}^{n} ({y_i-\\hat{y_i}})^2$$"
      ]
    },
    {
      "cell_type": "markdown",
      "metadata": {
        "id": "m8CtqKgpX78f"
      },
      "source": [
        "\n",
        "## Part 1\n",
        "### Question 1.1:  /10 points\n",
        "\n",
        "\n",
        "Read the `my_dataset.csv` file as a `pandas.DataFrame` and (1) change column names $x1$ and $x2$ to pred_1 and pred_2, respectively (2) print the first 10 rows. Remove the 5th observation since its pred_1 value is an outlier. Using the resulted data set from the previous step, for the 5th observation replace its pred_1 value (i.e., NAN) with 9.5. Print the first 10 rows of the final data set. Plot a scatterplot for every pairwise combination (scatterplot matrix), and briefly discuss the relationships between the variables. Based on your findings, discuss whether a simple linear regression is appropriate here or not."
      ]
    },
    {
      "cell_type": "code",
      "execution_count": 300,
      "metadata": {
        "id": "WdFNvFsRUdx9",
        "colab": {
          "base_uri": "https://localhost:8080/",
          "height": 639
        },
        "outputId": "b92e2c8f-df58-4b46-b2cd-f402ba0276bf"
      },
      "outputs": [
        {
          "output_type": "stream",
          "name": "stdout",
          "text": [
            "           y  pred_1  pred_2\n",
            "0  25.265621     3.6     3.1\n",
            "1  63.512826     8.1     9.7\n",
            "2  25.441710     4.7     6.4\n",
            "3  79.286388     9.0     5.6\n",
            "4  36.271320   100.0     5.2\n",
            "5  86.271320     NaN     4.6\n",
            "6   3.015506     1.4     9.0\n",
            "7  36.834794     5.8     4.3\n",
            "8  80.558765     9.1     3.6\n",
            "9  45.601815     6.0     2.5\n",
            "           y  pred_1  pred_2\n",
            "0  25.265621     3.6     3.1\n",
            "1  63.512826     8.1     9.7\n",
            "2  25.441710     4.7     6.4\n",
            "3  79.286388     9.0     5.6\n",
            "4  86.271320     9.5     4.6\n",
            "5   3.015506     1.4     9.0\n",
            "6  36.834794     5.8     4.3\n",
            "7  80.558765     9.1     3.6\n",
            "8  45.601815     6.0     2.5\n",
            "9  33.299944     5.1     2.5\n"
          ]
        },
        {
          "output_type": "display_data",
          "data": {
            "text/plain": [
              "<Figure size 432x288 with 1 Axes>"
            ],
            "image/png": "[encoded data removed]"
          },
          "metadata": {
            "needs_background": "light"
          }
        }
      ],
      "source": [
        "from pandas.io.pytables import IndexCol\n",
        "# Your code here.\n",
        "\n",
        "\n",
        "my_DF = pd.read_csv('/content/my_dataset.csv')\n",
        "newColName = {'x1': 'pred_1', 'x2': 'pred_2'}\n",
        "my_DF = my_DF.rename(columns=newColName)\n",
        "print(my_DF[0:10])\n",
        "my_DF = my_DF.drop(index = 4).reset_index(drop=True)\n",
        "my_DF.at[4,'pred_1'] = 9.5\n",
        "print(my_DF[0:10])\n",
        "plt.scatter(my_DF['pred_1'], my_DF['y'], color='r', marker='o')\n",
        "plt.scatter(my_DF['pred_2'], my_DF['y'], color='b', marker='x')\n",
        "plt.show()\n",
        "\n",
        "\n"
      ]
    },
    {
      "cell_type": "markdown",
      "metadata": {
        "id": "XUVK0ZGmTAcE"
      },
      "source": [
        "**Written answer: What do you see here? Discuss your findings**"
      ]
    },
    {
      "cell_type": "markdown",
      "source": [
        "I dont believe a simple linear regression would work here for both data point. With pred_1 it might work but it's not reccomended as it seems more like an exponential function, while with pred_2 has no semblance to a linear regression, however pred_1 does seem to divide pred_2 into 2 sides loosely, so classification might work for it. Therefore neither really fit the criteria for a linear regression."
      ],
      "metadata": {
        "id": "O3use3G9m7UE"
      }
    },
    {
      "cell_type": "markdown",
      "source": [],
      "metadata": {
        "id": "4G9-Z4Yom3_1"
      }
    },
    {
      "cell_type": "markdown",
      "metadata": {
        "id": "aLTkjzp2X78w"
      },
      "source": [
        "### Question 1.2: /5 point\n",
        "\n",
        "Recall that the linear model, we obtain predictions by computing \n",
        "\n",
        "$$ \\hat{\\mathbf{y}} = \\mathbf{X} \\hat{\\beta} $$\n",
        "\n",
        "Here, $\\mathbf{X}$ is a design matrix which includes a column of ones, $\\hat{\\beta}$ are coefficients, and $\\hat{\\mathbf{y}}$ are outcomes.  Write a function `linearModelPredict` to compute linear model predictions given data and a coefficient vector.  The function should take as it's arguments a 1d-array of coefficients `b` and the design matrix `X` as a 2d-array and return linear model predictions `yp`.\n",
        "\n",
        "Test the function by setting \n",
        "\n",
        "```\n",
        "X = np.array([[1,0],[1,-1],[1,2]])\n",
        "b = np.array([0.1,0.3])\n",
        "```\n",
        "\n",
        "Call your function using these values. \n",
        "\n",
        "Report $\\hat{\\mathbf{y}}$. \n",
        "\n",
        "What is the dimensionality of the numpy-array that you get back? \n",
        "\n",
        "Hint:  Read the documentation for `np.dot` or the `@` operator in `numpy`."
      ]
    },
    {
      "cell_type": "code",
      "execution_count": 236,
      "metadata": {
        "id": "So7kD_OPVQNI",
        "colab": {
          "base_uri": "https://localhost:8080/"
        },
        "outputId": "8a176e7e-8223-4dc2-b1c2-04da6f6c1dea"
      },
      "outputs": [
        {
          "output_type": "stream",
          "name": "stdout",
          "text": [
            "[ 0.1 -0.2  0.7]\n"
          ]
        }
      ],
      "source": [
        "\n",
        "# Your code here.\n",
        "X = np.array([[1,0],[1,-1],[1,2]])\n",
        "b = np.array([0.1,0.3])\n",
        "def linearModelPredict(arr, matrix):\n",
        "    return arr@matrix\n",
        "print(linearModelPredict(X,b))"
      ]
    },
    {
      "cell_type": "markdown",
      "source": [
        "The dimensionality of the array is 1."
      ],
      "metadata": {
        "id": "hpFIjZ4PhDfy"
      }
    },
    {
      "cell_type": "markdown",
      "metadata": {
        "id": "CrZokVidX787"
      },
      "source": [
        "### Question 1.3: /15 points\n",
        "\n",
        "Write a function `linearModelLossRSS` which computes and returns the loss function for an OLS model parameterized by $\\beta$, as well as the gradient of the loss.  The function should take as its first argument a 1d-array `beta` of coefficients for the linear model, as its second argument the design matrix `X` as a 2d-array, and as its third argument a 1d-array `y` of observed outcomes.\n",
        "\n",
        "Test the function with the values \n",
        "\n",
        "```\n",
        "X = np.array([[1,0,1.5],[1,-1,0.5],[1,2,2.5]])\n",
        "b = np.array([0.1,0.3,0.85])\n",
        "y = np.array([1.3,0.3,2]) \n",
        "```\n",
        "\n",
        "Report the loss and the gradient. \n"
      ]
    },
    {
      "cell_type": "code",
      "execution_count": 237,
      "metadata": {
        "id": "IHuS9PJJVZiW",
        "colab": {
          "base_uri": "https://localhost:8080/"
        },
        "outputId": "56f3f7a7-6810-4361-ee85-7f1e22225f32"
      },
      "outputs": [
        {
          "output_type": "stream",
          "name": "stdout",
          "text": [
            "(2.4074999999999998, array([-5.1 , -3.3 , -8.85]))\n"
          ]
        }
      ],
      "source": [
        "# Your code here.\n",
        "X = np.array([[1,0,1.5],[1,-1,0.5],[1,2,2.5]])\n",
        "b = np.array([0.1,0.3,0.1])\n",
        "y = np.array([1.3,0.3,2]) \n",
        "def linearModelLossRSS(b,X,y):\n",
        "  predY = linearModelPredict(X,b)\n",
        "  res = (y-predY)\n",
        "  rss = np.sum(np.square(res))\n",
        "  gradient = (-2*X.T@res)\n",
        "  return (rss, gradient)\n",
        "\n",
        "print(linearModelLossRSS(b,X,y))\n",
        "\n"
      ]
    },
    {
      "cell_type": "markdown",
      "metadata": {
        "id": "O7tEGnLsVb4L"
      },
      "source": [
        "**Written answer**: To minimize the loss, do you need increase or decrease the value of the parameters? "
      ]
    },
    {
      "cell_type": "markdown",
      "source": [
        "You want to decrease the parameters as this will reduce the loss by making the product of the square sum of coffecient smaller. However it wont reduce to zero, and will find a balance with the RSS to produce a the smallest loss it can.\n"
      ],
      "metadata": {
        "id": "WIIUCv1qKlz6"
      }
    },
    {
      "cell_type": "markdown",
      "metadata": {
        "id": "zpfl2A86X79D"
      },
      "source": [
        "### Question 1.4:  /15 points. \n",
        "\n",
        "Now that you've implemented a loss function in question 1.3, it is now time to minimize it!\n",
        "\n",
        "Write a function `linearModelFit` to fit a linear model.  The function should take as its first argument the design matrix `X` as a 2d-array, as its second argument a 1d-array `y` of outcomes, and as its third argument a function  `lossfcn` which returns as a tuple the value of the loss, as well as the gradient of the loss. As a result, it should return the estimated betas and the $R^2$. \n",
        "\n",
        "Test the function with the values: \n",
        "```\n",
        "X = np.array([[1,0,1.5],[1,-1,0.5],[1,2,2.5]])\n",
        "y = np.array([1.3,0.3,2])\n",
        "```\n",
        "\n",
        "Report best parameters and the fitted $R^2$ \n"
      ]
    },
    {
      "cell_type": "code",
      "execution_count": 301,
      "metadata": {
        "id": "qcVM5IIxug1B",
        "colab": {
          "base_uri": "https://localhost:8080/"
        },
        "outputId": "8629a541-eceb-437d-c265-763f766de22d"
      },
      "outputs": [
        {
          "output_type": "execute_result",
          "data": {
            "text/plain": [
              "(array([-0.65000159, -0.30000055,  1.30000129]), 0.9999999999996051)"
            ]
          },
          "metadata": {},
          "execution_count": 301
        }
      ],
      "source": [
        "# Your code here.\n",
        "import scipy.optimize as so\n",
        "\n",
        "X = np.array([[1,0,1.5],[1,-1,0.5],[1,2,2.5]])\n",
        "y = np.array([1.3,0.3,2])\n",
        "\n",
        "\n",
        "def linearModelFit(X, y, lossfcn):\n",
        "  bstart = np.zeros(X.shape[-1])\n",
        "  Results = so.minimize(lossfcn,bstart,args = (X,y),jac = True)\n",
        "  loss = lossfcn(Results.x,X,y)\n",
        "  tss = np.sum(np.square(y - (np.mean(y))))\n",
        "  cod = 1- (loss[0]/tss)\n",
        "  return Results.x,cod;\n",
        "\n",
        "linearModelFit(X,y, linearModelLossRSS)\n"
      ]
    },
    {
      "cell_type": "markdown",
      "source": [
        "best param  = [-0.65000159, -0.30000055,  1.30000129] R = 0.9999999999996051"
      ],
      "metadata": {
        "id": "_NfchP_KiW1H"
      }
    },
    {
      "cell_type": "markdown",
      "metadata": {
        "id": "CJ2ZergqX79L"
      },
      "source": [
        "### Question 1.5: /15 points\n",
        "\n",
        "Use the above functions to fit your model to the my_data. Use $y$ as the target variable and pred_1 as the predictor. Then use your model and the fitted parameters to make predictions along a grid of equally spaced values for the pred_1 variable. Note that, these new values must be within the original range of the pred_1 variable.  \n",
        "\n",
        "Plot the data and add a line for the predicted values. You can get these by generating a new X-matrix with 100 equally spaced values (using for example [```np.linspace```](https://numpy.org/doc/stable/reference/generated/numpy.linspace.html)). Also report the $R^2$ value for the fit. You can do this by either printing out the $R^2$ of the fit or putting it on your plot via the `annotate` function in matplotlib.\n"
      ]
    },
    {
      "cell_type": "code",
      "execution_count": 302,
      "metadata": {
        "id": "EGpR9cY6ug1B",
        "colab": {
          "base_uri": "https://localhost:8080/",
          "height": 282
        },
        "outputId": "89807152-7ff7-40ed-f8c7-85f8a58e6b37"
      },
      "outputs": [
        {
          "output_type": "execute_result",
          "data": {
            "text/plain": [
              "(array([7.67964983]), 0.8803265016534647)"
            ]
          },
          "metadata": {},
          "execution_count": 302
        },
        {
          "output_type": "display_data",
          "data": {
            "text/plain": [
              "<Figure size 432x288 with 1 Axes>"
            ],
            "image/png": "[encoded data removed]"
          },
          "metadata": {
            "needs_background": "light"
          }
        }
      ],
      "source": [
        "# Your code here.\n",
        "\n",
        "y = my_DF['y'].values\n",
        "predX = np.linspace(1,10,num = 100).reshape(-1,1)\n",
        "X = my_DF['pred_1'].values.reshape(-1,1)\n",
        "params = linearModelFit(X, y, linearModelLossRSS)\n",
        "LSSR = params[1]\n",
        "LSSpredY = linearModelPredict(predX, params[0])\n",
        "plt.plot(X,y,'ro')\n",
        "plt.plot(predX,LSSpredY)\n",
        "plt.annotate((\"LSS R value = \" + str(params[1])),(1,90))\n",
        "plt.show\n",
        "params\n"
      ]
    },
    {
      "cell_type": "markdown",
      "metadata": {
        "id": "A3emHgAcX79R"
      },
      "source": [
        "## Part 2: LAD Regression\n",
        "\n",
        "### Question 2.1:  /15 points\n",
        "\n",
        "In the previous section, we worked with the squared loss.  Now, we'll implement a linear model with least absolute deviation loss.\n",
        "\n",
        "Write a function `linearModelLossLAD` which computes the least absolute deviation loss function for a linear model  parameterized by $\\beta$, as well as the gradient of the loss.  The function should take as its first argument a 1d-array `beta` of coefficients for the linear model, as its second argument the design matrix `X` as a 2d-array, and as its third argument a 1d-array `y` of observed outcomes.\n",
        "\n",
        "Test the function with the values \n",
        "\n",
        "```\n",
        "X = np.array([[1,0,1.5],[1,-1,0.5],[1,2,2.5]])\n",
        "b = np.array([0.1,0.3,0.85])\n",
        "y = np.array([1.3,0.3,2]) \n",
        "```\n",
        "\n",
        "Report the loss and the gradient. "
      ]
    },
    {
      "cell_type": "code",
      "execution_count": 305,
      "metadata": {
        "id": "nLdPdO0Oug1B",
        "colab": {
          "base_uri": "https://localhost:8080/"
        },
        "outputId": "1de05a1d-0d6d-498a-d1b0-15c2e87cbef6"
      },
      "outputs": [
        {
          "output_type": "execute_result",
          "data": {
            "text/plain": [
              "(0.9750000000000001, array([-1.95 , -3.15 , -4.425]))"
            ]
          },
          "metadata": {},
          "execution_count": 305
        }
      ],
      "source": [
        "# Your code here.\n",
        "X = np.array([[1,0,1.5],[1,-1,0.5],[1,2,2.5]])\n",
        "b = np.array([0.1,0.3,0.85])\n",
        "y = np.array([1.3,0.3,2])\n",
        "\n",
        "def linearModelLossLAD(b, X, y):\n",
        "  yPred = linearModelPredict(X,b)\n",
        "  res = np.absolute(y - yPred)\n",
        "  LAD = np.sum(res)\n",
        "  grad = -2*X.T@res\n",
        "  return LAD, grad;\n",
        "\n",
        "linearModelLossLAD(b,X,y)\n",
        "\n",
        "\n"
      ]
    },
    {
      "cell_type": "markdown",
      "source": [
        "loss = 0.975 and gradient = [-1.95 , -3.15 , -4.425]"
      ],
      "metadata": {
        "id": "KLhdtlHEVS1Z"
      }
    },
    {
      "cell_type": "markdown",
      "metadata": {
        "id": "MTx_xIR5X79V"
      },
      "source": [
        "### Question 2.2: /10 points\n",
        "\n",
        "\n",
        "Use the above functions to fit your LAD model. Use your model to make predictions along a grid of 100 equally spaced values for pred_1.  Once fit, add the fitted line to the scatter plot as in question 1.5.  Also report the $R^2$-value. \n",
        "\n",
        "**Written answer**: What is the difference in the fit obtained with an L1 as compared to the L2 cost function? How their $R^2$ values compare? Why?  \n",
        "\n",
        "Note: If you recieve an error from the optimizer, it may be because the loss function for the LAD model is not differentiable at its minimum.  This will lead to some gradient based optimizers to fail to converge.  If this happens to you then pass `method=\"Powell\"` to `scipy.optimize.minimize`.\n",
        "\n"
      ]
    },
    {
      "cell_type": "code",
      "execution_count": 306,
      "metadata": {
        "id": "7yGyYVXcug1C",
        "colab": {
          "base_uri": "https://localhost:8080/",
          "height": 282
        },
        "outputId": "875b94ce-8348-4da6-ee21-9a77293b8de6"
      },
      "outputs": [
        {
          "output_type": "execute_result",
          "data": {
            "text/plain": [
              "Text(1, 80, 'LAD R value = 0.9883524572110846')"
            ]
          },
          "metadata": {},
          "execution_count": 306
        },
        {
          "output_type": "display_data",
          "data": {
            "text/plain": [
              "<Figure size 432x288 with 1 Axes>"
            ],
            "image/png": "[encoded data removed]"
          },
          "metadata": {
            "needs_background": "light"
          }
        }
      ],
      "source": [
        "# Your code here\n",
        "y = my_DF['y'].values\n",
        "X = my_DF['pred_1'].values.reshape(-1,1)\n",
        "params = linearModelFit(X, y, linearModelLossLAD)\n",
        "predY = linearModelPredict(predX, params[0])\n",
        "plt.plot(X,y,'ro')\n",
        "plt.plot(predX,LSSpredY, color = 'black')\n",
        "\n",
        "plt.annotate((\"LSS R value = \" + str(LSSR)),(1,90))\n",
        "plt.plot(predX,predY, color = 'blue')\n",
        "plt.annotate((\"LAD R value = \" + str(params[1])),(1,80))\n"
      ]
    },
    {
      "cell_type": "markdown",
      "metadata": {
        "id": "UYbaeWI5X79Y"
      },
      "source": [
        "Written answer: Your answer here."
      ]
    },
    {
      "cell_type": "markdown",
      "source": [
        "The difference is relatively low in terms of loss with there being a difference of less than 0.1 in value with L1 being higher. While the r is very different with L1 having a significantly higher value (in context) of over 0.1. this makes sense as the outliers were removed from the data making it so that L1 is more accurate with the test data. This also makes sense as there is only one feature being measure making the L1 less succeptible to making the model sparse and overfitting the test data."
      ],
      "metadata": {
        "id": "lpZAOlzFV9lx"
      }
    },
    {
      "cell_type": "markdown",
      "metadata": {
        "id": "4Tza7fD4X79a"
      },
      "source": [
        "### Question 2.3: /15 points\n",
        "\n",
        "Now we will use all data for the fit. Fit an OLS model to the my_data with the `linear_model` module from the `sklearn` package by using the [`LinearRegression`](https://scikit-learn.org/stable/modules/generated/sklearn.linear_model.LinearRegression.html) class.  In no more than two sentences, comment on the $R^2$ values from `sklearn` and the $R^2$ values from your models. Are they similar?"
      ]
    },
    {
      "cell_type": "code",
      "execution_count": 298,
      "metadata": {
        "id": "5RXsmo7pX79c",
        "colab": {
          "base_uri": "https://localhost:8080/"
        },
        "outputId": "fabd09d4-5806-4b5a-f869-9be00ef927f1"
      },
      "outputs": [
        {
          "output_type": "execute_result",
          "data": {
            "text/plain": [
              "0.9484570099594501"
            ]
          },
          "metadata": {},
          "execution_count": 298
        }
      ],
      "source": [
        "# Your code here\n",
        "y = my_DF['y'].values\n",
        "predX = np.linspace(1,10,num = 200).reshape(-1,1)\n",
        "X = my_DF['pred_1'].values.reshape(-1,1)\n",
        "model = linear_model.LinearRegression().fit(X,y)\n",
        "predY = model.predict(predX)\n",
        "model.score(X,y)\n"
      ]
    },
    {
      "cell_type": "markdown",
      "metadata": {
        "id": "FQJl6CwAl9hu"
      },
      "source": [
        "Written answer: Your answer here."
      ]
    },
    {
      "cell_type": "markdown",
      "source": [
        "The score is similar to the ones achieved its inbetween both almost in the middle. it seems not to overfit it like L1"
      ],
      "metadata": {
        "id": "T9cu-Eg_gYJj"
      }
    }
  ],
  "metadata": {
    "colab": {
      "provenance": []
    },
    "kernelspec": {
      "display_name": "Python 3 (ipykernel)",
      "language": "python",
      "name": "python3"
    },
    "language_info": {
      "codemirror_mode": {
        "name": "ipython",
        "version": 3
      },
      "file_extension": ".py",
      "mimetype": "text/x-python",
      "name": "python",
      "nbconvert_exporter": "python",
      "pygments_lexer": "ipython3",
      "version": "3.9.12"
    }
  },
  "nbformat": 4,
  "nbformat_minor": 0
}