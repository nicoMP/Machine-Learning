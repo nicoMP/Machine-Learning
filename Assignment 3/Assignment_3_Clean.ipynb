{
  "cells": [
    {
      "cell_type": "markdown",
      "metadata": {
        "id": "9aKr4SC0U-kn"
      },
      "source": [
        "# Assignment 3: Classification with Logistic Regression\n",
        "\n",
        "# Total: /100\n",
        "\n",
        "## Instructions\n",
        "\n",
        "* Complete the assignment\n",
        "\n",
        "* Once the notebook is complete, restart your kernel and rerun your cells\n",
        "\n",
        "* Submit this notebook to owl by the deadline\n",
        "\n",
        "* You may use any python library functions you wish to complete the assignment.\n",
        "\n",
        "## The Dataset\n",
        "\n",
        "The goal of our classifier is to predict, using a logistic regression, if a patient may take a certain drug.\n",
        "\n",
        "The dataset contains both numerical and categorical input variables, while the response variable ('Drug') has multiple levels. To simplify our analysis here, we focus on predicting if a patient may take \"Drug-Y\"."
      ]
    },
    {
      "cell_type": "code",
      "execution_count": 1,
      "metadata": {
        "id": "oYk5_SCPU-kw"
      },
      "outputs": [],
      "source": [
        "# You may need these\n",
        "import pandas as pd\n",
        "import numpy as np\n",
        "from sklearn.model_selection import train_test_split\n",
        "from sklearn.linear_model import LogisticRegression, SGDClassifier\n",
        "from sklearn.metrics import confusion_matrix, roc_curve, precision_recall_curve, auc, classification_report\n",
        "from sklearn.preprocessing import StandardScaler\n",
        "from sklearn.pipeline import make_pipeline\n",
        "import matplotlib.pyplot as plt\n",
        "seed=0\n",
        "%matplotlib inline"
      ]
    },
    {
      "cell_type": "markdown",
      "metadata": {
        "id": "axyFmaF8U-kz"
      },
      "source": [
        "## Question 1: /18 pts"
      ]
    },
    {
      "cell_type": "markdown",
      "metadata": {
        "id": "Gm0M4J0WU-k3"
      },
      "source": [
        "1. Read in the `drug.csv` dataset and display the first 5 rows.\n",
        "2. Print out all columns in the dataset and list categorical variables. Use the build-in function `get_dummies()` to convert all categorical variables (**exclude Drug variable**) to dummy variables. You may read the official explanations for more information on `get_dummies()` [here](https://pandas.pydata.org/docs/reference/api/pandas.get_dummies.html). What's the size of the dataframe after transforming it?\n",
        "3. Map the target values from yes/no to 1/0. What is the baseline accuracy for this classification problem? Round into 1 decimal place (for example, 50.1% or 0.501)."
      ]
    },
    {
      "cell_type": "markdown",
      "metadata": {
        "id": "2cNADOoXU-k6"
      },
      "source": [
        "1.1 Read the dataset and display the first 8 rows, and print out all columns in the dataset and **list** all categorical variables in the answer part."
      ]
    },
    {
      "cell_type": "code",
      "execution_count": null,
      "metadata": {
        "id": "wAV0h1zoU-k8"
      },
      "outputs": [],
      "source": [
        "# Question 1.1 code here\n",
        "\n",
        "\n",
        "#5 pts"
      ]
    },
    {
      "cell_type": "markdown",
      "metadata": {
        "id": "yL9tqfndpRbI"
      },
      "source": [
        "**YOUR ANSWER HERE:** [1pt] "
      ]
    },
    {
      "cell_type": "markdown",
      "metadata": {
        "id": "S2W98Z97mfxI"
      },
      "source": [
        "1.2 Check that is any there missing value in each column of the dataset.  "
      ]
    },
    {
      "cell_type": "code",
      "execution_count": null,
      "metadata": {
        "id": "GLp-EpaFnIYm"
      },
      "outputs": [],
      "source": [
        "# Question 1.2 code here\n",
        "\n",
        "#2 pts"
      ]
    },
    {
      "cell_type": "markdown",
      "metadata": {
        "id": "YTIk_tnonYFR"
      },
      "source": [
        "1.3 Replace all the missing values in **Sex** to be 'M'."
      ]
    },
    {
      "cell_type": "code",
      "execution_count": 12,
      "metadata": {
        "id": "J6s1do3KoOmU"
      },
      "outputs": [],
      "source": [
        "# Question 1.3 code here\n",
        "\n",
        "#2 pts"
      ]
    },
    {
      "cell_type": "markdown",
      "metadata": {
        "id": "3UXEH2aKU-k-"
      },
      "source": [
        "1.4 Use the build-in function `get_dummies()` to convert all categorical variables (**excluding `Drug` variable**) to dummy variables. What's the size of the dataframe after transforming?"
      ]
    },
    {
      "cell_type": "code",
      "execution_count": 13,
      "metadata": {
        "id": "J-dsj9mrU-lA",
        "scrolled": true
      },
      "outputs": [],
      "source": [
        "# Question 1.4 code here\n",
        "\n",
        "\n",
        "#2 pts"
      ]
    },
    {
      "cell_type": "markdown",
      "metadata": {
        "id": "krlMrqnIU-lK"
      },
      "source": [
        "**YOUR ANSWER HERE:** [1pt] "
      ]
    },
    {
      "cell_type": "markdown",
      "metadata": {
        "id": "DbsurWVJq7IY"
      },
      "source": [
        "1.5 Transform all the labels that are 'DrugY' in **`Drug`** to be value 1, otherwise, to be 0. Then transform the type of **`Drug`** to be 'int'.\n"
      ]
    },
    {
      "cell_type": "code",
      "execution_count": 15,
      "metadata": {
        "id": "XeNDEYoxrkZr"
      },
      "outputs": [],
      "source": [
        "# Question 1.5 code here\n",
        "\n",
        "#2 pts"
      ]
    },
    {
      "cell_type": "markdown",
      "metadata": {
        "id": "0LORXe5nU-lL"
      },
      "source": [
        "1.6. What is the baseline accuracy for this classification problem? Round into 1 decimal place (for example, 0.2)."
      ]
    },
    {
      "cell_type": "code",
      "execution_count": null,
      "metadata": {
        "id": "1tDl3SaGU-lL"
      },
      "outputs": [],
      "source": [
        "# Your code here\n",
        "\n",
        "#2 pts"
      ]
    },
    {
      "cell_type": "markdown",
      "metadata": {
        "id": "GpiZmxAtU-lQ"
      },
      "source": [
        "**YOUR ANSWER HERE:** [1pt] "
      ]
    },
    {
      "cell_type": "markdown",
      "metadata": {
        "id": "svT8YoBjU-lR"
      },
      "source": [
        "## Question 2: /7 pts\n",
        "\n",
        "Split the data into train and test for the outcome/response and the predictor variables. Hold out 25% of observations as the test set.  Pass `random_state=11` to `train_test_split` to ensure you get the same train and tests sets as the solution. Your dependent variable in the the dataset is named as `Drug`. How many patients who take \"DrugY\" in the train dataset and test dataset, respectively?"
      ]
    },
    {
      "cell_type": "code",
      "execution_count": 21,
      "metadata": {
        "id": "ZabWhfKqU-lS"
      },
      "outputs": [],
      "source": [
        "# Question 2 code here.\n",
        "\n",
        "# Don't use the \"Drug\" as a feature\n",
        "\n",
        "#6 pts correct code"
      ]
    },
    {
      "cell_type": "markdown",
      "metadata": {
        "id": "04g5eqFb4UHe"
      },
      "source": [
        "**YOUR ANSWER HERE:** [1pt] "
      ]
    },
    {
      "cell_type": "markdown",
      "metadata": {
        "id": "o-NwTJR2U-lU"
      },
      "source": [
        "## Question 3: /20 pts"
      ]
    },
    {
      "cell_type": "markdown",
      "metadata": {
        "id": "OrQkrgnKU-lV"
      },
      "source": [
        "3.1 Create a instance of sklearn's `LogisticRegression` object for **unpenalized** logistic regression.\n",
        "Using this object, **run a logisitic regression analysis** of `Drug` (y-variable) against `Age` and `Na_to_K` (x-variables) using your training data. Report the parameters (variables and intercept) of your model as indicated with the `print` function."
      ]
    },
    {
      "cell_type": "code",
      "execution_count": null,
      "metadata": {
        "id": "upgKwmOMU-lV"
      },
      "outputs": [],
      "source": [
        "# Question 3 code here\n",
        "\n",
        "#10 pts "
      ]
    },
    {
      "cell_type": "markdown",
      "metadata": {
        "id": "kheT1mJBU-lY"
      },
      "source": [
        "3.2 Compute 4 label-based criteria, namely, 'Accuracy', 'Precision', 'Sensitivity' and 'Specificity' for your two variables only classifier **using the test data** (Round into 4 decimal place). Use a threshold of 0.5. Answer the questions in this text box below."
      ]
    },
    {
      "cell_type": "code",
      "execution_count": 27,
      "metadata": {
        "id": "YeCznyblU-la"
      },
      "outputs": [],
      "source": [
        "## Put code here to compute criteria:\n",
        "\n",
        "#5 pts"
      ]
    },
    {
      "cell_type": "code",
      "execution_count": null,
      "metadata": {
        "id": "RVHdh8JPU-lb"
      },
      "outputs": [],
      "source": [
        "## Put the code you need to answer the following questions.\n",
        "\n",
        "\n",
        "\n",
        "#2 pts"
      ]
    },
    {
      "cell_type": "markdown",
      "metadata": {
        "id": "ZUGuT8L1U-lb"
      },
      "source": [
        "* How many of the test instances are labeled positive by your classifier?\n",
        "\n",
        "**YOUR ANSWER HERE:**[1 pt] \n",
        "\n",
        "* Does this classifier reach the baseline accuracy?\n",
        "\n",
        "**YOUR ANSWER HERE:** [1 pt] \n",
        "\n",
        "* Is this classifier useful for classifying drug-Y? Explain in one or two sentences using the performance matrix results.\n",
        "\n",
        "**YOUR ANSWER HERE:**[1 pt] "
      ]
    },
    {
      "cell_type": "markdown",
      "metadata": {
        "id": "9mq1cndaU-lc"
      },
      "source": [
        "## Question 4: /8 pts\n",
        "Now with default penalty method, fit two logistic regression models using tuning parameter $C=0.1$ and $C=1$ to the training data and include all the variables in the data frame (except for `Drug`) in the cell below. You will want to make new objects like you did for the simpler model. Print the parameters (variables and intercept) you obtain, respectively."
      ]
    },
    {
      "cell_type": "code",
      "execution_count": null,
      "metadata": {
        "id": "BiH4XfJHU-le"
      },
      "outputs": [],
      "source": [
        "# Code for Question 4\n",
        "\n",
        "#7 pts"
      ]
    },
    {
      "cell_type": "markdown",
      "metadata": {
        "id": "3Jc2UNoYnGhD"
      },
      "source": [
        "* Describe the differences between the fitted model parameters obtained from the two models here.\n",
        "\n",
        "**YOUR ANSWER:** [1 pt] "
      ]
    },
    {
      "attachments": {},
      "cell_type": "markdown",
      "metadata": {
        "id": "qMUsdjPfU-lh"
      },
      "source": [
        "## Question 5: /15 pts\n",
        "\n",
        "In the cell below, compute the 4 label-based criteria we mentioned in Question 3.2 for the two new classifiers using the test data. (You don't have to copy the function down into this cell; just call it again here.) Use a threshold of 0.5. "
      ]
    },
    {
      "cell_type": "code",
      "execution_count": null,
      "metadata": {
        "id": "BWsf59jcU-li"
      },
      "outputs": [],
      "source": [
        "# Code for  Code for answering questions in the below cell\n",
        "\n",
        "#9 pts"
      ]
    },
    {
      "attachments": {},
      "cell_type": "markdown",
      "metadata": {
        "id": "kXXGvWDYU-lj"
      },
      "source": [
        "* How many of the test instances are respectively labeled positive by the two classifiers?\n",
        "\n",
        "**YOUR ANSWER:** [3 pts] \n",
        "\n",
        "* Among the classifiers in Questions 3 and 4, which one is the **best classifier** for classifying Drug? Explain the possible reason in one or two sentences.\n",
        "\n",
        "**YOUR ANSWER:** [3 pts] "
      ]
    },
    {
      "cell_type": "markdown",
      "metadata": {
        "id": "BtWayoFDU-lk"
      },
      "source": [
        "## Question 6: /14 pts\n",
        "In the cell below, predict the class coding your own sigmoid function (do NOT use  the predict function from sklear). Compare the first 5 rows using the three models constructed in question 4 and question 5."
      ]
    },
    {
      "cell_type": "code",
      "execution_count": 37,
      "metadata": {
        "id": "5zYNJn57U-ll"
      },
      "outputs": [],
      "source": [
        "# Your code here\n",
        "\n",
        "#8 pts"
      ]
    },
    {
      "cell_type": "markdown",
      "metadata": {
        "id": "0HUOZPnzU-ln"
      },
      "source": [
        "* Is the probability given by the sigmoid function the probability of a case being negative?\n",
        "\n",
        "**YOUR ANSWER:**[3pts] \n",
        "\n",
        "* By just looking over the first 5 cases, how does the probabilities obtained from the two classifiers in Question 4 changes? Does the change of probability actually change the classification results for the first 5 cases?\n",
        "\n",
        "**YOUR ANSWER:**[3pts] "
      ]
    },
    {
      "attachments": {},
      "cell_type": "markdown",
      "metadata": {
        "id": "08R44Tq-U-lo"
      },
      "source": [
        "# Question 7: /7 pts\n",
        "\n",
        "Plot ROC curves for all of your classifiers using the cells below, then answer the following questions, computing whatever quantities you need to answer them."
      ]
    },
    {
      "cell_type": "code",
      "execution_count": null,
      "metadata": {
        "id": "IGol7oXQ51Eo"
      },
      "outputs": [],
      "source": [
        "# Your code here\n",
        "\n",
        "\n",
        "#6 pts"
      ]
    },
    {
      "attachments": {},
      "cell_type": "markdown",
      "metadata": {
        "id": "XS6tI4eaU-lp"
      },
      "source": [
        "* Which classifier has a highest estimated probability of correctly distinguishing between a positive and a negative instance? How do you know?\n",
        "\n",
        "**YOUR ANSWER:** [1 pts] \n"
      ]
    },
    {
      "attachments": {},
      "cell_type": "markdown",
      "metadata": {},
      "source": [
        "# Question 8: /11 pts\n",
        "\n",
        "Multiclass Logistic Regression\n",
        "\n",
        "In the classification lab, we trained a binary LR classifier using the _mnist_ dataset to discriminate entries which were equal to 5 from the rest. This time you have 10 classes i.e., 0, 1, 2, 3, 4, 5, 6, 7, 8, and 9. Use the same dataset and `SGDClassifier` to tain a multiclass logistic regression model with `l2` regularization. For training, include these arguments too: `max_iter=2000`, `tol=1e-3`, `random_state=seed`. For computation speed-up, some `sklearn` functions take the argument `n_jobs=N` to run in parallel. A good value for N can be the number of physical CPU cores that your machine possesses. Check the documentations of the functions to take advantage from this where applicable. For splitting the data use `test_size=0.5` and `random_state=seed`.\n",
        "\n",
        "Put your classifier and the `StandardScaler()` into a pipeline using `make_pipeline`. Therefore, your final model will be a pipeline that always standardizes the data before feeding it to the classifier. Use the `classification_report` to report the performance of your final model (*i.e.*, the pipeline) over the **test set**.\n",
        "\n"
      ]
    },
    {
      "cell_type": "code",
      "execution_count": null,
      "metadata": {},
      "outputs": [],
      "source": [
        "# code here\n",
        "\n",
        "#9 pts"
      ]
    },
    {
      "attachments": {},
      "cell_type": "markdown",
      "metadata": {},
      "source": [
        "Let's see how the model generalizes to new data.\n",
        "\n",
        "You can run the cell below to see how well your model can recognize a digit written by the mouse cursor. Set the `final_model` variable according to the name choses for your pipeline, run the cell, draw on the pop-up canvas, and once you close the canvas you will see the result.\n",
        "\n",
        "This code will not work on headless servers such as Colab. You need to install the `tk-tools` package and run it locally."
      ]
    },
    {
      "cell_type": "code",
      "execution_count": null,
      "metadata": {},
      "outputs": [],
      "source": [
        "final_model =   # here use the name of your pipeline\n",
        "\n",
        "#!pip install tk-tools\n",
        "from tkinter import *\n",
        "import tkinter as tk\n",
        "from PIL import Image\n",
        "import io\n",
        "import matplotlib as mpl\n",
        "\n",
        "temp_file_name=\"TEMP_image_TEMP.jpg\"\n",
        "\n",
        "app = Tk()\n",
        "app.geometry(\"300x300\")\n",
        "\n",
        "canvas = tk.Canvas(app, bg='white')\n",
        "canvas.pack(anchor='nw', fill='both', expand=1)\n",
        "\n",
        "def get_x_and_y(event):\n",
        "    global lasx, lasy\n",
        "    lasx, lasy = event.x, event.y\n",
        "\n",
        "def draw_smth(event):\n",
        "    global lasx, lasy\n",
        "    canvas.create_line((lasx, lasy, event.x, event.y), fill='red', width=3.5)\n",
        "    lasx, lasy = event.x, event.y\n",
        "    ps = canvas.postscript(colormode = 'color')\n",
        "    img = Image.open(io.BytesIO(ps.encode('utf-8')))\n",
        "    img.save(temp_file_name)\n",
        "\n",
        "canvas.bind(\"<Button-1>\", get_x_and_y)\n",
        "canvas.bind(\"<B1-Motion>\", draw_smth)\n",
        "\n",
        "app.mainloop()\n",
        "\n",
        "img = Image.open(temp_file_name)\n",
        "#resize image to 28x28 pixels\n",
        "img = img.resize((28,28))\n",
        "#convert rgb to grayscale\n",
        "img = img.convert(\"L\")\n",
        "img = np.array(img)\n",
        "img = 255.0 - img\n",
        "print(\"Your input:\")\n",
        "plt.imshow(img, cmap = mpl.cm.binary); plt.axis(\"off\")\n",
        "plt.show()\n",
        "\n",
        "# reshaping to support our model input\n",
        "img = np.reshape(img, 28*28)\n",
        "#predicting the class\n",
        "print('Input recognized as ' + str(final_model.predict([img])[0])+'.')"
      ]
    },
    {
      "attachments": {},
      "cell_type": "markdown",
      "metadata": {},
      "source": [
        "* Despite showing great scores in training and testing stages, why your model does not generalize well to new data?"
      ]
    },
    {
      "attachments": {},
      "cell_type": "markdown",
      "metadata": {},
      "source": [
        "**YOUR ANSWER:** [2 pts]\n"
      ]
    }
  ],
  "metadata": {
    "colab": {
      "provenance": []
    },
    "kernelspec": {
      "display_name": "Python 3",
      "language": "python",
      "name": "python3"
    },
    "language_info": {
      "codemirror_mode": {
        "name": "ipython",
        "version": 3
      },
      "file_extension": ".py",
      "mimetype": "text/x-python",
      "name": "python",
      "nbconvert_exporter": "python",
      "pygments_lexer": "ipython3",
      "version": "3.8.8"
    },
    "latex_envs": {
      "LaTeX_envs_menu_present": true,
      "autoclose": false,
      "autocomplete": true,
      "bibliofile": "biblio.bib",
      "cite_by": "apalike",
      "current_citInitial": 1,
      "eqLabelWithNumbers": true,
      "eqNumInitial": 1,
      "hotkeys": {
        "equation": "Ctrl-E",
        "itemize": "Ctrl-I"
      },
      "labels_anchors": false,
      "latex_user_defs": false,
      "report_style_numbering": false,
      "user_envs_cfg": false
    },
    "toc": {
      "base_numbering": 1,
      "nav_menu": {},
      "number_sections": true,
      "sideBar": true,
      "skip_h1_title": false,
      "title_cell": "Table of Contents",
      "title_sidebar": "Contents",
      "toc_cell": false,
      "toc_position": {},
      "toc_section_display": true,
      "toc_window_display": false
    },
    "varInspector": {
      "cols": {
        "lenName": 16,
        "lenType": 16,
        "lenVar": 40
      },
      "kernels_config": {
        "python": {
          "delete_cmd_postfix": "",
          "delete_cmd_prefix": "del ",
          "library": "var_list.py",
          "varRefreshCmd": "print(var_dic_list())"
        },
        "r": {
          "delete_cmd_postfix": ") ",
          "delete_cmd_prefix": "rm(",
          "library": "var_list.r",
          "varRefreshCmd": "cat(var_dic_list()) "
        }
      },
      "types_to_exclude": [
        "module",
        "function",
        "builtin_function_or_method",
        "instance",
        "_Feature"
      ],
      "window_display": false
    }
  },
  "nbformat": 4,
  "nbformat_minor": 0
}
