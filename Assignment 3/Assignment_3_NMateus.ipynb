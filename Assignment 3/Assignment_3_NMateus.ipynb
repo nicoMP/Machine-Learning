{
  "cells": [
    {
      "cell_type": "markdown",
      "metadata": {
        "id": "9aKr4SC0U-kn"
      },
      "source": [
        "# Assignment 3: Classification with Logistic Regression\n",
        "\n",
        "# Total: /100\n",
        "\n",
        "## Instructions\n",
        "\n",
        "* Complete the assignment\n",
        "\n",
        "* Once the notebook is complete, restart your kernel and rerun your cells\n",
        "\n",
        "* Submit this notebook to owl by the deadline\n",
        "\n",
        "* You may use any python library functions you wish to complete the assignment.\n",
        "\n",
        "## The Dataset\n",
        "\n",
        "The goal of our classifier is to predict, using a logistic regression, if a patient may take a certain drug.\n",
        "\n",
        "The dataset contains both numerical and categorical input variables, while the response variable ('Drug') has multiple levels. To simplify our analysis here, we focus on predicting if a patient may take \"Drug-Y\"."
      ]
    },
    {
      "cell_type": "code",
      "execution_count": 1,
      "metadata": {
        "id": "oYk5_SCPU-kw"
      },
      "outputs": [],
      "source": [
        "# You may need these\n",
        "import pandas as pd\n",
        "import numpy as np\n",
        "import seaborn as sns\n",
        "from sklearn.model_selection import train_test_split\n",
        "from sklearn.linear_model import LogisticRegression, SGDClassifier\n",
        "from sklearn.metrics import confusion_matrix, roc_curve, precision_recall_curve, auc, classification_report\n",
        "from sklearn.preprocessing import StandardScaler\n",
        "from sklearn.pipeline import make_pipeline\n",
        "import matplotlib.pyplot as plt\n",
        "from sklearn.datasets import fetch_openml # a helper function to download popular datasets\n",
        "mnist = fetch_openml('mnist_784', version=1, as_frame=False)\n",
        "seed=0\n",
        "%matplotlib inline"
      ]
    },
    {
      "cell_type": "markdown",
      "metadata": {
        "id": "axyFmaF8U-kz"
      },
      "source": [
        "## Question 1: /18 pts"
      ]
    },
    {
      "cell_type": "markdown",
      "metadata": {
        "id": "Gm0M4J0WU-k3"
      },
      "source": [
        "1. Read in the `drug.csv` dataset and display the first 5 rows.\n",
        "2. Print out all columns in the dataset and list categorical variables. Use the build-in function `get_dummies()` to convert all categorical variables (**exclude Drug variable**) to dummy variables. You may read the official explanations for more information on `get_dummies()` [here](https://pandas.pydata.org/docs/reference/api/pandas.get_dummies.html). What's the size of the dataframe after transforming it?\n",
        "3. Map the target values from yes/no to 1/0. What is the baseline accuracy for this classification problem? Round into 1 decimal place (for example, 50.1% or 0.501)."
      ]
    },
    {
      "cell_type": "markdown",
      "metadata": {
        "id": "2cNADOoXU-k6"
      },
      "source": [
        "1.1 Read the dataset and display the first 8 rows, and print out all columns in the dataset and **list** all categorical variables in the answer part."
      ]
    },
    {
      "cell_type": "code",
      "execution_count": 2,
      "metadata": {
        "colab": {
          "base_uri": "https://localhost:8080/"
        },
        "id": "wAV0h1zoU-k8",
        "outputId": "8024c9f2-ef80-42b6-a479-ccfd89e2e4a3"
      },
      "outputs": [
        {
          "name": "stdout",
          "output_type": "stream",
          "text": [
            "   Age  Sex      BP Cholesterol  Na_to_K   Drug\n",
            "0   23    F    HIGH        HIGH   25.355  DrugY\n",
            "1   47    M     LOW        HIGH   13.093  DrugY\n",
            "2   47    M     LOW        HIGH   10.114  DrugY\n",
            "3   28    F  NORMAL        HIGH    7.798  drugX\n",
            "4   61    F     LOW        HIGH   18.043  DrugY\n",
            "5   22    F  NORMAL        HIGH    8.607  drugX\n",
            "6   49    F  NORMAL        HIGH   16.275  DrugY\n",
            "7   41  NaN     LOW        HIGH   11.037  drugC\n",
            "Index(['Age', 'Sex', 'BP', 'Cholesterol', 'Na_to_K', 'Drug'], dtype='object')\n"
          ]
        }
      ],
      "source": [
        "# Question 1.1 code here\n",
        "x = pd.read_csv(\"/content/drug.csv\")\n",
        "print(x[0:8])\n",
        "print(x.columns)\n",
        "#5 pts"
      ]
    },
    {
      "cell_type": "markdown",
      "metadata": {
        "id": "yL9tqfndpRbI"
      },
      "source": [
        "**YOUR ANSWER HERE:** [1pt] "
      ]
    },
    {
      "cell_type": "code",
      "execution_count": 3,
      "metadata": {
        "id": "HmYB6vbUeXbX"
      },
      "outputs": [],
      "source": [
        "# Sex, BP, Cholesterol, and drug are all categorical variabls"
      ]
    },
    {
      "cell_type": "markdown",
      "metadata": {
        "id": "S2W98Z97mfxI"
      },
      "source": [
        "1.2 Check that is any there missing value in each column of the dataset.  "
      ]
    },
    {
      "cell_type": "code",
      "execution_count": 4,
      "metadata": {
        "colab": {
          "base_uri": "https://localhost:8080/"
        },
        "id": "GLp-EpaFnIYm",
        "outputId": "cf8347ed-11fb-4735-bcbc-1151f382e276"
      },
      "outputs": [
        {
          "data": {
            "text/plain": [
              "Age            0\n",
              "Sex            3\n",
              "BP             0\n",
              "Cholesterol    0\n",
              "Na_to_K        0\n",
              "Drug           0\n",
              "dtype: int64"
            ]
          },
          "execution_count": 4,
          "metadata": {},
          "output_type": "execute_result"
        }
      ],
      "source": [
        "# Question 1.2 code here\n",
        "x.isna().sum()\n",
        "#2 pts"
      ]
    },
    {
      "cell_type": "markdown",
      "metadata": {
        "id": "YTIk_tnonYFR"
      },
      "source": [
        "1.3 Replace all the missing values in **Sex** to be 'M'."
      ]
    },
    {
      "cell_type": "code",
      "execution_count": 5,
      "metadata": {
        "id": "J6s1do3KoOmU"
      },
      "outputs": [],
      "source": [
        "# Question 1.3 code here\n",
        "x = x.fillna('M')\n",
        "#2 pts"
      ]
    },
    {
      "cell_type": "markdown",
      "metadata": {
        "id": "3UXEH2aKU-k-"
      },
      "source": [
        "1.4 Use the build-in function `get_dummies()` to convert all categorical variables (**excluding `Drug` variable**) to dummy variables. What's the size of the dataframe after transforming?"
      ]
    },
    {
      "cell_type": "code",
      "execution_count": 6,
      "metadata": {
        "colab": {
          "base_uri": "https://localhost:8080/"
        },
        "id": "J-dsj9mrU-lA",
        "outputId": "61185a61-f6f4-40bd-cd46-c773873b9236",
        "scrolled": true
      },
      "outputs": [
        {
          "name": "stdout",
          "output_type": "stream",
          "text": [
            "The size of the data after transform is  200  rows\n"
          ]
        }
      ],
      "source": [
        "# Question 1.4 code here\n",
        "dummies = pd.get_dummies(x.drop(columns=\"Drug\", axis='columns'))\n",
        "print(\"The size of the data after transform is \", len(dummies), \" rows\")\n",
        "#2 pts"
      ]
    },
    {
      "cell_type": "markdown",
      "metadata": {
        "id": "krlMrqnIU-lK"
      },
      "source": [
        "**YOUR ANSWER HERE:** [1pt] "
      ]
    },
    {
      "cell_type": "markdown",
      "metadata": {
        "id": "DbsurWVJq7IY"
      },
      "source": [
        "1.5 Transform all the labels that are 'DrugY' in **`Drug`** to be value 1, otherwise, to be 0. Then transform the type of **`Drug`** to be 'int'.\n"
      ]
    },
    {
      "cell_type": "code",
      "execution_count": 7,
      "metadata": {
        "id": "XeNDEYoxrkZr"
      },
      "outputs": [],
      "source": [
        "# Question 1.5 code here\n",
        "DrugY = x\n",
        "DrugY['Drug'] = x['Drug'].replace(['DrugY', 'drugX', 'drugA', 'drugB', 'drugC'], [1,0,0,0,0])\n",
        "DrugY['Drug'] = DrugY['Drug'].astype('int')\n",
        "\n",
        "#2 pts"
      ]
    },
    {
      "cell_type": "markdown",
      "metadata": {
        "id": "0LORXe5nU-lL"
      },
      "source": [
        "1.6. What is the baseline accuracy for this classification problem? Round into 1 decimal place (for example, 0.2)."
      ]
    },
    {
      "cell_type": "code",
      "execution_count": 8,
      "metadata": {
        "colab": {
          "base_uri": "https://localhost:8080/"
        },
        "id": "1tDl3SaGU-lL",
        "outputId": "a117a61f-b223-48cd-c8c1-1817bbb8b7c9"
      },
      "outputs": [
        {
          "data": {
            "text/plain": [
              "51.0"
            ]
          },
          "execution_count": 8,
          "metadata": {},
          "output_type": "execute_result"
        }
      ],
      "source": [
        "# Your code here\n",
        "blA = DrugY['Drug'].sum()/len(DrugY)*100\n",
        "blA.round(1)\n",
        "#2 pts"
      ]
    },
    {
      "cell_type": "markdown",
      "metadata": {
        "id": "GpiZmxAtU-lQ"
      },
      "source": [
        "**YOUR ANSWER HERE:** [1pt] "
      ]
    },
    {
      "cell_type": "markdown",
      "metadata": {
        "id": "svT8YoBjU-lR"
      },
      "source": [
        "## Question 2: /7 pts\n",
        "\n",
        "Split the data into train and test for the outcome/response and the predictor variables. Hold out 25% of observations as the test set.  Pass `random_state=11` to `train_test_split` to ensure you get the same train and tests sets as the solution. Your dependent variable in the the dataset is named as `Drug`. How many patients who take \"DrugY\" in the train dataset and test dataset, respectively?"
      ]
    },
    {
      "cell_type": "code",
      "execution_count": 9,
      "metadata": {
        "colab": {
          "base_uri": "https://localhost:8080/"
        },
        "id": "ZabWhfKqU-lS",
        "outputId": "cb468d19-8d2d-4df8-cec9-91830ba85f98"
      },
      "outputs": [
        {
          "name": "stdout",
          "output_type": "stream",
          "text": [
            "Number of Users in test =  26\n",
            "Number of Users in train =  76\n"
          ]
        }
      ],
      "source": [
        "# Question 2 code here.\n",
        "X_train, X_test, y_train, y_test = train_test_split(dummies,DrugY['Drug'], random_state=11, test_size= 0.25)\n",
        "print(\"Number of Users in test = \", y_test.sum())\n",
        "print('Number of Users in train = ', y_train.sum())\n",
        "# Don't use the \"Drug\" as a feature\n",
        "\n",
        "#6 pts correct code"
      ]
    },
    {
      "cell_type": "markdown",
      "metadata": {
        "id": "04g5eqFb4UHe"
      },
      "source": [
        "**YOUR ANSWER HERE:** [1pt] "
      ]
    },
    {
      "cell_type": "markdown",
      "metadata": {
        "id": "ZUKW_K_hrz9G"
      },
      "source": [
        "Number of Users in test =  26\n",
        "\n",
        "Number of Users in train =  76"
      ]
    },
    {
      "cell_type": "markdown",
      "metadata": {
        "id": "o-NwTJR2U-lU"
      },
      "source": [
        "## Question 3: /20 pts"
      ]
    },
    {
      "cell_type": "markdown",
      "metadata": {
        "id": "OrQkrgnKU-lV"
      },
      "source": [
        "3.1 Create a instance of sklearn's `LogisticRegression` object for **unpenalized** logistic regression.\n",
        "Using this object, **run a logisitic regression analysis** of `Drug` (y-variable) against `Age` and `Na_to_K` (x-variables) using your training data. Report the parameters (variables and intercept) of your model as indicated with the `print` function."
      ]
    },
    {
      "cell_type": "code",
      "execution_count": 10,
      "metadata": {
        "colab": {
          "base_uri": "https://localhost:8080/"
        },
        "id": "upgKwmOMU-lV",
        "outputId": "e50af42c-a9bb-4d64-9fbb-a3bbf6adf657"
      },
      "outputs": [
        {
          "name": "stdout",
          "output_type": "stream",
          "text": [
            "Intercept :  -8.72\n",
            "Variables :  [-0.0109  0.6575]\n"
          ]
        }
      ],
      "source": [
        "# Question 3 code here\n",
        "AgeNaK = X_train[['Age', 'Na_to_K']]\n",
        "regAgeNaK = LogisticRegression(penalty='none').fit(AgeNaK,y_train)\n",
        "print(\"Intercept : \",regAgeNaK.intercept_[0].round(4))\n",
        "print(\"Variables : \", regAgeNaK.coef_[0].round(4))\n",
        "#10 pts "
      ]
    },
    {
      "cell_type": "markdown",
      "metadata": {
        "id": "kheT1mJBU-lY"
      },
      "source": [
        "3.2 Compute 4 label-based criteria, namely, 'Accuracy', 'Precision', 'Sensitivity' and 'Specificity' for your two variables only classifier **using the test data** (Round into 4 decimal place). Use a threshold of 0.5. Answer the questions in this text box below."
      ]
    },
    {
      "cell_type": "code",
      "execution_count": 11,
      "metadata": {
        "colab": {
          "base_uri": "https://localhost:8080/"
        },
        "id": "YeCznyblU-la",
        "outputId": "c05e2144-4173-4ad5-cc89-6cb644736f4e"
      },
      "outputs": [
        {
          "name": "stdout",
          "output_type": "stream",
          "text": [
            "tp: 25 tn: 22 fp: 2 fn: 1\n",
            "Accuracy: 0.94 Recall: 0.962 Precision: 0.926 Sensitivity: 0.962 Specificity: 0.917\n"
          ]
        }
      ],
      "source": [
        "\n",
        "## Put code here to compute criteria:\n",
        "twoV_test = X_test[['Age','Na_to_K']]\n",
        "\n",
        "#predLabel = regAgeNaK.predict(twoV_test)\n",
        "#matrix = confusion_matrix(y_test,predLabel)\n",
        "#trueNeg = matrix[1][1]\n",
        "#truePos = matrix[0][0]\n",
        "#sumCorrect = matrix[0][0]+matrix[1][1]\n",
        "#classNeg = matrix[0][1] + matrix[1][1]\n",
        "#classPos = matrix[0][0] + matrix[1][0]\n",
        "#predPos = sum(matrix[0])\n",
        "\n",
        "#accuracy = np.round(sumCorrect/len(predLabel),4)\n",
        "#precision = np.round(truePos/predPos,4)\n",
        "#sensitivity = np.round((truePos)/classPos, 4)\n",
        "#specifity =  np.round((trueNeg/classNeg),4)\n",
        "#print(\"Accuracy = \", accuracy)\n",
        "#print('Preciscion = ', precision)\n",
        "#print(\"Sensitivity = \", sensitivity)\n",
        "#print(\"Specifity = \", specifity)\n",
        "\n",
        "##from lab had own code but tas was much cleaner\n",
        "def compute_performance(yhat, y, classes):\n",
        "    \n",
        "    # First, get tp, tn, fp, fn\n",
        "    tp = sum(np.logical_and(yhat == classes[1], y == classes[1]))\n",
        "    tn = sum(np.logical_and(yhat == classes[0], y == classes[0]))\n",
        "    fp = sum(np.logical_and(yhat == classes[1], y == classes[0]))\n",
        "    fn = sum(np.logical_and(yhat == classes[0], y == classes[1]))\n",
        "\n",
        "    print(f\"tp: {tp} tn: {tn} fp: {fp} fn: {fn}\")\n",
        "    \n",
        "    # Accuracy\n",
        "    acc = (tp + tn) / (tp + tn + fp + fn)\n",
        "    \n",
        "    # Precision\n",
        "    # \"Of the ones I labeled +, how many are actually +?\"\n",
        "    precision = tp / (tp + fp)\n",
        "    \n",
        "    # Recall\n",
        "    # \"Of all the + in the data, how many do I correctly label?\"\n",
        "    recall = tp / (tp + fn)    \n",
        "    \n",
        "    # Sensitivity\n",
        "    # \"Of all the + in the data, how many do I correctly label?\"\n",
        "    sensitivity = recall\n",
        "    \n",
        "    # Specificity\n",
        "    # \"Of all the - in the data, how many do I correctly label?\"\n",
        "    specificity = tn / (fp + tn)\n",
        "    \n",
        "    # Print results\n",
        "    \n",
        "    print(\"Accuracy:\",round(acc,3),\"Recall:\",round(recall,3),\"Precision:\",round(precision,3),\n",
        "          \"Sensitivity:\",round(sensitivity,3),\"Specificity:\",round(specificity,3))\n",
        "predProb = regAgeNaK.predict_proba(twoV_test)\n",
        "yhatD = regAgeNaK.classes_[(predProb[:,1] > 0.5).astype(int)]\n",
        "compute_performance(yhatD, y_test, regAgeNaK.classes_)\n",
        "#5 pts"
      ]
    },
    {
      "cell_type": "code",
      "execution_count": 12,
      "metadata": {
        "id": "RVHdh8JPU-lb"
      },
      "outputs": [],
      "source": [
        "## Put the code you need to answer the following questions.\n",
        "## derived from above\n",
        "#2 pts"
      ]
    },
    {
      "cell_type": "markdown",
      "metadata": {
        "id": "ZUGuT8L1U-lb"
      },
      "source": [
        "* How many of the test instances are labeled positive by your classifier?\n",
        "  \n",
        "  Positive Predictions 23 \n",
        "\n",
        "* Does this classifier reach the baseline accuracy?\n",
        "\n",
        "  Yes it surpasses it by quite a bit\n",
        "\n",
        "* Is this classifier useful for classifying drug-Y? Explain in one or two sentences using the performance matrix results.\n",
        " \n",
        "  Id argue that it is useful, as it classified the majority of the test data correctly, with high rates in the label criteria. it has an accuracy that surpases the baseline \n",
        "\n",
        "   "
      ]
    },
    {
      "cell_type": "markdown",
      "metadata": {
        "id": "9mq1cndaU-lc"
      },
      "source": [
        "## Question 4: /8 pts\n",
        "Now with default penalty method, fit two logistic regression models using tuning parameter $C=0.1$ and $C=1$ to the training data and include all the variables in the data frame (except for `Drug`) in the cell below. You will want to make new objects like you did for the simpler model. Print the parameters (variables and intercept) you obtain, respectively."
      ]
    },
    {
      "cell_type": "code",
      "execution_count": 13,
      "metadata": {
        "colab": {
          "base_uri": "https://localhost:8080/"
        },
        "id": "BiH4XfJHU-le",
        "outputId": "9538982f-d74a-4d41-d71a-6bb76e2bcc3d"
      },
      "outputs": [
        {
          "name": "stdout",
          "output_type": "stream",
          "text": [
            "C = 0.1 intercepts: -7.9564  variables: [-0.0131  0.6028 -0.113   0.1131 -0.2419  0.3655 -0.1236  0.2376 -0.2375]\n",
            "C = 1 intercepts: -9.925618348731234  variables: [-0.0252  0.7757 -0.2607  0.2607 -0.721   1.1849 -0.4639  0.6653 -0.6653]\n"
          ]
        }
      ],
      "source": [
        "# Code for Question 4\n",
        "decimalReg = LogisticRegression(C=0.1).fit(X_train,y_train)\n",
        "wholeReg = LogisticRegression(C=1).fit(X_train,y_train)\n",
        "print(\"C = 0.1 intercepts:\", decimalReg.intercept_[0].round(4), ' variables:', decimalReg.coef_[0].round(4))\n",
        "\n",
        "print(\"C = 1 intercepts:\", wholeReg.intercept_[0], ' variables:', wholeReg.coef_[0].round(4))\n",
        "\n",
        "#7 pts"
      ]
    },
    {
      "cell_type": "markdown",
      "metadata": {
        "id": "3Jc2UNoYnGhD"
      },
      "source": [
        "* Describe the differences between the fitted model parameters obtained from the two models here.\n",
        "\n",
        "  The difference is that the second model has lower regulization as C set the inverse strength of regulization."
      ]
    },
    {
      "cell_type": "markdown",
      "metadata": {
        "id": "qMUsdjPfU-lh"
      },
      "source": [
        "## Question 5: /15 pts\n",
        "\n",
        "In the cell below, compute the 4 label-based criteria we mentioned in Question 3.2 for the two new classifiers using the test data. (You don't have to copy the function down into this cell; just call it again here.) Use a threshold of 0.5. "
      ]
    },
    {
      "cell_type": "code",
      "execution_count": 14,
      "metadata": {
        "colab": {
          "base_uri": "https://localhost:8080/"
        },
        "id": "BWsf59jcU-li",
        "outputId": "94808d06-e74f-4055-814a-60bb7b92ce0c"
      },
      "outputs": [
        {
          "name": "stdout",
          "output_type": "stream",
          "text": [
            "C = 0.1\n",
            "tp: 25 tn: 24 fp: 0 fn: 1\n",
            "Accuracy: 0.98 Recall: 0.962 Precision: 1.0 Sensitivity: 0.962 Specificity: 1.0\n",
            "C = 1\n",
            "tp: 24 tn: 24 fp: 0 fn: 2\n",
            "Accuracy: 0.96 Recall: 0.923 Precision: 1.0 Sensitivity: 0.923 Specificity: 1.0\n",
            "Common positives  24\n"
          ]
        }
      ],
      "source": [
        "# Code for  Code for answering questions in the below cell\n",
        "decProb = decimalReg.predict_proba(X_test)\n",
        "wholeProb = wholeReg.predict_proba(X_test)\n",
        "decD = decimalReg.classes_[(decProb[:,1] > 0.5).astype(int)]\n",
        "wholeD = wholeReg.classes_[(wholeProb[:,1] > 0.5).astype(int)]\n",
        "print(\"C = 0.1\")\n",
        "compute_performance(decD,y_test, decimalReg.classes_)\n",
        "print(\"C = 1\")\n",
        "compute_performance(wholeD,y_test, wholeReg.classes_)\n",
        "\n",
        "totalCommonPos = sum((decimalReg.predict(X_test)==1) * (wholeReg.predict(X_test)==1))\n",
        "print(\"Common positives \",totalCommonPos)\n",
        "#9 pts"
      ]
    },
    {
      "cell_type": "markdown",
      "metadata": {
        "id": "kXXGvWDYU-lj"
      },
      "source": [
        "* How many of the test instances are respectively labeled positive by the two classifiers?\n",
        "\n",
        "Common positives  24 \n",
        "\n",
        "* Among the classifiers in Questions 3 and 4, which one is the **best classifier** for classifying Drug? Explain the possible reason in one or two sentences.\n",
        "\n",
        "With a 0.5 threshold I believe C = 0.1 is the best suited. As the none penalty ones its ability to predict all the negatives in the test. While the C = 1 model  struggles to get all the positives in the Test data. While both have almost every other metric lower or equl to the C= 0.1 model."
      ]
    },
    {
      "cell_type": "markdown",
      "metadata": {
        "id": "BtWayoFDU-lk"
      },
      "source": [
        "## Question 6: /14 pts\n",
        "In the cell below, predict the class coding your own sigmoid function (do NOT use  the predict function from sklear). Compare the first 5 rows using the three models constructed in question 4 and question 5."
      ]
    },
    {
      "cell_type": "code",
      "execution_count": 15,
      "metadata": {
        "colab": {
          "base_uri": "https://localhost:8080/"
        },
        "id": "5zYNJn57U-ll",
        "outputId": "c4937b0c-f207-4432-ad71-8909abb52373"
      },
      "outputs": [
        {
          "name": "stdout",
          "output_type": "stream",
          "text": [
            "[[7.64456779e-01 2.35543221e-01]\n",
            " [5.46385949e-05 9.99945361e-01]\n",
            " [5.63836104e-02 9.43616390e-01]\n",
            " [9.44101698e-01 5.58983018e-02]\n",
            " [4.12698100e-05 9.99958730e-01]]\n",
            "[[9.00832797e-01 9.91672027e-02]\n",
            " [9.96926764e-06 9.99990031e-01]\n",
            " [2.11186998e-02 9.78881300e-01]\n",
            " [9.79027263e-01 2.09727370e-02]\n",
            " [1.54277643e-06 9.99998457e-01]]\n",
            "        0\n",
            "174  0.24\n",
            "33   1.00\n",
            "173  0.94\n",
            "186  0.06\n",
            "22   1.00\n",
            "        0\n",
            "174  0.10\n",
            "33   1.00\n",
            "173  0.98\n",
            "186  0.02\n",
            "22   1.00\n"
          ]
        }
      ],
      "source": [
        "# Your code here\n",
        "sigmoid = lambda x: 1 / (1 + np.exp(-x));\n",
        "\n",
        "decPredSig = sigmoid(decimalReg.intercept_ + X_test@decimalReg.coef_.T).round(2)\n",
        "wholePredSig = sigmoid(wholeReg.intercept_ + X_test@wholeReg.coef_.T).round(2)\n",
        "print(decProb[0:5])\n",
        "print(wholeProb[0:5])\n",
        "print( decPredSig[:5])\n",
        "print(wholePredSig[:5])\n",
        "#8 pts"
      ]
    },
    {
      "cell_type": "markdown",
      "metadata": {
        "id": "0HUOZPnzU-ln"
      },
      "source": [
        "* Is the probability given by the sigmoid function the probability of a case being negative?\n",
        "\n",
        "  A case is negative when the probability is less than 0.5\n",
        "\n",
        "* By just looking over the first 5 cases, how does the probabilities obtained from the two classifiers in Question 4 changes? Does the change of probability actually change the classification results for the first 5 cases?\n",
        "\n",
        "  With the probability in question 4 they stay relatively the same with some being lower or higher usualy by 0.001 at most. No in the first 5 cases the classification would still be the same"
      ]
    },
    {
      "cell_type": "markdown",
      "metadata": {
        "id": "08R44Tq-U-lo"
      },
      "source": [
        "# Question 7: /7 pts\n",
        "\n",
        "Plot ROC curves for all of your classifiers using the cells below, then answer the following questions, computing whatever quantities you need to answer them."
      ]
    },
    {
      "cell_type": "code",
      "execution_count": 16,
      "metadata": {
        "colab": {
          "base_uri": "https://localhost:8080/",
          "height": 312
        },
        "id": "IGol7oXQ51Eo",
        "outputId": "6f8a5c87-ba94-44fd-fd61-c6c2a855434b"
      },
      "outputs": [
        {
          "data": {
            "text/plain": [
              "<matplotlib.legend.Legend at 0x7ff8342d33d0>"
            ]
          },
          "execution_count": 16,
          "metadata": {},
          "output_type": "execute_result"
        },
        {
          "data": {
            "image/png": "[encoded data removed]",
            "text/plain": [
              "<Figure size 432x288 with 1 Axes>"
            ]
          },
          "metadata": {
            "needs_background": "light"
          },
          "output_type": "display_data"
        }
      ],
      "source": [
        "# Your code here\n",
        "NaKfpr, NaKtpr, _ = roc_curve(y_test, predProb[:,1], pos_label=regAgeNaK.classes_[1])\n",
        "decfpr, dectpr, _ = roc_curve(y_test, decProb[:,1], pos_label=decimalReg.classes_[1])\n",
        "wholefpr, wholetpr, _ = roc_curve(y_test, wholeProb[:,1], pos_label=wholeReg.classes_[1])\n",
        "ax = sns.lineplot(x = NaKfpr, y= NaKtpr)\n",
        "ax = sns.lineplot(x= decfpr, y = dectpr)\n",
        "ax = sns.lineplot(x= wholefpr,y=wholetpr)\n",
        "ax.set_xlabel(\"FP Rate\")\n",
        "ax.set_ylabel(\"TP Rate\")\n",
        "ax.set_title('ROC Curve')\n",
        "plt.legend(title='Classifier', loc='lower right', labels=['Age to NaK', 'Decimal C', 'Whole C'])\n",
        "#6 pts"
      ]
    },
    {
      "cell_type": "markdown",
      "metadata": {
        "id": "XS6tI4eaU-lp"
      },
      "source": [
        "* Which classifier has a highest estimated probability of correctly distinguishing between a positive and a negative instance? How do you know?\n",
        "\n",
        "  Probably decimal C as it has the highest in all the metrics.\n"
      ]
    },
    {
      "cell_type": "markdown",
      "metadata": {
        "id": "sJp8PEW2LkY6"
      },
      "source": [
        "# Question 8: /11 pts\n",
        "\n",
        "Multiclass Logistic Regression\n",
        "\n",
        "In the classification lab, we trained a binary LR classifier using the _mnist_ dataset to discriminate entries which were equal to 5 from the rest. This time you have 10 classes i.e., 0, 1, 2, 3, 4, 5, 6, 7, 8, and 9. Use the same dataset and `SGDClassifier` to tain a multiclass logistic regression model with `l2` regularization. For training, include these arguments too: `max_iter=2000`, `tol=1e-3`, `random_state=seed`. For computation speed-up, some `sklearn` functions take the argument `n_jobs=N` to run in parallel. A good value for N can be the number of physical CPU cores that your machine possesses. Check the documentations of the functions to take advantage from this where applicable. For splitting the data use `test_size=0.5` and `random_state=seed`.\n",
        "\n",
        "Put your classifier and the `StandardScaler()` into a pipeline using `make_pipeline`. Therefore, your final model will be a pipeline that always standardizes the data before feeding it to the classifier. Use the `classification_report` to report the performance of your final model (*i.e.*, the pipeline) over the **test set**.\n",
        "\n"
      ]
    },
    {
      "cell_type": "code",
      "execution_count": 17,
      "metadata": {
        "colab": {
          "base_uri": "https://localhost:8080/",
          "height": 248
        },
        "id": "ZFMB00UhLkY7",
        "outputId": "e794adf7-fb1c-45c7-bcde-ef8e8e6f1a54"
      },
      "outputs": [
        {
          "data": {
            "image/png": "[encoded data removed]",
            "text/plain": [
              "<Figure size 432x288 with 1 Axes>"
            ]
          },
          "metadata": {
            "needs_background": "light"
          },
          "output_type": "display_data"
        }
      ],
      "source": [
        "from sklearn import pipeline\n",
        "# code here\n",
        "import matplotlib as mpl\n",
        "X, y = mnist[\"data\"], mnist[\"target\"]\n",
        "def plot_digit(data):\n",
        "    image = data.reshape(28, 28)\n",
        "    plt.imshow(image, cmap = mpl.cm.binary,interpolation=\"nearest\")\n",
        "    plt.axis(\"off\")\n",
        "plot_digit(X[100])\n",
        "Xtrain, Xtest, ytrain, ytest = train_test_split(X, y.astype('int'), test_size=0.5, random_state=seed)\n",
        "sgd_model = SGDClassifier(penalty='l2', max_iter=2000, tol=1e-3,random_state=seed, n_jobs=4).fit(Xtrain,ytrain)\n",
        "\n",
        "#9 pts"
      ]
    },
    {
      "cell_type": "code",
      "execution_count": 18,
      "metadata": {
        "colab": {
          "base_uri": "https://localhost:8080/"
        },
        "id": "ZaeLWe7WoQze",
        "outputId": "8465000f-6a8f-400c-a1c7-272f52174a21"
      },
      "outputs": [
        {
          "name": "stdout",
          "output_type": "stream",
          "text": [
            "              precision    recall  f1-score   support\n",
            "\n",
            "           0       0.97      0.90      0.94      3535\n",
            "           1       0.95      0.97      0.96      3954\n",
            "           2       0.86      0.89      0.87      3475\n",
            "           3       0.83      0.88      0.85      3546\n",
            "           4       0.90      0.91      0.90      3386\n",
            "           5       0.63      0.91      0.74      3158\n",
            "           6       0.97      0.89      0.93      3389\n",
            "           7       0.87      0.94      0.90      3652\n",
            "           8       0.90      0.57      0.70      3392\n",
            "           9       0.90      0.80      0.85      3513\n",
            "\n",
            "    accuracy                           0.87     35000\n",
            "   macro avg       0.88      0.87      0.87     35000\n",
            "weighted avg       0.88      0.87      0.87     35000\n",
            "\n"
          ]
        }
      ],
      "source": [
        "scaleModel = StandardScaler().fit(Xtrain, ytrain)\n",
        "report = classification_report(ytest,sgd_model.predict(Xtest))\n",
        "pipeline = make_pipeline(scaleModel, sgd_model)\n",
        "print(report)"
      ]
    },
    {
      "cell_type": "markdown",
      "metadata": {
        "id": "OKd0SlfwLkY7"
      },
      "source": [
        "Let's see how the model generalizes to new data.\n",
        "\n",
        "You can run the cell below to see how well your model can recognize a digit written by the mouse cursor. Set the `final_model` variable according to the name choses for your pipeline, run the cell, draw on the pop-up canvas, and once you close the canvas you will see the result.\n",
        "\n",
        "This code will not work on headless servers such as Colab. You need to install the `tk-tools` package and run it locally."
      ]
    },
    {
      "cell_type": "code",
      "execution_count": null,
      "metadata": {
        "colab": {
          "base_uri": "https://localhost:8080/",
          "height": 351
        },
        "id": "sxvdfYxtLkY7",
        "outputId": "b63ba7f2-8f46-4401-fdb4-6bbda3c57062"
      },
      "outputs": [],
      "source": [
        "final_model = pipeline  # here use the name of your pipeline\n",
        "\n",
        "#!pip install tk-tools\n",
        "from tkinter import *\n",
        "import tkinter as tk\n",
        "from PIL import Image\n",
        "import io\n",
        "import matplotlib as mpl\n",
        "\n",
        "temp_file_name=\"TEMP_image_TEMP.jpg\"\n",
        "\n",
        "app = Tk()\n",
        "app.geometry(\"300x300\")\n",
        "\n",
        "canvas = tk.Canvas(app, bg='white')\n",
        "canvas.pack(anchor='nw', fill='both', expand=1)\n",
        "\n",
        "def get_x_and_y(event):\n",
        "    global lasx, lasy\n",
        "    lasx, lasy = event.x, event.y\n",
        "\n",
        "def draw_smth(event):\n",
        "    global lasx, lasy\n",
        "    canvas.create_line((lasx, lasy, event.x, event.y), fill='red', width=3.5)\n",
        "    lasx, lasy = event.x, event.y\n",
        "    ps = canvas.postscript(colormode = 'color')\n",
        "    img = Image.open(io.BytesIO(ps.encode('utf-8')))\n",
        "    img.save(temp_file_name)\n",
        "\n",
        "canvas.bind(\"<Button-1>\", get_x_and_y)\n",
        "canvas.bind(\"<B1-Motion>\", draw_smth)\n",
        "\n",
        "app.mainloop()\n",
        "\n",
        "img = Image.open(temp_file_name)\n",
        "#resize image to 28x28 pixels\n",
        "img = img.resize((28,28))\n",
        "#convert rgb to grayscale\n",
        "img = img.convert(\"L\")\n",
        "img = np.array(img)\n",
        "img = 255.0 - img\n",
        "print(\"Your input:\")\n",
        "plt.imshow(img, cmap = mpl.cm.binary); plt.axis(\"off\")\n",
        "plt.show()\n",
        "\n",
        "# reshaping to support our model input\n",
        "img = np.reshape(img, 28*28)\n",
        "#predicting the class\n",
        "print('Input recognized as ' + str(final_model.predict([img])[0])+'.')"
      ]
    },
    {
      "cell_type": "markdown",
      "metadata": {
        "id": "oX5xfT6kLkY8"
      },
      "source": [
        "* Despite showing great scores in training and testing stages, why your model does not generalize well to new data?"
      ]
    },
    {
      "cell_type": "markdown",
      "metadata": {
        "id": "W60Qphn3LkY8"
      },
      "source": [
        "\n",
        "\n",
        "```\n",
        "# This is formatted as code\n",
        "```\n",
        "If i had to guess its because it is analysing to many features, that are just the intensity of each pixel which makes it accurate only in respect to the test data.\n"
      ]
    }
  ],
  "metadata": {
    "colab": {
      "provenance": []
    },
    "kernelspec": {
      "display_name": "Python 3",
      "language": "python",
      "name": "python3"
    },
    "language_info": {
      "codemirror_mode": {
        "name": "ipython",
        "version": 3
      },
      "file_extension": ".py",
      "mimetype": "text/x-python",
      "name": "python",
      "nbconvert_exporter": "python",
      "pygments_lexer": "ipython3",
      "version": "3.9.7 (default, Oct 13 2021, 06:45:31) \n[Clang 13.0.0 (clang-1300.0.29.3)]"
    },
    "latex_envs": {
      "LaTeX_envs_menu_present": true,
      "autoclose": false,
      "autocomplete": true,
      "bibliofile": "biblio.bib",
      "cite_by": "apalike",
      "current_citInitial": 1,
      "eqLabelWithNumbers": true,
      "eqNumInitial": 1,
      "hotkeys": {
        "equation": "Ctrl-E",
        "itemize": "Ctrl-I"
      },
      "labels_anchors": false,
      "latex_user_defs": false,
      "report_style_numbering": false,
      "user_envs_cfg": false
    },
    "toc": {
      "base_numbering": 1,
      "nav_menu": {},
      "number_sections": true,
      "sideBar": true,
      "skip_h1_title": false,
      "title_cell": "Table of Contents",
      "title_sidebar": "Contents",
      "toc_cell": false,
      "toc_position": {},
      "toc_section_display": true,
      "toc_window_display": false
    },
    "varInspector": {
      "cols": {
        "lenName": 16,
        "lenType": 16,
        "lenVar": 40
      },
      "kernels_config": {
        "python": {
          "delete_cmd_postfix": "",
          "delete_cmd_prefix": "del ",
          "library": "var_list.py",
          "varRefreshCmd": "print(var_dic_list())"
        },
        "r": {
          "delete_cmd_postfix": ") ",
          "delete_cmd_prefix": "rm(",
          "library": "var_list.r",
          "varRefreshCmd": "cat(var_dic_list()) "
        }
      },
      "types_to_exclude": [
        "module",
        "function",
        "builtin_function_or_method",
        "instance",
        "_Feature"
      ],
      "window_display": false
    },
    "vscode": {
      "interpreter": {
        "hash": "aee8b7b246df8f9039afb4144a1f6fd8d2ca17a180786b69acc140d282b71a49"
      }
    }
  },
  "nbformat": 4,
  "nbformat_minor": 0
}
