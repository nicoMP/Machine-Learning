{
  "cells": [
    {
      "cell_type": "markdown",
      "metadata": {
        "id": "KS8_b7ZzQrOQ"
      },
      "source": [
        "# Grade: /100 pts\n",
        "\n",
        "# Assignment 05: Model Selection & Cross Validation\n",
        "\n",
        "In this assignment you will be using a #TidyTuesday dataset on Spotify songs to build a classification model for predicting Spotify song popularity.\n",
        "\n",
        "The dataset has already been preprocessed, and is ready to be used! \n",
        "\n",
        "The Spotify songs dataset has provided you with data for 30947 Spotify songs.  Your job: build a model or models, perform model selection using cross validation techniques, and evaluate your final selected model.\n",
        "\n",
        "### The Dataset\n",
        "\n",
        "The data is stored in a csv file called `spotify_pre.csv`.  The data includes some information about playlist genre, playlist subgenre, danceability, energy, key, loudness, mode, speechiness, acousticness, instrumentalness, liveness, valence, tempo, and duration. The target variable is `track_popularity`, which has two categories `high` and `low`.\n",
        "\n",
        "\n",
        "### Follow These Steps before submitting\n",
        "Once you are finished, ensure to complete the following steps.\n",
        "\n",
        "1.  Restart your kernel by clicking 'Kernel' > 'Restart & Run All'.\n",
        "\n",
        "2.  Fix any errors which result from this.\n",
        "\n",
        "3.  Repeat steps 1. and 2. until your notebook runs without errors.\n",
        "\n",
        "4.  Submit your completed notebook to OWL by the deadline. \n",
        "\n",
        "5.  Your submission document should be saved in the form: `LastName_FirstName_Assignment5.ipynb`\n",
        "\n",
        "---"
      ]
    },
    {
      "cell_type": "code",
      "execution_count": null,
      "metadata": {
        "id": "hV01UYGeQrOS"
      },
      "outputs": [],
      "source": [
        "import pandas as pd\n",
        "import numpy as np\n",
        "import matplotlib.pyplot as plt\n",
        "import seaborn as sns\n",
        "from plotnine import *\n",
        "from sklearn.model_selection import train_test_split,StratifiedKFold,cross_val_score\n",
        "from sklearn.linear_model import LogisticRegression, LinearRegression\n",
        "from sklearn.pipeline import Pipeline\n",
        "from sklearn.preprocessing import StandardScaler, PolynomialFeatures\n",
        "from sklearn.metrics import make_scorer, mean_squared_error,roc_curve, auc, roc_auc_score\n",
        "from sklearn.base import BaseEstimator, TransformerMixin\n",
        "\n",
        "pd.set_option('display.max_columns', 500)\n",
        "plt.style.use('ggplot')\n",
        "%matplotlib inline"
      ]
    },
    {
      "cell_type": "markdown",
      "metadata": {
        "id": "P8OR-sYkQrOU"
      },
      "source": [
        "_____"
      ]
    },
    {
      "cell_type": "markdown",
      "metadata": {
        "id": "735oycK-QrOU"
      },
      "source": [
        "### Question 1: /15pts\n",
        "\n",
        "First, import the dataset `spotify_pre.csv` as a dataframe and print out a few rows and get metadata of the csv file to have a rough understanding of the type of each column."
      ]
    },
    {
      "cell_type": "code",
      "execution_count": null,
      "metadata": {
        "id": "4yBYxJe2QrOU"
      },
      "outputs": [],
      "source": [
        "# Import the dataset etc."
      ]
    },
    {
      "attachments": {},
      "cell_type": "markdown",
      "metadata": {
        "id": "DIUfwJPhQrOW"
      },
      "source": [
        "Finally create a barchart of playlist_subgenre with each bar showing the proportion of track_popularity categories (use ggplot with 'fill' option set to 'track_popularity'). Make sure to flip cartesian coordinates so that horizontal becomes vertical, and vertical, horizontal.\n",
        "\n",
        "**Make sure to check out some online resources for plotting with ggplot in Python**"
      ]
    },
    {
      "cell_type": "code",
      "execution_count": null,
      "metadata": {
        "id": "xpcuv_pHQrOW"
      },
      "outputs": [],
      "source": [
        "# Code to construct the barchart"
      ]
    },
    {
      "cell_type": "markdown",
      "metadata": {
        "id": "hG4NT8m-QrOX"
      },
      "source": [
        "Which category of playlist_subgenre is more likely to gain popularity?"
      ]
    },
    {
      "cell_type": "markdown",
      "metadata": {
        "id": "2Wf96QToQrOX"
      },
      "source": [
        "**ANSWER HERE**\n"
      ]
    },
    {
      "cell_type": "markdown",
      "metadata": {
        "id": "qaSULCSLQrOX"
      },
      "source": [
        "_____________"
      ]
    },
    {
      "attachments": {},
      "cell_type": "markdown",
      "metadata": {
        "id": "cEyHXZNTQrOY"
      },
      "source": [
        "### Question 2: /10pts\n",
        "\n",
        "\n",
        "Now, you will create boxplots with x axis set to `playlist_genre` and y axis set to `instrumentalness` and color option set to `track_popularity`. Make sure to change the y axis scale into log10 scale for a better representation."
      ]
    },
    {
      "cell_type": "code",
      "execution_count": null,
      "metadata": {
        "id": "Z2zMeeG1QrOY"
      },
      "outputs": [],
      "source": [
        "## Your code"
      ]
    },
    {
      "cell_type": "markdown",
      "metadata": {
        "id": "xjGqsJkHQrOY"
      },
      "source": [
        "With track_popularity taken into account, does instrumentalness score differ within some of playlist genres?"
      ]
    },
    {
      "cell_type": "markdown",
      "metadata": {
        "id": "2kNAFum8QrOY"
      },
      "source": [
        "**ANSWER HERE**"
      ]
    },
    {
      "cell_type": "markdown",
      "metadata": {
        "id": "xlUWhfmKQrOb"
      },
      "source": [
        "___________"
      ]
    },
    {
      "cell_type": "markdown",
      "metadata": {
        "id": "GMFFFTPgQrOb"
      },
      "source": [
        "### Question 3: /10\n",
        "\n",
        "Create a basic logistic regression model (with default penalization) named `model1`. You need to create a model pipeline to be fit later. (Use `solver='lbfgs'`, `max_iter=10000` and `random_state=0`)"
      ]
    },
    {
      "cell_type": "markdown",
      "metadata": {
        "id": "fxX8D0D5QrOc"
      },
      "source": [
        "The predictor variables are `mode`, and `loudness`. Use the following chunk of code. You will use `Data1` to build your model."
      ]
    },
    {
      "cell_type": "code",
      "execution_count": null,
      "metadata": {
        "id": "VJ7YxoTHQrOc"
      },
      "outputs": [],
      "source": [
        "# Your code\n",
        "# Hints:\n",
        "#Data1 = spotify_pre[['track_popularity', 'mode', 'loudness']] \n",
        "#Data1 = pd.get_dummies(Data1, drop_first=True) \n",
        "#Data1 = Data1.rename({'track_popularity_low': 'track_popularity'}, axis='columns') \n",
        "#Data1.head()"
      ]
    },
    {
      "cell_type": "markdown",
      "metadata": {
        "id": "r3p7WxjCQrOd"
      },
      "source": [
        "Now that you have created the pipeline, fit `model1` for predicting the target variable, track_popularity, with the two predictors. Use a 70/30 train-test split of the data, remember to set `random_state=0` in the function `train_test_split`. After that, evaluate this model plotting the ROC curve and reporting the AUC value. "
      ]
    },
    {
      "cell_type": "code",
      "execution_count": null,
      "metadata": {
        "id": "Xsfeb7TJQrOd"
      },
      "outputs": [],
      "source": [
        "# np.random.seed(0);np.random.rand(5)\n",
        "# Create the training and test data\n",
        "\n",
        "\n",
        "#Fit the model"
      ]
    },
    {
      "cell_type": "code",
      "execution_count": null,
      "metadata": {
        "id": "_WUH81AmQrOd"
      },
      "outputs": [],
      "source": [
        "# Create the ROC curve and report AUC"
      ]
    },
    {
      "cell_type": "markdown",
      "metadata": {
        "id": "z5AtryUjQrOd"
      },
      "source": [
        "At this point, would you use the baseline model as your final model? Why or why not?"
      ]
    },
    {
      "cell_type": "markdown",
      "metadata": {
        "id": "PMwV6zYIQrOe"
      },
      "source": [
        "**ANSWER HERE**"
      ]
    },
    {
      "cell_type": "markdown",
      "metadata": {
        "id": "_4H1s8aXQrOe"
      },
      "source": [
        "____________"
      ]
    },
    {
      "cell_type": "markdown",
      "metadata": {
        "id": "RNfdL2r1QrOe"
      },
      "source": [
        "### Question 4: /40\n",
        "\n",
        "Here, we want to determine the best single numeric feature model to predict the track_popularity. To be specific, you are going to create a model per each predictor: 'danceability', 'energy', 'key', 'loudness', 'speechiness', 'acousticness', 'instrumentalness', 'liveness', 'valence', 'tempo', 'duration_m'. Make sure to use the cross-validation technique to make your decision. Please make sure to use 'pd.get_dummies(, drop_first=True)' to encode the target variable, and change the column name 'track_popularity_low' to 'track_popularity', as in previous question."
      ]
    },
    {
      "cell_type": "markdown",
      "metadata": {
        "id": "bXVfpsoPQrOe"
      },
      "source": [
        "You remember that *cross-validation* technique is used to find the expected test error of the models. In addition, in the next code, 5 different folds are displayed using 5 fold cross-validation. In this case it is used `StratifiedKFold()` function."
      ]
    },
    {
      "cell_type": "markdown",
      "metadata": {
        "id": "DhFdgljUQrOe"
      },
      "source": [
        "#### 4.1: /5\n",
        "**Define a function `AUC_calculation` with inputs `(X, y, index_train, index_test)`  which calculates the AUC of the `model1` trained on `index_train` and tested on `index_test`.**"
      ]
    },
    {
      "cell_type": "code",
      "execution_count": null,
      "metadata": {
        "id": "bewwPK00QrOf"
      },
      "outputs": [],
      "source": [
        "# Your code\n",
        "# Hints:\n",
        "#str_kf = StratifiedKFold(n_splits=5) for j, (index_train, index_test) in enumerate(str_kf.split(X,y)):\n",
        "\n",
        " ##enumerate has the index and the elements in the folds\n",
        " ##print(k, (index_train, index_test))\n",
        "#plt.plot(index_train, [j+1 for s in index_train], '.')\n",
        "#plt.title('Cross Validation ')"
      ]
    },
    {
      "cell_type": "markdown",
      "metadata": {
        "id": "swFFeY9JQrOf"
      },
      "source": [
        "#### 4.2: /8\n",
        "**Using `AUC_calculation` create a function named `AUC_cross_validation` which has as input (X, y, n_fold). `AUC_cross_validation` does a `n_fold` cross validation (using `StratifiedKFold`) and its output should be a list with the AUC for each fold.** "
      ]
    },
    {
      "cell_type": "code",
      "execution_count": null,
      "metadata": {
        "id": "90HeM0BBQrOf"
      },
      "outputs": [],
      "source": [
        "# Your code"
      ]
    },
    {
      "cell_type": "markdown",
      "metadata": {
        "id": "JYOq26FRQrOf"
      },
      "source": [
        "#### 4.3: /5\n",
        "**Now you are ready to estimate and compare through cross validation the performance of all the *simple models* that only use one numeric predictor as input. Prepare you dataset here!**"
      ]
    },
    {
      "cell_type": "code",
      "execution_count": null,
      "metadata": {
        "id": "8biTXRo5QrOf"
      },
      "outputs": [],
      "source": [
        "# Your code"
      ]
    },
    {
      "attachments": {},
      "cell_type": "markdown",
      "metadata": {
        "id": "gV9fTCLGQrOg"
      },
      "source": [
        "#### 4.4: /8\n",
        "\n",
        "**Use your function `AUC_cross_validation` to compute cross-validation estimates of the AUC for each single numeric feature model, use a data frame (named `AUC_models`) to report the AUC value for each fold and each of the models. (Use `n_fold=10`).**\n",
        "\n",
        "**The column names of `AUC_models` have to be in the form `Simple-numeric predictor variable`, e.g., `simple-tempo`.**"
      ]
    },
    {
      "cell_type": "code",
      "execution_count": null,
      "metadata": {
        "id": "GGFsF5d8QrOg"
      },
      "outputs": [],
      "source": [
        "# Construct AUC_models dataframe"
      ]
    },
    {
      "cell_type": "code",
      "execution_count": null,
      "metadata": {
        "id": "idnPJrUjQrOg"
      },
      "outputs": [],
      "source": [
        "# Print AUC_models dataframe "
      ]
    },
    {
      "cell_type": "markdown",
      "metadata": {
        "id": "0mfBTLfnQrOh"
      },
      "source": [
        "#### 4.5: /7\n",
        "\n",
        "**Decide which of the studied models has the best and the worst performance, using a boxplot (without presenting outliers) that shows the distribution of the previous AUC scores for every model.** (Do not forget labels!)"
      ]
    },
    {
      "cell_type": "code",
      "execution_count": null,
      "metadata": {
        "id": "Jv_oWBViQrOh"
      },
      "outputs": [],
      "source": [
        "# Code to plot the boxplots organized as required"
      ]
    },
    {
      "cell_type": "markdown",
      "metadata": {
        "id": "PiuIHM2OQrOh"
      },
      "source": [
        "**ANSWER HERE:**"
      ]
    },
    {
      "cell_type": "markdown",
      "metadata": {
        "id": "8Rze33nJQrOh"
      },
      "source": [
        "#### 4.6: /7\n",
        "**Now, lets compare these models with the one including all the numeric variables** \n",
        "\n",
        "**You again will use  10-fold cross-validation to determine if this new model has better performance, and at the end, you want to plot the boxplots with the information of this new model.**  "
      ]
    },
    {
      "cell_type": "code",
      "execution_count": null,
      "metadata": {
        "id": "MHGVcfPKQrOh"
      },
      "outputs": [],
      "source": [
        "# Your code\n",
        "\n",
        "# Print the new data frame "
      ]
    },
    {
      "cell_type": "code",
      "execution_count": null,
      "metadata": {
        "id": "eFNrEvJ7QrOi"
      },
      "outputs": [],
      "source": [
        "# Plot the boxplots"
      ]
    },
    {
      "cell_type": "markdown",
      "metadata": {
        "id": "Pn8cPzsiQrOi"
      },
      "source": [
        "_____________"
      ]
    },
    {
      "cell_type": "markdown",
      "metadata": {
        "id": "KEK9WRo5QrOi"
      },
      "source": [
        "### Question 5: /10\n",
        "\n",
        "Finally, you are going to include all the numeric predictors as well as the categorical variable `mode` in the model. Make sure to encode the categorical variable. Use the 10-fold cross-validation to evaluate the performance of this model. Print the AUC mean for all the models (including previous models) in ascending order."
      ]
    },
    {
      "cell_type": "code",
      "execution_count": null,
      "metadata": {
        "id": "_T2G7kcAQrOi"
      },
      "outputs": [],
      "source": [
        "# Your code\n",
        "\n",
        "# Print the new data frame "
      ]
    },
    {
      "cell_type": "code",
      "execution_count": null,
      "metadata": {
        "id": "C1S9ZgsOQrOi"
      },
      "outputs": [],
      "source": [
        "# Print the AUC mean for each of the models in ascending order"
      ]
    },
    {
      "cell_type": "markdown",
      "metadata": {
        "id": "Uq-8d5KKQrOj"
      },
      "source": [
        "Which of the above models is the best model? Why? "
      ]
    },
    {
      "cell_type": "markdown",
      "metadata": {
        "id": "-lMD3NrZQrOj"
      },
      "source": [
        "**ANSWER HERE:**"
      ]
    },
    {
      "cell_type": "markdown",
      "metadata": {
        "id": "pyW6s0nGQrOj"
      },
      "source": [
        "______________"
      ]
    },
    {
      "cell_type": "markdown",
      "metadata": {
        "id": "B-o4HnvCQrOk"
      },
      "source": [
        "### Question 6: /15pts\n",
        "\n",
        "Now it is time to train it on all the training data. Estimate the performance of this model on the test data and do the following (For this, use a 70/30 train-test split of the data, remember to set `random_state=0` in the function `train_test_split` ): \n",
        "\n",
        "- Use boostrap technique to find the 95% CI for the AUC. \n",
        "- Plot the distribution of the boostrap AUC scores."
      ]
    },
    {
      "cell_type": "code",
      "execution_count": null,
      "metadata": {
        "id": "B-Zb6SFDQrOk"
      },
      "outputs": [],
      "source": [
        "# Your code"
      ]
    },
    {
      "cell_type": "code",
      "execution_count": null,
      "metadata": {
        "id": "_PprUnpXQrOk"
      },
      "outputs": [],
      "source": [
        "# Your code"
      ]
    },
    {
      "cell_type": "code",
      "execution_count": null,
      "metadata": {
        "id": "rzIOXRi-DImH"
      },
      "outputs": [],
      "source": [
        "# Your code"
      ]
    },
    {
      "cell_type": "markdown",
      "metadata": {
        "id": "i46nJCdcQrOk"
      },
      "source": [
        "Is the test AUC close to the AUC cross validation of the model you chose? Why do you think this is the case?"
      ]
    },
    {
      "cell_type": "markdown",
      "metadata": {
        "id": "fve0IvwJQrOl"
      },
      "source": [
        "**ANSWER HERE:**"
      ]
    }
  ],
  "metadata": {
    "colab": {
      "provenance": []
    },
    "kernelspec": {
      "display_name": "Python 3 (ipykernel)",
      "language": "python",
      "name": "python3"
    },
    "language_info": {
      "codemirror_mode": {
        "name": "ipython",
        "version": 3
      },
      "file_extension": ".py",
      "mimetype": "text/x-python",
      "name": "python",
      "nbconvert_exporter": "python",
      "pygments_lexer": "ipython3",
      "version": "3.9.12"
    }
  },
  "nbformat": 4,
  "nbformat_minor": 0
}
