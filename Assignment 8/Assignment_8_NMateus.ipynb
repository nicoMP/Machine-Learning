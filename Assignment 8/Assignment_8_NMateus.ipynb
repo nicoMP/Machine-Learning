{
  "cells": [
    {
      "cell_type": "markdown",
      "id": "c1130c0e",
      "metadata": {
        "id": "c1130c0e"
      },
      "source": [
        "# Follow these instructions:\n",
        "\n",
        "Once you are finished, ensure to complete the following steps.\n",
        "\n",
        "1.  Restart your kernel by clicking 'Kernel' > 'Restart & Run All'.\n",
        "\n",
        "2.  Fix any errors which result from this.\n",
        "\n",
        "3.  Repeat steps 1. and 2. until your notebook runs without errors.\n",
        "\n",
        "4.  Submit your completed notebook to OWL by the deadline."
      ]
    },
    {
      "cell_type": "markdown",
      "id": "julian-uzbekistan",
      "metadata": {
        "id": "julian-uzbekistan"
      },
      "source": [
        "## Assignment Week 8: Text Mining using Dimensionality Reduction Methods [_/100 Marks]\n",
        "\n",
        "This dataset comes from the #TidyTuesday repository and represents 2122 TV shows. In this assignment, we will apply dimensionality reduction methods to improve our understanding of text data and to predict the number of seasons of the TV shows. "
      ]
    },
    {
      "cell_type": "code",
      "execution_count": 1,
      "id": "respective-contrast",
      "metadata": {
        "id": "respective-contrast",
        "outputId": "adc690f1-aee5-4147-c7c6-07ed449237c0",
        "colab": {
          "base_uri": "https://localhost:8080/"
        }
      },
      "outputs": [
        {
          "output_type": "stream",
          "name": "stderr",
          "text": [
            "[nltk_data] Downloading package stopwords to /root/nltk_data...\n",
            "[nltk_data]   Package stopwords is already up-to-date!\n"
          ]
        }
      ],
      "source": [
        "import numpy as np\n",
        "import pandas as pd\n",
        "#!pip install umap-learn\n",
        "import umap\n",
        "from scipy.sparse import csr_matrix\n",
        "from sklearn.decomposition import PCA, TruncatedSVD\n",
        "import sklearn.feature_extraction.text as sktext\n",
        "from sklearn.linear_model import LogisticRegressionCV\n",
        "from sklearn.model_selection import train_test_split\n",
        "from sklearn.metrics import roc_curve, roc_auc_score, auc\n",
        "import xgboost as xgb\n",
        "from sklearn.model_selection import StratifiedKFold\n",
        "import nltk\n",
        "nltk.download('stopwords')\n",
        "from nltk.corpus import stopwords\n",
        "from itertools import product\n",
        "import string\n",
        "import seaborn as sns\n",
        "import matplotlib.pyplot as plt\n",
        "seed = 0"
      ]
    },
    {
      "cell_type": "markdown",
      "id": "declared-federal",
      "metadata": {
        "id": "declared-federal"
      },
      "source": [
        "## Task 1: Decomposition of the texts [ /66 marks]\n",
        "\n",
        "### Question 1.1\n",
        "\n",
        "The dataset comes with the a few text variables and a categorical variable which represents whether a TV show has one season or more than one season. Import the data and create a new variable called 'full_description' by combining the three columns title, listed_in, and description. Keep the two columns,'duration' and 'full_description', and remove the rest. Do binary encoding for the traget variable 'duration'. Assign 1 to 'More than one season' and 0 to 'One season'. In the \"full_description\" column replace the word \"Sci-Fi\" with the word \"Sci_Fi\" since we would want to treat \"Sci-Fi\" as single word. Select the full_description column and display its first 10 rows. Use sklearn's `TfidfVectorizer` to eliminate accents, special characters, and stopwords (please see below to find out what stopwords need to be removed). In addition, make sure to eliminate words that appear in less than 5% of documents and those that appear in over 95%. You can also set `sublinear_tf` to `True`. After that, split the data into train and test with `test_size = 0.2` and `seed = seed`. Calculate the [Tf-Idf transform](https://scikit-learn.org/stable/modules/generated/sklearn.feature_extraction.text.TfidfTransformer.html) for both train and test. Note that you need to fit and transform the inputs for the train set but you only need to transform the inputs for the test set. Don't forget to turn the sparse matrices to dense ones after you apply the `Tf-Idf` transform.  "
      ]
    },
    {
      "cell_type": "code",
      "execution_count": 2,
      "id": "1f703a98",
      "metadata": {
        "id": "1f703a98",
        "colab": {
          "base_uri": "https://localhost:8080/"
        },
        "outputId": "4b9196f1-e09c-48a4-e9c5-c4b8a8e72a74"
      },
      "outputs": [
        {
          "output_type": "execute_result",
          "data": {
            "text/plain": [
              "0    3% International TV Shows, TV Dramas, TV Sci_F...\n",
              "1    46 International TV Shows, TV Dramas, TV Myste...\n",
              "2    1983 Crime TV Shows, International TV Shows, T...\n",
              "3    1994 Crime TV Shows, Docuseries, International...\n",
              "4    ​SAINT SEIYA: Knights of the Zodiac Anime Seri...\n",
              "5    (Un)Well Reality TV This docuseries takes a de...\n",
              "6    #blackAF TV Comedies Kenya Barris and his fami...\n",
              "7    Şubat Crime TV Shows, International TV Shows, ...\n",
              "8    100 Days My Prince International TV Shows, Rom...\n",
              "9    100 Humans Docuseries, Science & Nature TV One...\n",
              "Name: full_description, dtype: object"
            ]
          },
          "metadata": {},
          "execution_count": 2
        }
      ],
      "source": [
        "# Load the data [ /1 mark]\n",
        "raw_data = pd.read_csv('/content/Netflix_data.csv');\n",
        "raw_data = raw_data.rename(columns ={'Unnamed: 0': 'title'});\n",
        "# Create a new variable called 'full_description' by combining the three columns title, listed_in, and description [ /2 marks]\n",
        "# use an empty space to concat these three columns\n",
        "raw_data[\"full_description\"] = raw_data['title'] + ' ' + raw_data['listed_in'] + ' ' +  raw_data['description'];\n",
        "raw_data[\"full_description\"];\n",
        "# Keep two columns,'duration' and 'full_description', and remove the rest\n",
        "data = pd.DataFrame({'duration':raw_data['duration'], 'full_description':raw_data['full_description']});\n",
        "# Do binary encoding for the traget variable 'duration'. Assign 1 to 'More than one season' and 0 to 'One season' [ \\1 mark]\n",
        "duration = pd.get_dummies(data['duration']);\n",
        "\n",
        "# In the \"full_description\" column replace the word \"Sci-Fi\" with the word \"Sci_Fi\" [ \\1 mark]\n",
        "data['duration'] = duration[\"More than one season\"];\n",
        "data['full_description'] = data['full_description'].str.replace('Sci-Fi','Sci_Fi');\n",
        "# Select the following column and display its first 10 rows: full_description [ /1 mark]\n",
        "data['full_description'][0:10]"
      ]
    },
    {
      "cell_type": "code",
      "execution_count": 3,
      "id": "clear-imperial",
      "metadata": {
        "id": "clear-imperial"
      },
      "outputs": [],
      "source": [
        "\n",
        "# Defining the TfIDFTransformer [ /4 marks]\n",
        "transformer = sktext.TfidfTransformer(sublinear_tf= True)\n",
        "\n",
        "# Define a vectors of stop words: stop words list must contain 'english' stop words, 'shows', and 'tv' \n",
        "stop_words = stopwords.words('english') + ['shows', 'tv']\n",
        "vectorizer = sktext.TfidfVectorizer(stop_words=stop_words, strip_accents= 'unicode', sublinear_tf=True, min_df=0.05, max_df=0.95 );\n",
        "\n",
        "# Train/test split [ /2 marks]\n",
        "X_train, X_test, y_train, y_test = train_test_split(data['full_description'],data['duration'], random_state=seed, test_size=0.2)\n",
        "# Calculate the Tf-Idf transform [ /2 marks]\n",
        "TfIDF_train = transformer.fit_transform(vectorizer.fit_transform(X_train)).toarray()\n",
        "TfIDF_test = transformer.transform(vectorizer.transform(X_test)).toarray()"
      ]
    },
    {
      "cell_type": "markdown",
      "id": "bacterial-calvin",
      "metadata": {
        "id": "bacterial-calvin"
      },
      "source": [
        "From here on, you will use the variables `TfIDF_train` and `TfIDF_test` as the input for the different tasks, and the `y_train` and `y_test` labels for each dataset (if required). Print the number of indices in the ouput using [`TfIDFTransformer.get_feature_names()` method](https://scikit-learn.org/stable/modules/generated/sklearn.feature_extraction.text.TfidfTransformer.html)."
      ]
    },
    {
      "cell_type": "code",
      "execution_count": 4,
      "id": "272f10cb",
      "metadata": {
        "id": "272f10cb",
        "colab": {
          "base_uri": "https://localhost:8080/"
        },
        "outputId": "722c8704-9f19-4bae-a308-b78212127891"
      },
      "outputs": [
        {
          "output_type": "stream",
          "name": "stdout",
          "text": [
            "Number of indices in output 25\n"
          ]
        }
      ],
      "source": [
        "# Print the number of indices [ /2 marks]\n",
        "print('Number of indices in output',len(transformer.get_feature_names_out()))"
      ]
    },
    {
      "cell_type": "markdown",
      "id": "tribal-scholarship",
      "metadata": {
        "id": "tribal-scholarship"
      },
      "source": [
        "### Question 1.2\n",
        "Now we have the TfIDF matrix so we can start working on the data. We hope to explore what some commonly occuring concepts are in the 'full_description' column. We can do this using PCA. A PCA transform of the TF-IDF matrix will give us a basis of the text data, each component representing a *concept* or set of words that are correlated. Correlation in text can be interpreted as a relation to a similar topic. Calculate a PCA transform of the training data using the **maximum** number of concepts possible. Make a plot of the explained variance that shows the cumulative explained variance per number of concepts."
      ]
    },
    {
      "cell_type": "code",
      "execution_count": 5,
      "id": "valid-uganda",
      "metadata": {
        "id": "valid-uganda",
        "colab": {
          "base_uri": "https://localhost:8080/",
          "height": 312
        },
        "outputId": "c1addee1-722d-4250-a221-0edcb0b31c0d"
      },
      "outputs": [
        {
          "output_type": "execute_result",
          "data": {
            "text/plain": [
              "Text(0, 0.5, 'Culmative Variance')"
            ]
          },
          "metadata": {},
          "execution_count": 5
        },
        {
          "output_type": "display_data",
          "data": {
            "text/plain": [
              "<Figure size 432x288 with 1 Axes>"
            ],
            "image/png": "[encoded data removed]"
          },
          "metadata": {
            "needs_background": "light"
          }
        }
      ],
      "source": [
        "# Apply PCA on training data and get the explained variance [ / 4 marks]\n",
        "pca = PCA(random_state=seed).fit(TfIDF_train)\n",
        "\n",
        "# Plotting explained variance with number of concepts [ / 4 marks]\n",
        "plt.plot(np.cumsum(pca.explained_variance_ratio_))\n",
        "plt.title(\"Explained Variance vs Number of Concepts \")\n",
        "plt.xlabel('# of Concepts')\n",
        "plt.ylabel('Culmative Variance')\n"
      ]
    },
    {
      "cell_type": "markdown",
      "id": "eeeaebd3",
      "metadata": {
        "id": "eeeaebd3"
      },
      "source": [
        "**Question:** Exactly how many concepts do we need to correctly explain at least 80% of the data?\n"
      ]
    },
    {
      "cell_type": "code",
      "execution_count": 6,
      "id": "fitted-rogers",
      "metadata": {
        "id": "fitted-rogers",
        "colab": {
          "base_uri": "https://localhost:8080/"
        },
        "outputId": "abd8f10b-00ca-498c-cdc2-54b8c3e3e272"
      },
      "outputs": [
        {
          "output_type": "stream",
          "name": "stdout",
          "text": [
            "Min concepts needed for at least 80%:  16\n",
            "Percentage:  82.52 %\n"
          ]
        }
      ],
      "source": [
        "# To get the exact index where the variance is above 80% [ / 4 marks]\n",
        "count = 0\n",
        "for i in np.cumsum(pca.explained_variance_ratio_):\n",
        "  count += 1;\n",
        "  if(i>0.8): \n",
        "    print('Min concepts needed for at least 80%: ', count);\n",
        "    print('Percentage: ', np.round(i*100,2), '%')\n",
        "    break"
      ]
    },
    {
      "cell_type": "markdown",
      "id": "224b4fd3",
      "metadata": {
        "id": "224b4fd3"
      },
      "source": [
        "**Your Answer:** \n",
        "Min concepts needed for at least 80%:  16\n",
        "Percentage:  81.11 %"
      ]
    },
    {
      "cell_type": "markdown",
      "id": "electronic-calgary",
      "metadata": {
        "id": "electronic-calgary"
      },
      "source": [
        "### Question 1.3\n",
        "\n",
        "Let's examine the first three concepts by looking how many variance they explained and showing the 10 words that are the most important in each of these three concepts (as revealed by the absolute value of the PCA weight in each concept).\n"
      ]
    },
    {
      "cell_type": "code",
      "execution_count": 7,
      "id": "lesser-prison",
      "metadata": {
        "id": "lesser-prison",
        "colab": {
          "base_uri": "https://localhost:8080/"
        },
        "outputId": "0a6dc093-1cc5-4e1d-ee75-77cccb1e6f29"
      },
      "outputs": [
        {
          "output_type": "stream",
          "name": "stdout",
          "text": [
            "[0.07836431 0.07302354 0.0601857  0.0590624  0.05014091 0.04671702\n",
            " 0.04553538 0.0443156  0.04317561 0.03943983 0.03671144 0.03599019\n",
            " 0.03516331 0.03450305 0.03407668 0.03280801 0.03155275 0.03008973\n",
            " 0.02859595 0.02404865 0.01989002 0.0157033  0.00565162 0.00258531\n",
            " 0.00059378]\n"
          ]
        }
      ],
      "source": [
        "# Explained variance [ / 2 marks]\n",
        "variance = pca.explained_variance_\n",
        "print(variance)"
      ]
    },
    {
      "cell_type": "code",
      "execution_count": 8,
      "id": "based-deviation",
      "metadata": {
        "id": "based-deviation"
      },
      "outputs": [],
      "source": [
        "# Get 10 most important words for each component [ / 4 marks]\n",
        "top10 = []\n",
        "for i in range(3):\n",
        "    words =  np.argsort(np.abs(pca.components_[i]))[:10]\n",
        "    top10.append(vectorizer.get_feature_names_out()[words] )\n",
        "    "
      ]
    },
    {
      "cell_type": "code",
      "execution_count": 9,
      "id": "gorgeous-montana",
      "metadata": {
        "id": "gorgeous-montana",
        "colab": {
          "base_uri": "https://localhost:8080/"
        },
        "outputId": "a4550fd3-f56d-426c-cee4-7f5d4eb9a50c"
      },
      "outputs": [
        {
          "output_type": "stream",
          "name": "stdout",
          "text": [
            "Concept 1:  ['world' 'life' 'series' 'romantic' 'reality' 'kids' 'family' 'new' 'two'\n",
            " 'school']\n"
          ]
        }
      ],
      "source": [
        "# Words for concept 1 [ / 2 marks]\n",
        "print('Concept 1: ', top10[0])"
      ]
    },
    {
      "cell_type": "code",
      "execution_count": 10,
      "id": "mature-cyprus",
      "metadata": {
        "id": "mature-cyprus",
        "colab": {
          "base_uri": "https://localhost:8080/"
        },
        "outputId": "afc1d815-1124-441a-dc6c-7d6d1184eefe"
      },
      "outputs": [
        {
          "output_type": "stream",
          "name": "stdout",
          "text": [
            "Concept 2:  ['anime' 'crime' 'two' 'young' 'school' 'action' 'love' 'adventure'\n",
            " 'language' 'life']\n"
          ]
        }
      ],
      "source": [
        "# Words for concept 2 [ / 2 marks]\n",
        "print('Concept 2: ', top10[1])\n"
      ]
    },
    {
      "cell_type": "code",
      "execution_count": 11,
      "id": "proprietary-contributor",
      "metadata": {
        "id": "proprietary-contributor",
        "colab": {
          "base_uri": "https://localhost:8080/"
        },
        "outputId": "77abe3b2-82f4-460b-f020-c4e46c27dd0d"
      },
      "outputs": [
        {
          "output_type": "stream",
          "name": "stdout",
          "text": [
            "Concept 3:  ['dramas' 'friends' 'series' 'world' 'new' 'family' 'romantic' 'school'\n",
            " 'life' 'love']\n"
          ]
        }
      ],
      "source": [
        "# Words for concept 3 [ / 2 marks]\n",
        "print('Concept 3: ', top10[2])\n"
      ]
    },
    {
      "cell_type": "markdown",
      "id": "outstanding-hepatitis",
      "metadata": {
        "id": "outstanding-hepatitis"
      },
      "source": [
        "### Question 1.4\n",
        "\n",
        " Apply the PCA transformation to the test dataset. Use only the first two components and make a scatter plot of the TV shows. Identify the 'More than one season' TV shows, and 'One season' TV shows by colouring points with different colours. Make sure to add a legend to your plot!"
      ]
    },
    {
      "cell_type": "code",
      "execution_count": 12,
      "id": "ruled-central",
      "metadata": {
        "id": "ruled-central",
        "colab": {
          "base_uri": "https://localhost:8080/",
          "height": 295
        },
        "outputId": "2085bb16-12db-40b8-eb09-6dded157ffe9"
      },
      "outputs": [
        {
          "output_type": "display_data",
          "data": {
            "text/plain": [
              "<Figure size 432x288 with 1 Axes>"
            ],
            "image/png": "[encoded data removed]"
          },
          "metadata": {
            "needs_background": "light"
          }
        }
      ],
      "source": [
        "# Apply PCA to the test dataset [ / 2 marks]\n",
        "testpca = pca.transform(TfIDF_test)\n",
        "\n",
        "# Plot the two different set of points with different markers and labels [ /4 marks]\n",
        "for i, label in enumerate(set(y_test)):\n",
        "    x = 'Multiple Seasons'\n",
        "    if(label == 0):\n",
        "      x = 'Single Seasons'\n",
        "    plt.scatter(testpca[:,0][y_test==label], testpca[:,1][y_test==label], c=['red','blue'][i], label=x)\n",
        "\n",
        "plt.title('Components and Number of Seasons')\n",
        "plt.xlabel('Principal Component 1')\n",
        "plt.ylabel('Principal Component 2')\n",
        "plt.legend()\n",
        "plt.show()\n"
      ]
    },
    {
      "cell_type": "markdown",
      "id": "present-sunglasses",
      "metadata": {
        "id": "present-sunglasses"
      },
      "source": [
        "**Question:** What can we say about where 'More than one season' TV shows and 'One season' TV shows lie in our plot? Could we use these concepts to discriminate these cases? If yes, why? If no, why not? Discuss your findings. [ /2 marks]\n",
        " \n",
        "**Your answer:** \n",
        "No these concepts wouldnt' work as the data seems to be pretty clusttered although it seems multiplr seasons is usuaslly"
      ]
    },
    {
      "cell_type": "markdown",
      "id": "dt7hcc3noPEU",
      "metadata": {
        "id": "dt7hcc3noPEU"
      },
      "source": [
        "### Question  1.5\n",
        "\n",
        "Repeat the process above, only now using a UMAP projection with two components. Test all combinations of ```n_neighbors=[2, 10, 25, 35, 45]``` and ```min_dist=[0.1, 0.25, 0.5, 1]``` over the train data and choose the projection that you think is best, and apply it over the test data. Use 1000 epochs, a cosine metric and random initialization. If you have more than 8GB of RAM (as in Colab), you may want to set ```low_memory=False``` to speed up computations.\n",
        "\n",
        "*Hint: [This link](https://stackoverflow.com/questions/16384109/iterate-over-all-combinations-of-values-in-multiple-lists-in-python) may be helpful.*\n",
        "\n"
      ]
    },
    {
      "cell_type": "code",
      "execution_count": 13,
      "id": "k5s0D9iuoFBT",
      "metadata": {
        "id": "k5s0D9iuoFBT",
        "colab": {
          "base_uri": "https://localhost:8080/"
        },
        "outputId": "e603cb84-1f0a-442f-ac4f-d9da35f8f2ff"
      },
      "outputs": [
        {
          "output_type": "stream",
          "name": "stdout",
          "text": [
            "(2, 0.1)\n",
            "(2, 0.25)\n",
            "(2, 0.5)\n",
            "(2, 1)\n",
            "(10, 0.1)\n",
            "(10, 0.25)\n",
            "(10, 0.5)\n",
            "(10, 1)\n",
            "(25, 0.1)\n",
            "(25, 0.25)\n",
            "(25, 0.5)\n",
            "(25, 1)\n",
            "(35, 0.1)\n",
            "(35, 0.25)\n",
            "(35, 0.5)\n",
            "(35, 1)\n",
            "(45, 0.1)\n",
            "(45, 0.25)\n",
            "(45, 0.5)\n",
            "(45, 1)\n"
          ]
        }
      ],
      "source": [
        "# Set parameters\n",
        "n_neighbors=[2, 10, 25, 35, 45]\n",
        "min_dist=[0.1, 0.25, 0.5, 1]\n",
        "# Create UMAP and plots [ / 8 marks]\n",
        "prod = list(product(n_neighbors, min_dist))\n",
        "umapBeta = []\n",
        "for i in  prod:\n",
        "  umapBeta.append(umap.UMAP(init='random',low_memory=False,n_components=2, random_state=seed,  n_epochs=1000,n_neighbors=i[0], min_dist=i[1],metric='cosine', n_jobs=-1).fit_transform(TfIDF_train))\n",
        "  print(i)\n"
      ]
    },
    {
      "cell_type": "code",
      "source": [
        "# n = list(product(n_neighbors, min_dist))\n",
        "# count = 0\n",
        "# for i in umapBeta:\n",
        "#   for r, label in enumerate(set(y_train)):\n",
        "#     x = 'Multiple Seasons'\n",
        "#     if(label == 0):\n",
        "#       x = 'Single Seasons'\n",
        "#     plt.scatter(i[:,0][y_train==label], i[:,1][y_train==label], c=['red','blue'][r], label = x)\n",
        "#   plt.title('N_Neighbours = ' + str(n[count][0]) + ' min_dist = ' + str(n[count][1]))\n",
        "#   plt.legend()\n",
        "#   plt.show()\n",
        "#   count+=1\n"
      ],
      "metadata": {
        "id": "WyEjHeTeGynJ"
      },
      "id": "WyEjHeTeGynJ",
      "execution_count": 14,
      "outputs": []
    },
    {
      "cell_type": "code",
      "source": [
        "# Create plot\n",
        "train_umap = umapBeta[5]\n",
        "for r, label in enumerate(set(y_train)):\n",
        "    x = 'Multiple Seasons'\n",
        "    if(label == 0):\n",
        "      x = 'Single Seasons'\n",
        "    plt.scatter(umapBeta[5][:,0][y_train==label], umapBeta[5][:,1][y_train==label], c=['red','blue'][r], label = x)\n",
        "    plt.title('N_Neighbours = ' + str(prod[5][0]) + ' min_dist = ' + str(prod[9][1]))\n",
        "    plt.legend()"
      ],
      "metadata": {
        "colab": {
          "base_uri": "https://localhost:8080/",
          "height": 281
        },
        "id": "MTDBi3ftqksP",
        "outputId": "ddc6b0c5-b554-4d93-95cd-48abd31fcb8a"
      },
      "id": "MTDBi3ftqksP",
      "execution_count": 15,
      "outputs": [
        {
          "output_type": "display_data",
          "data": {
            "text/plain": [
              "<Figure size 432x288 with 1 Axes>"
            ],
            "image/png": "[encoded data removed]"
          },
          "metadata": {
            "needs_background": "light"
          }
        }
      ]
    },
    {
      "cell_type": "markdown",
      "id": "KyMYOAMf4l_E",
      "metadata": {
        "id": "KyMYOAMf4l_E"
      },
      "source": [
        "**Question:** Which paramter would you choose? [ / 2 marks]\n",
        "\n",
        "**Your Answer:** \n",
        "Id go with n_neighbours 25 min_dist 0.25 as this seems to keep the structure of the data while still producing more distinct clusters"
      ]
    },
    {
      "cell_type": "code",
      "execution_count": 16,
      "id": "-21cSLBty9gh",
      "metadata": {
        "id": "-21cSLBty9gh",
        "colab": {
          "base_uri": "https://localhost:8080/",
          "height": 281
        },
        "outputId": "96e5f3cd-7b8e-4b50-ff79-985f6c3cf20a"
      },
      "outputs": [
        {
          "output_type": "display_data",
          "data": {
            "text/plain": [
              "<Figure size 432x288 with 1 Axes>"
            ],
            "image/png": "[encoded data removed]"
          },
          "metadata": {
            "needs_background": "light"
          }
        }
      ],
      "source": [
        "# Choose the paramters that you think are best and apply to test set [ / 4 marks]\n",
        "umap_test =umap.UMAP(init='random',low_memory=False,n_components=2,random_state=seed,  n_epochs=1000,n_neighbors=25, min_dist=0.25,metric='cosine', n_jobs=-1).fit(TfIDF_train).transform(TfIDF_test)\n",
        "# Create plot [ /2 marks]\n",
        "for r, label in enumerate(set(y_test)):\n",
        "    x = 'Multiple Seasons'\n",
        "    if(label == 0):\n",
        "      x = 'Single Seasons'\n",
        "    plt.scatter(umap_test[:,0][y_test==label], umap_test[:,1][y_test==label], c=['red','blue'][r], label = x)\n",
        "    plt.title('N_Neighbours = 35' + ' min_dist = 1' )\n",
        "    plt.legend()"
      ]
    },
    {
      "cell_type": "markdown",
      "id": "A40NKn9Y5tM9",
      "metadata": {
        "id": "A40NKn9Y5tM9"
      },
      "source": [
        "\n",
        "**Question:** How does the plot compare to the PCA one? [ /2 marks]\n",
        "\n",
        "**Your answer:** \n",
        "I think it retains alot of the structure while reducing comolexity as a lot more data points seems to overlap."
      ]
    },
    {
      "cell_type": "markdown",
      "id": "nuclear-landing",
      "metadata": {
        "id": "nuclear-landing"
      },
      "source": [
        "## Task 2: Benchmarking predictive capabilities of the compressed data [ / 34 marks]\n",
        "\n",
        "For this task, we will benchmark the predictive capabilities of the compressed data against the original one. \n"
      ]
    },
    {
      "cell_type": "markdown",
      "id": "4137a1ce",
      "metadata": {
        "id": "4137a1ce"
      },
      "source": [
        "\n",
        "### Question 2.1 \n",
        "Train a regularized logistic regression over the original TfIDF train set using l2 regularization. Calculate the AUC score and plot the ROC curve for the original test set."
      ]
    },
    {
      "cell_type": "code",
      "execution_count": 17,
      "id": "frank-madison",
      "metadata": {
        "id": "frank-madison",
        "colab": {
          "base_uri": "https://localhost:8080/",
          "height": 349
        },
        "outputId": "41be70b8-177f-4baf-e5f0-fe430560d7a7"
      },
      "outputs": [
        {
          "output_type": "stream",
          "name": "stdout",
          "text": [
            "AUC Score  0.64\n",
            "[{'tpr': 0.0, 'fpr': 0.0, 'thr': 0.5940998111266906}, {'tpr': 0.006993006993006993, 'fpr': 0.0, 'thr': -0.4059001888733093}, {'tpr': 0.013986013986013986, 'fpr': 0.0, 'thr': -0.44815689383488233}, {'tpr': 0.013986013986013986, 'fpr': 0.0070921985815602835, 'thr': -0.4739128585960613}, {'tpr': 0.02097902097902098, 'fpr': 0.0070921985815602835, 'thr': -0.4782343864070224}, {'tpr': 0.027972027972027972, 'fpr': 0.010638297872340425, 'thr': -0.48625965206002997}, {'tpr': 0.027972027972027972, 'fpr': 0.02127659574468085, 'thr': -0.5234021138558312}, {'tpr': 0.04195804195804196, 'fpr': 0.02127659574468085, 'thr': -0.5380346442850622}, {'tpr': 0.04195804195804196, 'fpr': 0.03900709219858156, 'thr': -0.5459299201041955}, {'tpr': 0.04195804195804196, 'fpr': 0.04609929078014184, 'thr': -0.5546075437132664}, {'tpr': 0.055944055944055944, 'fpr': 0.04964539007092199, 'thr': -0.5598032181281046}, {'tpr': 0.055944055944055944, 'fpr': 0.05319148936170213, 'thr': -0.5623357613497341}, {'tpr': 0.06293706293706294, 'fpr': 0.05319148936170213, 'thr': -0.5627225354452424}, {'tpr': 0.06293706293706294, 'fpr': 0.05673758865248227, 'thr': -0.5629993941349691}, {'tpr': 0.07692307692307693, 'fpr': 0.05673758865248227, 'thr': -0.5733429101028875}, {'tpr': 0.07692307692307693, 'fpr': 0.06028368794326241, 'thr': -0.5744090676410962}, {'tpr': 0.08391608391608392, 'fpr': 0.06028368794326241, 'thr': -0.5822644595149752}, {'tpr': 0.09090909090909091, 'fpr': 0.07092198581560284, 'thr': -0.5848837030823792}, {'tpr': 0.09090909090909091, 'fpr': 0.07801418439716312, 'thr': -0.609137675645898}, {'tpr': 0.0979020979020979, 'fpr': 0.07801418439716312, 'thr': -0.6097881159661147}, {'tpr': 0.0979020979020979, 'fpr': 0.09929078014184398, 'thr': -0.6360920243799233}, {'tpr': 0.1048951048951049, 'fpr': 0.09929078014184398, 'thr': -0.6387384257756744}, {'tpr': 0.11888111888111888, 'fpr': 0.09929078014184398, 'thr': -0.6391438551795073}, {'tpr': 0.1258741258741259, 'fpr': 0.09929078014184398, 'thr': -0.643798337420551}, {'tpr': 0.13986013986013987, 'fpr': 0.09929078014184398, 'thr': -0.6493542749461091}, {'tpr': 0.14685314685314685, 'fpr': 0.09929078014184398, 'thr': -0.6517285179824873}, {'tpr': 0.14685314685314685, 'fpr': 0.10283687943262411, 'thr': -0.6610313227478911}, {'tpr': 0.14685314685314685, 'fpr': 0.1099290780141844, 'thr': -0.6610478600391942}, {'tpr': 0.14685314685314685, 'fpr': 0.11347517730496454, 'thr': -0.662096587051565}, {'tpr': 0.17482517482517482, 'fpr': 0.13829787234042554, 'thr': -0.6627408980985691}, {'tpr': 0.18181818181818182, 'fpr': 0.13829787234042554, 'thr': -0.6668280848751682}, {'tpr': 0.1958041958041958, 'fpr': 0.1524822695035461, 'thr': -0.6680152452315335}, {'tpr': 0.20279720279720279, 'fpr': 0.1524822695035461, 'thr': -0.676572409834949}, {'tpr': 0.20279720279720279, 'fpr': 0.16666666666666666, 'thr': -0.6849218382099626}, {'tpr': 0.2097902097902098, 'fpr': 0.16666666666666666, 'thr': -0.6872631171248055}, {'tpr': 0.22377622377622378, 'fpr': 0.16666666666666666, 'thr': -0.6895696928466166}, {'tpr': 0.23076923076923078, 'fpr': 0.16666666666666666, 'thr': -0.6989510469274706}, {'tpr': 0.23076923076923078, 'fpr': 0.17375886524822695, 'thr': -0.703280414530668}, {'tpr': 0.2517482517482518, 'fpr': 0.17375886524822695, 'thr': -0.7115541023625981}, {'tpr': 0.26573426573426573, 'fpr': 0.17375886524822695, 'thr': -0.7136180349775818}, {'tpr': 0.26573426573426573, 'fpr': 0.1773049645390071, 'thr': -0.7145597274352506}, {'tpr': 0.2727272727272727, 'fpr': 0.1773049645390071, 'thr': -0.7175381616226444}, {'tpr': 0.2937062937062937, 'fpr': 0.19148936170212766, 'thr': -0.719620985701329}, {'tpr': 0.3146853146853147, 'fpr': 0.19148936170212766, 'thr': -0.7344622303124019}, {'tpr': 0.32167832167832167, 'fpr': 0.1950354609929078, 'thr': -0.7349941871209608}, {'tpr': 0.3356643356643357, 'fpr': 0.1950354609929078, 'thr': -0.7378579789931453}, {'tpr': 0.34265734265734266, 'fpr': 0.19858156028368795, 'thr': -0.744229324838208}, {'tpr': 0.34265734265734266, 'fpr': 0.20567375886524822, 'thr': -0.7484592301659554}, {'tpr': 0.34965034965034963, 'fpr': 0.20567375886524822, 'thr': -0.7490129242972952}, {'tpr': 0.34965034965034963, 'fpr': 0.2127659574468085, 'thr': -0.7525900699230642}, {'tpr': 0.34965034965034963, 'fpr': 0.2198581560283688, 'thr': -0.7639860585360639}, {'tpr': 0.36363636363636365, 'fpr': 0.2198581560283688, 'thr': -0.7841382418191606}, {'tpr': 0.36363636363636365, 'fpr': 0.22695035460992907, 'thr': -0.7898060782485106}, {'tpr': 0.3776223776223776, 'fpr': 0.22695035460992907, 'thr': -0.7950352763581061}, {'tpr': 0.3776223776223776, 'fpr': 0.23049645390070922, 'thr': -0.7956171663768804}, {'tpr': 0.38461538461538464, 'fpr': 0.23049645390070922, 'thr': -0.7968196899007571}, {'tpr': 0.3916083916083916, 'fpr': 0.23404255319148937, 'thr': -0.7970919081188012}, {'tpr': 0.3916083916083916, 'fpr': 0.2375886524822695, 'thr': -0.7986945113284394}, {'tpr': 0.40559440559440557, 'fpr': 0.2375886524822695, 'thr': -0.8068162154921805}, {'tpr': 0.40559440559440557, 'fpr': 0.24113475177304963, 'thr': -0.8111952435312072}, {'tpr': 0.4125874125874126, 'fpr': 0.24113475177304963, 'thr': -0.814108697084402}, {'tpr': 0.4125874125874126, 'fpr': 0.24822695035460993, 'thr': -0.8210586731467668}, {'tpr': 0.43356643356643354, 'fpr': 0.24822695035460993, 'thr': -0.8239475617489109}, {'tpr': 0.43356643356643354, 'fpr': 0.25886524822695034, 'thr': -0.8310283301270317}, {'tpr': 0.4405594405594406, 'fpr': 0.2730496453900709, 'thr': -0.8331573277029423}, {'tpr': 0.4405594405594406, 'fpr': 0.2765957446808511, 'thr': -0.8345181708314505}, {'tpr': 0.4755244755244755, 'fpr': 0.2765957446808511, 'thr': -0.8513773933420814}, {'tpr': 0.4755244755244755, 'fpr': 0.2801418439716312, 'thr': -0.8549644428413499}, {'tpr': 0.4825174825174825, 'fpr': 0.2801418439716312, 'thr': -0.8612713414349136}, {'tpr': 0.4825174825174825, 'fpr': 0.28368794326241137, 'thr': -0.8640796889650337}, {'tpr': 0.4965034965034965, 'fpr': 0.28368794326241137, 'thr': -0.8698351427188046}, {'tpr': 0.4965034965034965, 'fpr': 0.2978723404255319, 'thr': -0.8971622081266204}, {'tpr': 0.5174825174825175, 'fpr': 0.33687943262411346, 'thr': -0.8972516754478934}, {'tpr': 0.5174825174825175, 'fpr': 0.3404255319148936, 'thr': -0.9040590087764192}, {'tpr': 0.5244755244755245, 'fpr': 0.3404255319148936, 'thr': -0.9044620867570751}, {'tpr': 0.5244755244755245, 'fpr': 0.3546099290780142, 'thr': -0.9097481989966827}, {'tpr': 0.5384615384615384, 'fpr': 0.3546099290780142, 'thr': -0.9109177265388324}, {'tpr': 0.5384615384615384, 'fpr': 0.3723404255319149, 'thr': -0.9259652417187066}, {'tpr': 0.5524475524475524, 'fpr': 0.37943262411347517, 'thr': -0.9318492048115473}, {'tpr': 0.5594405594405595, 'fpr': 0.37943262411347517, 'thr': -0.94049188798744}, {'tpr': 0.5594405594405595, 'fpr': 0.3829787234042553, 'thr': -0.9540792134018653}, {'tpr': 0.5734265734265734, 'fpr': 0.3829787234042553, 'thr': -0.9601217752033295}, {'tpr': 0.5944055944055944, 'fpr': 0.3971631205673759, 'thr': -0.9602517297641135}, {'tpr': 0.5944055944055944, 'fpr': 0.40070921985815605, 'thr': -0.9673575867583177}, {'tpr': 0.6013986013986014, 'fpr': 0.40425531914893614, 'thr': -0.9715265972158714}, {'tpr': 0.6083916083916084, 'fpr': 0.40425531914893614, 'thr': -0.9730939330547345}, {'tpr': 0.6083916083916084, 'fpr': 0.4078014184397163, 'thr': -0.9749569597096712}, {'tpr': 0.6223776223776224, 'fpr': 0.4148936170212766, 'thr': -0.9783256864783518}, {'tpr': 0.6293706293706294, 'fpr': 0.4148936170212766, 'thr': -0.998362950350057}, {'tpr': 0.6293706293706294, 'fpr': 0.4219858156028369, 'thr': -1.0135264058961584}, {'tpr': 0.6293706293706294, 'fpr': 0.43617021276595747, 'thr': -1.0152180349457613}, {'tpr': 0.6293706293706294, 'fpr': 0.4432624113475177, 'thr': -1.0217387043410342}, {'tpr': 0.6503496503496503, 'fpr': 0.4432624113475177, 'thr': -1.0271823686753199}, {'tpr': 0.6503496503496503, 'fpr': 0.45390070921985815, 'thr': -1.0374832550738649}, {'tpr': 0.6783216783216783, 'fpr': 0.45390070921985815, 'thr': -1.0481849869117208}, {'tpr': 0.6783216783216783, 'fpr': 0.46099290780141844, 'thr': -1.0514985334883922}, {'tpr': 0.6923076923076923, 'fpr': 0.46808510638297873, 'thr': -1.0521980319667548}, {'tpr': 0.6993006993006993, 'fpr': 0.46808510638297873, 'thr': -1.0530679345355627}, {'tpr': 0.6993006993006993, 'fpr': 0.475177304964539, 'thr': -1.0585748359725005}, {'tpr': 0.6993006993006993, 'fpr': 0.4858156028368794, 'thr': -1.067454323306418}, {'tpr': 0.7062937062937062, 'fpr': 0.4858156028368794, 'thr': -1.078056615175311}, {'tpr': 0.7062937062937062, 'fpr': 0.48936170212765956, 'thr': -1.0798388135180685}, {'tpr': 0.7202797202797203, 'fpr': 0.48936170212765956, 'thr': -1.0824689409840667}, {'tpr': 0.7202797202797203, 'fpr': 0.4929078014184397, 'thr': -1.0831562073615337}, {'tpr': 0.7272727272727273, 'fpr': 0.4929078014184397, 'thr': -1.0900803902499034}, {'tpr': 0.7272727272727273, 'fpr': 0.5, 'thr': -1.0944989737445474}, {'tpr': 0.7342657342657343, 'fpr': 0.5, 'thr': -1.0973529128526434}, {'tpr': 0.7342657342657343, 'fpr': 0.5106382978723404, 'thr': -1.1149061100684416}, {'tpr': 0.7412587412587412, 'fpr': 0.5106382978723404, 'thr': -1.1160380677934767}, {'tpr': 0.7412587412587412, 'fpr': 0.5177304964539007, 'thr': -1.1222549479459991}, {'tpr': 0.7482517482517482, 'fpr': 0.5177304964539007, 'thr': -1.1288661012384054}, {'tpr': 0.7482517482517482, 'fpr': 0.5212765957446809, 'thr': -1.1289976548716254}, {'tpr': 0.7552447552447552, 'fpr': 0.5212765957446809, 'thr': -1.135217960251073}, {'tpr': 0.7552447552447552, 'fpr': 0.524822695035461, 'thr': -1.1365356652198444}, {'tpr': 0.7622377622377622, 'fpr': 0.5283687943262412, 'thr': -1.137620233919384}, {'tpr': 0.7622377622377622, 'fpr': 0.5354609929078015, 'thr': -1.1379864603407004}, {'tpr': 0.7622377622377622, 'fpr': 0.5425531914893617, 'thr': -1.15106598033776}, {'tpr': 0.7762237762237763, 'fpr': 0.5425531914893617, 'thr': -1.1722924776633112}, {'tpr': 0.7762237762237763, 'fpr': 0.549645390070922, 'thr': -1.175929160280892}, {'tpr': 0.7832167832167832, 'fpr': 0.549645390070922, 'thr': -1.1856433490220624}, {'tpr': 0.7832167832167832, 'fpr': 0.5531914893617021, 'thr': -1.1889986063066353}, {'tpr': 0.7902097902097902, 'fpr': 0.5531914893617021, 'thr': -1.1991820510834694}, {'tpr': 0.7902097902097902, 'fpr': 0.5673758865248227, 'thr': -1.219369352178649}, {'tpr': 0.7972027972027972, 'fpr': 0.5709219858156028, 'thr': -1.2213674606271419}, {'tpr': 0.8111888111888111, 'fpr': 0.5709219858156028, 'thr': -1.2294775314803308}, {'tpr': 0.8111888111888111, 'fpr': 0.5815602836879432, 'thr': -1.2342160097577182}, {'tpr': 0.8181818181818182, 'fpr': 0.5815602836879432, 'thr': -1.2459826291947704}, {'tpr': 0.8181818181818182, 'fpr': 0.5921985815602837, 'thr': -1.261166851280696}, {'tpr': 0.8251748251748252, 'fpr': 0.5921985815602837, 'thr': -1.2732419152203027}, {'tpr': 0.8251748251748252, 'fpr': 0.6099290780141844, 'thr': -1.2905162627574664}, {'tpr': 0.8321678321678322, 'fpr': 0.6134751773049646, 'thr': -1.2943534027091268}, {'tpr': 0.8321678321678322, 'fpr': 0.624113475177305, 'thr': -1.317827725879006}, {'tpr': 0.8391608391608392, 'fpr': 0.6312056737588653, 'thr': -1.321045312209888}, {'tpr': 0.8391608391608392, 'fpr': 0.6382978723404256, 'thr': -1.3338600753640701}, {'tpr': 0.8531468531468531, 'fpr': 0.6382978723404256, 'thr': -1.342931496669076}, {'tpr': 0.8531468531468531, 'fpr': 0.648936170212766, 'thr': -1.3489317154852527}, {'tpr': 0.8531468531468531, 'fpr': 0.6560283687943262, 'thr': -1.3492879161462483}, {'tpr': 0.8671328671328671, 'fpr': 0.6666666666666666, 'thr': -1.3493355349718115}, {'tpr': 0.8671328671328671, 'fpr': 0.6773049645390071, 'thr': -1.3559295219300846}, {'tpr': 0.8671328671328671, 'fpr': 0.6843971631205674, 'thr': -1.358718123914455}, {'tpr': 0.8741258741258742, 'fpr': 0.6843971631205674, 'thr': -1.3587427919304345}, {'tpr': 0.8741258741258742, 'fpr': 0.6914893617021277, 'thr': -1.360330292852201}, {'tpr': 0.8741258741258742, 'fpr': 0.6950354609929078, 'thr': -1.3618760051974967}, {'tpr': 0.8811188811188811, 'fpr': 0.6985815602836879, 'thr': -1.3716810673499882}, {'tpr': 0.8811188811188811, 'fpr': 0.7021276595744681, 'thr': -1.3773222120797188}, {'tpr': 0.9020979020979021, 'fpr': 0.7021276595744681, 'thr': -1.3997806360304805}, {'tpr': 0.9020979020979021, 'fpr': 0.723404255319149, 'thr': -1.4231180827657173}, {'tpr': 0.9020979020979021, 'fpr': 0.7340425531914894, 'thr': -1.4274763827930823}, {'tpr': 0.9090909090909091, 'fpr': 0.7340425531914894, 'thr': -1.4276866677822757}, {'tpr': 0.9090909090909091, 'fpr': 0.7375886524822695, 'thr': -1.4294424153106882}, {'tpr': 0.9230769230769231, 'fpr': 0.7375886524822695, 'thr': -1.4473072258449855}, {'tpr': 0.9230769230769231, 'fpr': 0.7446808510638298, 'thr': -1.4626727822952164}, {'tpr': 0.9230769230769231, 'fpr': 0.75177304964539, 'thr': -1.468703028934765}, {'tpr': 0.9300699300699301, 'fpr': 0.75177304964539, 'thr': -1.473265806132582}, {'tpr': 0.9300699300699301, 'fpr': 0.7553191489361702, 'thr': -1.4772894599821136}, {'tpr': 0.9300699300699301, 'fpr': 0.7624113475177305, 'thr': -1.4826608115488265}, {'tpr': 0.9300699300699301, 'fpr': 0.7659574468085106, 'thr': -1.487141228483877}, {'tpr': 0.9370629370629371, 'fpr': 0.7695035460992907, 'thr': -1.4926996033554851}, {'tpr': 0.9440559440559441, 'fpr': 0.7695035460992907, 'thr': -1.5066221090917153}, {'tpr': 0.951048951048951, 'fpr': 0.7730496453900709, 'thr': -1.5081041990084745}, {'tpr': 0.951048951048951, 'fpr': 0.7836879432624113, 'thr': -1.5237260436288749}, {'tpr': 0.958041958041958, 'fpr': 0.7836879432624113, 'thr': -1.5241915942291462}, {'tpr': 0.958041958041958, 'fpr': 0.7978723404255319, 'thr': -1.5454837816237994}, {'tpr': 0.965034965034965, 'fpr': 0.7978723404255319, 'thr': -1.5492704777253619}, {'tpr': 0.972027972027972, 'fpr': 0.8014184397163121, 'thr': -1.556430798927476}, {'tpr': 0.972027972027972, 'fpr': 0.8156028368794326, 'thr': -1.574988177580286}, {'tpr': 0.9790209790209791, 'fpr': 0.8156028368794326, 'thr': -1.5895343116794658}, {'tpr': 0.9790209790209791, 'fpr': 0.8226950354609929, 'thr': -1.6338365858116994}, {'tpr': 0.9790209790209791, 'fpr': 0.8297872340425532, 'thr': -1.6383471324529324}, {'tpr': 0.9790209790209791, 'fpr': 0.8368794326241135, 'thr': -1.6613927511437887}, {'tpr': 0.986013986013986, 'fpr': 0.8368794326241135, 'thr': -1.682259555114623}, {'tpr': 0.986013986013986, 'fpr': 0.8404255319148937, 'thr': -1.6927892716226742}, {'tpr': 0.986013986013986, 'fpr': 0.8581560283687943, 'thr': -1.692793340642564}, {'tpr': 0.986013986013986, 'fpr': 0.875886524822695, 'thr': -1.713587526766328}, {'tpr': 0.986013986013986, 'fpr': 0.8865248226950354, 'thr': -1.7141971064273946}, {'tpr': 0.986013986013986, 'fpr': 0.8900709219858156, 'thr': -1.7245124589500076}, {'tpr': 0.986013986013986, 'fpr': 0.8971631205673759, 'thr': -1.730144066888796}, {'tpr': 0.986013986013986, 'fpr': 0.9219858156028369, 'thr': -1.792973673864555}, {'tpr': 0.993006993006993, 'fpr': 0.9326241134751773, 'thr': -1.8038316135111603}, {'tpr': 0.993006993006993, 'fpr': 0.9397163120567376, 'thr': -1.8127067023991539}, {'tpr': 0.993006993006993, 'fpr': 0.9432624113475178, 'thr': -1.824565518238604}, {'tpr': 1.0, 'fpr': 0.9432624113475178, 'thr': -1.8608591515731272}, {'tpr': 1.0, 'fpr': 0.950354609929078, 'thr': -1.8707766877204213}, {'tpr': 1.0, 'fpr': 0.975177304964539, 'thr': -1.8888737097394444}, {'tpr': 1.0, 'fpr': 0.9822695035460993, 'thr': -1.9147090371486222}, {'tpr': 1.0, 'fpr': 0.9893617021276596, 'thr': -1.9901214617536127}, {'tpr': 1.0, 'fpr': 1.0, 'thr': -2.0304850828880485}]\n"
          ]
        },
        {
          "output_type": "display_data",
          "data": {
            "text/plain": [
              "<Figure size 432x288 with 1 Axes>"
            ],
            "image/png": "[encoded data removed]"
          },
          "metadata": {
            "needs_background": "light"
          }
        }
      ],
      "source": [
        "# Train and test using model LogisticRegressionCV [ /3 marks]\n",
        "# roc_curve, roc_auc_score, auc\n",
        "# Define the model\n",
        "x = LogisticRegressionCV(cv = StratifiedKFold(),random_state=seed)\n",
        "\n",
        "# Fit on the training dataset\n",
        "x.fit(X = TfIDF_train,y= y_train)\n",
        "\n",
        "# Apply to the test dataset\n",
        "y_pred = x.predict_log_proba(TfIDF_test)[:,1]\n",
        "\n",
        "# Plot ROC curve and compute AUC score [ /2 marks]\n",
        "fpr, tpr, thresholds = roc_curve(y_test, y_pred)\n",
        "plt.plot(fpr, tpr)\n",
        "\n",
        "lg_curve = []\n",
        "# Calculate the ROC curve points\n",
        "for i in range(len(tpr)):\n",
        "  lg_curve.append({'tpr': tpr[i], 'fpr':fpr[i],'thr': thresholds[i]})\n",
        "# Save the AUC in a variable to display it. Round it first\n",
        "aucLR = np.round(auc(fpr,tpr),2)\n",
        "print('AUC Score ',aucLR)\n",
        "print(lg_curve)\n",
        "# Create and show the plot\n",
        "plt.xlabel('False Positive Rate')\n",
        "plt.ylabel('True Positive Rate')\n",
        "plt.title('ROC Curve Logistic Regression' )\n",
        "plt.show()"
      ]
    },
    {
      "cell_type": "markdown",
      "id": "8d2f05ad",
      "metadata": {
        "id": "8d2f05ad"
      },
      "source": [
        "### Question 2.2 \n",
        "Train a regularized logistic regression over an SVD-reduced dataset (with 13 components) using l2 regularization. Calculate the AUC score and plot the ROC curve for the SVD-transformed test set."
      ]
    },
    {
      "cell_type": "code",
      "execution_count": 26,
      "id": "descending-picking",
      "metadata": {
        "id": "descending-picking",
        "colab": {
          "base_uri": "https://localhost:8080/",
          "height": 349
        },
        "outputId": "9591da62-614a-46b1-ab3e-2cac03560fe7"
      },
      "outputs": [
        {
          "output_type": "stream",
          "name": "stdout",
          "text": [
            "[{'tpr': 0.0, 'fpr': 0.0, 'thr': 0.6393155020887414}, {'tpr': 0.006993006993006993, 'fpr': 0.0, 'thr': -0.36068449791125856}, {'tpr': 0.006993006993006993, 'fpr': 0.0035460992907801418, 'thr': -0.3902782903614263}, {'tpr': 0.006993006993006993, 'fpr': 0.010638297872340425, 'thr': -0.39599927127974305}, {'tpr': 0.006993006993006993, 'fpr': 0.02127659574468085, 'thr': -0.41926712369016017}, {'tpr': 0.013986013986013986, 'fpr': 0.02127659574468085, 'thr': -0.42766265099215883}, {'tpr': 0.013986013986013986, 'fpr': 0.024822695035460994, 'thr': -0.44828300061715975}, {'tpr': 0.02097902097902098, 'fpr': 0.024822695035460994, 'thr': -0.46086555226714027}, {'tpr': 0.02097902097902098, 'fpr': 0.03546099290780142, 'thr': -0.47361426284114627}, {'tpr': 0.027972027972027972, 'fpr': 0.03546099290780142, 'thr': -0.4736435178907205}, {'tpr': 0.027972027972027972, 'fpr': 0.0425531914893617, 'thr': -0.49321316617346206}, {'tpr': 0.027972027972027972, 'fpr': 0.04609929078014184, 'thr': -0.5048592933455945}, {'tpr': 0.04195804195804196, 'fpr': 0.04964539007092199, 'thr': -0.5055284372142952}, {'tpr': 0.04195804195804196, 'fpr': 0.05319148936170213, 'thr': -0.5144713585902333}, {'tpr': 0.04895104895104895, 'fpr': 0.06382978723404255, 'thr': -0.5166240189364888}, {'tpr': 0.04895104895104895, 'fpr': 0.07092198581560284, 'thr': -0.5202926901263166}, {'tpr': 0.055944055944055944, 'fpr': 0.07092198581560284, 'thr': -0.5373721450049707}, {'tpr': 0.06293706293706294, 'fpr': 0.07446808510638298, 'thr': -0.5430853385853115}, {'tpr': 0.07692307692307693, 'fpr': 0.07446808510638298, 'thr': -0.5506378176550049}, {'tpr': 0.07692307692307693, 'fpr': 0.09929078014184398, 'thr': -0.5711811349626081}, {'tpr': 0.08391608391608392, 'fpr': 0.09929078014184398, 'thr': -0.5723885581103788}, {'tpr': 0.08391608391608392, 'fpr': 0.10283687943262411, 'thr': -0.5744895294331425}, {'tpr': 0.09090909090909091, 'fpr': 0.10283687943262411, 'thr': -0.5792296348831768}, {'tpr': 0.09090909090909091, 'fpr': 0.11347517730496454, 'thr': -0.5912217962099122}, {'tpr': 0.1258741258741259, 'fpr': 0.11347517730496454, 'thr': -0.6277325029228328}, {'tpr': 0.1258741258741259, 'fpr': 0.11702127659574468, 'thr': -0.6296686154888391}, {'tpr': 0.14685314685314685, 'fpr': 0.11702127659574468, 'thr': -0.6596139380912751}, {'tpr': 0.14685314685314685, 'fpr': 0.13120567375886524, 'thr': -0.6619015680173629}, {'tpr': 0.15384615384615385, 'fpr': 0.13120567375886524, 'thr': -0.66829491606062}, {'tpr': 0.15384615384615385, 'fpr': 0.13829787234042554, 'thr': -0.6709527599664684}, {'tpr': 0.18181818181818182, 'fpr': 0.13829787234042554, 'thr': -0.6738215011408659}, {'tpr': 0.18181818181818182, 'fpr': 0.14893617021276595, 'thr': -0.6795386507369332}, {'tpr': 0.1888111888111888, 'fpr': 0.14893617021276595, 'thr': -0.6822229666887857}, {'tpr': 0.1888111888111888, 'fpr': 0.1524822695035461, 'thr': -0.6924577099605623}, {'tpr': 0.1958041958041958, 'fpr': 0.1524822695035461, 'thr': -0.6980228892421453}, {'tpr': 0.1958041958041958, 'fpr': 0.15602836879432624, 'thr': -0.6997130056749937}, {'tpr': 0.20279720279720279, 'fpr': 0.15602836879432624, 'thr': -0.7002887199925328}, {'tpr': 0.20279720279720279, 'fpr': 0.16666666666666666, 'thr': -0.7401530375462357}, {'tpr': 0.2097902097902098, 'fpr': 0.1702127659574468, 'thr': -0.740575062073895}, {'tpr': 0.21678321678321677, 'fpr': 0.1702127659574468, 'thr': -0.7432196924091439}, {'tpr': 0.21678321678321677, 'fpr': 0.18085106382978725, 'thr': -0.765731467902739}, {'tpr': 0.22377622377622378, 'fpr': 0.18085106382978725, 'thr': -0.768101333501357}, {'tpr': 0.22377622377622378, 'fpr': 0.18439716312056736, 'thr': -0.7709678708279275}, {'tpr': 0.23776223776223776, 'fpr': 0.18439716312056736, 'thr': -0.7740789841945108}, {'tpr': 0.26573426573426573, 'fpr': 0.18439716312056736, 'thr': -0.8006759009713582}, {'tpr': 0.26573426573426573, 'fpr': 0.1879432624113475, 'thr': -0.8036197679493772}, {'tpr': 0.2867132867132867, 'fpr': 0.22695035460992907, 'thr': -0.8041864507490801}, {'tpr': 0.2867132867132867, 'fpr': 0.23049645390070922, 'thr': -0.8173714229070493}, {'tpr': 0.2867132867132867, 'fpr': 0.24468085106382978, 'thr': -0.8298230098599001}, {'tpr': 0.3006993006993007, 'fpr': 0.25177304964539005, 'thr': -0.8318246671748448}, {'tpr': 0.3076923076923077, 'fpr': 0.25177304964539005, 'thr': -0.8393731534789522}, {'tpr': 0.3146853146853147, 'fpr': 0.2553191489361702, 'thr': -0.841250573550109}, {'tpr': 0.32167832167832167, 'fpr': 0.2553191489361702, 'thr': -0.845554396571868}, {'tpr': 0.32167832167832167, 'fpr': 0.2624113475177305, 'thr': -0.8474675758741889}, {'tpr': 0.32867132867132864, 'fpr': 0.26595744680851063, 'thr': -0.8509444094108134}, {'tpr': 0.32867132867132864, 'fpr': 0.2695035460992908, 'thr': -0.8557455765546136}, {'tpr': 0.3356643356643357, 'fpr': 0.2730496453900709, 'thr': -0.8558863886058892}, {'tpr': 0.3356643356643357, 'fpr': 0.2801418439716312, 'thr': -0.8663209897875773}, {'tpr': 0.3356643356643357, 'fpr': 0.2872340425531915, 'thr': -0.8702284783568169}, {'tpr': 0.34965034965034963, 'fpr': 0.2872340425531915, 'thr': -0.8818927798915278}, {'tpr': 0.36363636363636365, 'fpr': 0.2872340425531915, 'thr': -0.8928493679393659}, {'tpr': 0.36363636363636365, 'fpr': 0.2907801418439716, 'thr': -0.8959195488725427}, {'tpr': 0.38461538461538464, 'fpr': 0.3049645390070922, 'thr': -0.8973707582801708}, {'tpr': 0.38461538461538464, 'fpr': 0.30851063829787234, 'thr': -0.8999643066732627}, {'tpr': 0.3986013986013986, 'fpr': 0.30851063829787234, 'thr': -0.9001329181047395}, {'tpr': 0.3986013986013986, 'fpr': 0.3120567375886525, 'thr': -0.901603595848813}, {'tpr': 0.40559440559440557, 'fpr': 0.3120567375886525, 'thr': -0.9039079375429264}, {'tpr': 0.40559440559440557, 'fpr': 0.32269503546099293, 'thr': -0.9131676557456031}, {'tpr': 0.4195804195804196, 'fpr': 0.32269503546099293, 'thr': -0.9174837759317912}, {'tpr': 0.4195804195804196, 'fpr': 0.32978723404255317, 'thr': -0.9226538784654514}, {'tpr': 0.4195804195804196, 'fpr': 0.33687943262411346, 'thr': -0.9293071082978879}, {'tpr': 0.42657342657342656, 'fpr': 0.33687943262411346, 'thr': -0.9311922501642775}, {'tpr': 0.42657342657342656, 'fpr': 0.34397163120567376, 'thr': -0.9327295220995693}, {'tpr': 0.42657342657342656, 'fpr': 0.35815602836879434, 'thr': -0.957758149299059}, {'tpr': 0.44755244755244755, 'fpr': 0.35815602836879434, 'thr': -0.9754268650324783}, {'tpr': 0.44755244755244755, 'fpr': 0.36524822695035464, 'thr': -0.9835784817917099}, {'tpr': 0.44755244755244755, 'fpr': 0.3723404255319149, 'thr': -0.9929312828022905}, {'tpr': 0.44755244755244755, 'fpr': 0.3829787234042553, 'thr': -0.9967699346457569}, {'tpr': 0.44755244755244755, 'fpr': 0.38652482269503546, 'thr': -1.0032810161784813}, {'tpr': 0.45454545454545453, 'fpr': 0.38652482269503546, 'thr': -1.0045962917815465}, {'tpr': 0.45454545454545453, 'fpr': 0.3900709219858156, 'thr': -1.0056805907521753}, {'tpr': 0.46153846153846156, 'fpr': 0.3900709219858156, 'thr': -1.0073740899295869}, {'tpr': 0.46153846153846156, 'fpr': 0.3971631205673759, 'thr': -1.0127716543986973}, {'tpr': 0.46853146853146854, 'fpr': 0.3971631205673759, 'thr': -1.0145017172416424}, {'tpr': 0.46853146853146854, 'fpr': 0.40070921985815605, 'thr': -1.0166400360622323}, {'tpr': 0.48951048951048953, 'fpr': 0.40070921985815605, 'thr': -1.0244572762452464}, {'tpr': 0.48951048951048953, 'fpr': 0.4078014184397163, 'thr': -1.0270526342638557}, {'tpr': 0.4965034965034965, 'fpr': 0.4078014184397163, 'thr': -1.0272987934381659}, {'tpr': 0.4965034965034965, 'fpr': 0.41134751773049644, 'thr': -1.0520501601463998}, {'tpr': 0.5034965034965035, 'fpr': 0.41134751773049644, 'thr': -1.055516960437399}, {'tpr': 0.5034965034965035, 'fpr': 0.41843971631205673, 'thr': -1.0571439459169214}, {'tpr': 0.5174825174825175, 'fpr': 0.42907801418439717, 'thr': -1.0649983502790863}, {'tpr': 0.5244755244755245, 'fpr': 0.42907801418439717, 'thr': -1.0694617608039942}, {'tpr': 0.5384615384615384, 'fpr': 0.4432624113475177, 'thr': -1.070497787643432}, {'tpr': 0.5384615384615384, 'fpr': 0.44680851063829785, 'thr': -1.0708455801233756}, {'tpr': 0.5384615384615384, 'fpr': 0.4645390070921986, 'thr': -1.0731915786847281}, {'tpr': 0.5384615384615384, 'fpr': 0.475177304964539, 'thr': -1.0845658404606646}, {'tpr': 0.5384615384615384, 'fpr': 0.48226950354609927, 'thr': -1.0849135354658457}, {'tpr': 0.5384615384615384, 'fpr': 0.4858156028368794, 'thr': -1.0876585279219766}, {'tpr': 0.5454545454545454, 'fpr': 0.4858156028368794, 'thr': -1.0880062463078728}, {'tpr': 0.5454545454545454, 'fpr': 0.4929078014184397, 'thr': -1.0893624795965782}, {'tpr': 0.5524475524475524, 'fpr': 0.4929078014184397, 'thr': -1.091074978990148}, {'tpr': 0.5524475524475524, 'fpr': 0.5035460992907801, 'thr': -1.0924165346636114}, {'tpr': 0.5734265734265734, 'fpr': 0.5035460992907801, 'thr': -1.104278560988718}, {'tpr': 0.5734265734265734, 'fpr': 0.5106382978723404, 'thr': -1.106333245253958}, {'tpr': 0.5804195804195804, 'fpr': 0.5106382978723404, 'thr': -1.1066088828566567}, {'tpr': 0.5804195804195804, 'fpr': 0.5212765957446809, 'thr': -1.1093796897839348}, {'tpr': 0.5874125874125874, 'fpr': 0.524822695035461, 'thr': -1.1148175207351991}, {'tpr': 0.5874125874125874, 'fpr': 0.5283687943262412, 'thr': -1.1166828220125875}, {'tpr': 0.5944055944055944, 'fpr': 0.5283687943262412, 'thr': -1.1194945333097417}, {'tpr': 0.5944055944055944, 'fpr': 0.5390070921985816, 'thr': -1.1197030905412806}, {'tpr': 0.5944055944055944, 'fpr': 0.5602836879432624, 'thr': -1.1404929106923376}, {'tpr': 0.6083916083916084, 'fpr': 0.5602836879432624, 'thr': -1.141719143928205}, {'tpr': 0.6083916083916084, 'fpr': 0.5673758865248227, 'thr': -1.1423943519242974}, {'tpr': 0.6153846153846154, 'fpr': 0.5673758865248227, 'thr': -1.1451697453360743}, {'tpr': 0.6153846153846154, 'fpr': 0.5780141843971631, 'thr': -1.1730959250629855}, {'tpr': 0.6223776223776224, 'fpr': 0.5780141843971631, 'thr': -1.1777577832969035}, {'tpr': 0.6223776223776224, 'fpr': 0.5851063829787234, 'thr': -1.1793005392454285}, {'tpr': 0.6293706293706294, 'fpr': 0.5851063829787234, 'thr': -1.1883756501549538}, {'tpr': 0.6363636363636364, 'fpr': 0.5886524822695035, 'thr': -1.1936795767356179}, {'tpr': 0.6363636363636364, 'fpr': 0.5921985815602837, 'thr': -1.194142295655365}, {'tpr': 0.6573426573426573, 'fpr': 0.5921985815602837, 'thr': -1.1986821191899437}, {'tpr': 0.6573426573426573, 'fpr': 0.599290780141844, 'thr': -1.1988997076591374}, {'tpr': 0.6573426573426573, 'fpr': 0.6063829787234043, 'thr': -1.2124692990434431}, {'tpr': 0.6643356643356644, 'fpr': 0.6063829787234043, 'thr': -1.2125070171492134}, {'tpr': 0.6643356643356644, 'fpr': 0.6099290780141844, 'thr': -1.2148041207499414}, {'tpr': 0.6923076923076923, 'fpr': 0.624113475177305, 'thr': -1.226835850291043}, {'tpr': 0.6923076923076923, 'fpr': 0.6312056737588653, 'thr': -1.2348757697085786}, {'tpr': 0.7132867132867133, 'fpr': 0.6312056737588653, 'thr': -1.2401363237973289}, {'tpr': 0.7132867132867133, 'fpr': 0.6347517730496454, 'thr': -1.2476063656606586}, {'tpr': 0.7202797202797203, 'fpr': 0.6453900709219859, 'thr': -1.251594125762539}, {'tpr': 0.7202797202797203, 'fpr': 0.648936170212766, 'thr': -1.253116306706495}, {'tpr': 0.7272727272727273, 'fpr': 0.648936170212766, 'thr': -1.2598908749609057}, {'tpr': 0.7552447552447552, 'fpr': 0.6737588652482269, 'thr': -1.2606297885561524}, {'tpr': 0.7622377622377622, 'fpr': 0.6737588652482269, 'thr': -1.2607604976305082}, {'tpr': 0.7622377622377622, 'fpr': 0.6773049645390071, 'thr': -1.2628894913267132}, {'tpr': 0.7762237762237763, 'fpr': 0.6773049645390071, 'thr': -1.2819188745353116}, {'tpr': 0.7762237762237763, 'fpr': 0.7021276595744681, 'thr': -1.2909169411715984}, {'tpr': 0.7762237762237763, 'fpr': 0.7092198581560284, 'thr': -1.2950894939306177}, {'tpr': 0.7762237762237763, 'fpr': 0.7163120567375887, 'thr': -1.2958987765518624}, {'tpr': 0.7832167832167832, 'fpr': 0.7198581560283688, 'thr': -1.2992839246590804}, {'tpr': 0.7832167832167832, 'fpr': 0.7269503546099291, 'thr': -1.3117960349030449}, {'tpr': 0.7902097902097902, 'fpr': 0.7269503546099291, 'thr': -1.3118340962130808}, {'tpr': 0.7972027972027972, 'fpr': 0.7340425531914894, 'thr': -1.3181550435238234}, {'tpr': 0.8041958041958042, 'fpr': 0.7375886524822695, 'thr': -1.3305516055899465}, {'tpr': 0.8041958041958042, 'fpr': 0.7446808510638298, 'thr': -1.3580965133155067}, {'tpr': 0.8181818181818182, 'fpr': 0.7446808510638298, 'thr': -1.366532255620094}, {'tpr': 0.8251748251748252, 'fpr': 0.74822695035461, 'thr': -1.3681376969325076}, {'tpr': 0.8391608391608392, 'fpr': 0.74822695035461, 'thr': -1.3772325577315303}, {'tpr': 0.8391608391608392, 'fpr': 0.7588652482269503, 'thr': -1.387349492998329}, {'tpr': 0.8461538461538461, 'fpr': 0.7730496453900709, 'thr': -1.396884122127057}, {'tpr': 0.8461538461538461, 'fpr': 0.776595744680851, 'thr': -1.4019678463989342}, {'tpr': 0.8531468531468531, 'fpr': 0.776595744680851, 'thr': -1.4102020492750793}, {'tpr': 0.8531468531468531, 'fpr': 0.7801418439716312, 'thr': -1.4116133817129897}, {'tpr': 0.8601398601398601, 'fpr': 0.7801418439716312, 'thr': -1.4137945916782628}, {'tpr': 0.8601398601398601, 'fpr': 0.7872340425531915, 'thr': -1.4216509364005772}, {'tpr': 0.8601398601398601, 'fpr': 0.7907801418439716, 'thr': -1.4217369979410757}, {'tpr': 0.8811188811188811, 'fpr': 0.7907801418439716, 'thr': -1.4493049164409182}, {'tpr': 0.8811188811188811, 'fpr': 0.7978723404255319, 'thr': -1.461875832382016}, {'tpr': 0.8881118881118881, 'fpr': 0.7978723404255319, 'thr': -1.4642285443668706}, {'tpr': 0.8881118881118881, 'fpr': 0.8049645390070922, 'thr': -1.4698628178294937}, {'tpr': 0.8951048951048951, 'fpr': 0.8049645390070922, 'thr': -1.4739487113232979}, {'tpr': 0.8951048951048951, 'fpr': 0.8085106382978723, 'thr': -1.4813427440182412}, {'tpr': 0.9090909090909091, 'fpr': 0.8085106382978723, 'thr': -1.516857292701096}, {'tpr': 0.9090909090909091, 'fpr': 0.8120567375886525, 'thr': -1.5177604466615502}, {'tpr': 0.916083916083916, 'fpr': 0.8120567375886525, 'thr': -1.5250181830097165}, {'tpr': 0.916083916083916, 'fpr': 0.8156028368794326, 'thr': -1.5301800333691724}, {'tpr': 0.916083916083916, 'fpr': 0.8262411347517731, 'thr': -1.5319024949969755}, {'tpr': 0.916083916083916, 'fpr': 0.8333333333333334, 'thr': -1.533318402889769}, {'tpr': 0.9230769230769231, 'fpr': 0.8368794326241135, 'thr': -1.5343251506092122}, {'tpr': 0.9230769230769231, 'fpr': 0.8404255319148937, 'thr': -1.5356438727580763}, {'tpr': 0.9300699300699301, 'fpr': 0.8439716312056738, 'thr': -1.5477718659220288}, {'tpr': 0.9370629370629371, 'fpr': 0.8439716312056738, 'thr': -1.573536935266135}, {'tpr': 0.9370629370629371, 'fpr': 0.8546099290780141, 'thr': -1.5753729534149516}, {'tpr': 0.9370629370629371, 'fpr': 0.8581560283687943, 'thr': -1.576355186593602}, {'tpr': 0.9440559440559441, 'fpr': 0.8581560283687943, 'thr': -1.583950026102338}, {'tpr': 0.9440559440559441, 'fpr': 0.8617021276595744, 'thr': -1.589484519112165}, {'tpr': 0.9440559440559441, 'fpr': 0.8687943262411347, 'thr': -1.5895318950522612}, {'tpr': 0.9440559440559441, 'fpr': 0.8865248226950354, 'thr': -1.6210386954241396}, {'tpr': 0.965034965034965, 'fpr': 0.900709219858156, 'thr': -1.6224422728191756}, {'tpr': 0.972027972027972, 'fpr': 0.900709219858156, 'thr': -1.6304728756650024}, {'tpr': 0.972027972027972, 'fpr': 0.9468085106382979, 'thr': -1.8009747970770733}, {'tpr': 0.9790209790209791, 'fpr': 0.9468085106382979, 'thr': -1.8126022266809045}, {'tpr': 0.9790209790209791, 'fpr': 0.950354609929078, 'thr': -1.8172511499643276}, {'tpr': 0.986013986013986, 'fpr': 0.950354609929078, 'thr': -1.827120305285116}, {'tpr': 0.986013986013986, 'fpr': 0.9680851063829787, 'thr': -1.8418614395088424}, {'tpr': 0.986013986013986, 'fpr': 0.975177304964539, 'thr': -1.8489789689663223}, {'tpr': 0.986013986013986, 'fpr': 0.9822695035460993, 'thr': -1.8869215130949561}, {'tpr': 0.986013986013986, 'fpr': 0.9858156028368794, 'thr': -1.953586135205987}, {'tpr': 0.993006993006993, 'fpr': 0.9858156028368794, 'thr': -1.9636344598146815}, {'tpr': 0.993006993006993, 'fpr': 1.0, 'thr': -2.009518068652566}, {'tpr': 1.0, 'fpr': 1.0, 'thr': -2.0542468589676384}]\n",
            "AUC Score  0.56\n"
          ]
        },
        {
          "output_type": "display_data",
          "data": {
            "text/plain": [
              "<Figure size 432x288 with 1 Axes>"
            ],
            "image/png": "[encoded data removed]"
          },
          "metadata": {
            "needs_background": "light"
          }
        }
      ],
      "source": [
        "# Apply SVD first [ / 4 marks]\n",
        "svdX_train = TruncatedSVD(random_state=seed,n_components=13).fit_transform(TfIDF_train)\n",
        "svdX_test =  TruncatedSVD(random_state=seed,n_components=13).fit_transform(TfIDF_test)\n",
        "x = LogisticRegressionCV(random_state=seed, cv = StratifiedKFold())\n",
        "\n",
        "#Train and test using model LogisticRegressionCV [ /3 marks]\n",
        "x.fit(svdX_train, y_train)\n",
        "y_pred = x.predict_log_proba(svdX_test)[:,1]\n",
        "# Plot ROC curve and compute AUC score [ /2 marks]\n",
        "fpr, tpr, thresholds = roc_curve(y_test, y_pred)\n",
        "plt.plot(fpr, tpr)\n",
        "lg_curve = []\n",
        "# Calculate the ROC curve points\n",
        "for i in range(len(tpr)):\n",
        "  lg_curve.append({'tpr': tpr[i], 'fpr':fpr[i],'thr': thresholds[i]})\n",
        "print(lg_curve)\n",
        "# Save the AUC in a variable to display it. Round it first\n",
        "aucSVD = np.round(auc(fpr,tpr),2)\n",
        "print('AUC Score ',aucSVD)\n",
        "# Create and show the plot\n",
        "plt.xlabel('False Positive Rate')\n",
        "plt.ylabel('True Positive Rate')\n",
        "plt.title('ROC Curve SVD' )\n",
        "plt.show()\n"
      ]
    },
    {
      "cell_type": "markdown",
      "id": "814b2fc4",
      "metadata": {
        "id": "814b2fc4"
      },
      "source": [
        "### Question 2.3 \n",
        "Train a regularized logistic regression over the UMAP-reduced dataset (with 13 components using the same parameters as Task 1.5) using l2 regularization. Calculate the AUC score and plot the ROC curve for the UMAP-transformed test set."
      ]
    },
    {
      "cell_type": "code",
      "execution_count": 25,
      "id": "unnecessary-geology",
      "metadata": {
        "id": "unnecessary-geology",
        "colab": {
          "base_uri": "https://localhost:8080/",
          "height": 349
        },
        "outputId": "bf14b19a-e4c7-4c9a-d137-06a753ca44bf"
      },
      "outputs": [
        {
          "output_type": "stream",
          "name": "stdout",
          "text": [
            "[{'tpr': 0.0, 'fpr': 0.0, 'thr': 1.4301509828971608}, {'tpr': 0.006993006993006993, 'fpr': 0.0, 'thr': 0.4301509828971609}, {'tpr': 0.006993006993006993, 'fpr': 0.0070921985815602835, 'thr': 0.4145803622631586}, {'tpr': 0.013986013986013986, 'fpr': 0.0070921985815602835, 'thr': 0.414536475789242}, {'tpr': 0.013986013986013986, 'fpr': 0.01773049645390071, 'thr': 0.4143177140169628}, {'tpr': 0.027972027972027972, 'fpr': 0.01773049645390071, 'thr': 0.4141344621274091}, {'tpr': 0.027972027972027972, 'fpr': 0.02127659574468085, 'thr': 0.4141138838179192}, {'tpr': 0.03496503496503497, 'fpr': 0.02127659574468085, 'thr': 0.4140819517127627}, {'tpr': 0.03496503496503497, 'fpr': 0.028368794326241134, 'thr': 0.41390186844150245}, {'tpr': 0.04895104895104895, 'fpr': 0.028368794326241134, 'thr': 0.41364728073083623}, {'tpr': 0.04895104895104895, 'fpr': 0.031914893617021274, 'thr': 0.4135478352755291}, {'tpr': 0.055944055944055944, 'fpr': 0.031914893617021274, 'thr': 0.4134193492598877}, {'tpr': 0.055944055944055944, 'fpr': 0.04964539007092199, 'thr': 0.39317495613580167}, {'tpr': 0.06293706293706294, 'fpr': 0.04964539007092199, 'thr': 0.3931384779208363}, {'tpr': 0.06293706293706294, 'fpr': 0.05319148936170213, 'thr': 0.393114424983837}, {'tpr': 0.06993006993006994, 'fpr': 0.05319148936170213, 'thr': 0.3929964120607124}, {'tpr': 0.06993006993006994, 'fpr': 0.05673758865248227, 'thr': 0.392982132986694}, {'tpr': 0.08391608391608392, 'fpr': 0.05673758865248227, 'thr': 0.39256563111836296}, {'tpr': 0.08391608391608392, 'fpr': 0.0673758865248227, 'thr': 0.3920421164244007}, {'tpr': 0.09090909090909091, 'fpr': 0.0673758865248227, 'thr': 0.3918580416648504}, {'tpr': 0.09090909090909091, 'fpr': 0.07446808510638298, 'thr': 0.39042655475694077}, {'tpr': 0.11188811188811189, 'fpr': 0.07446808510638298, 'thr': 0.38934565610778343}, {'tpr': 0.11188811188811189, 'fpr': 0.07801418439716312, 'thr': 0.38920357260169236}, {'tpr': 0.11888111888111888, 'fpr': 0.07801418439716312, 'thr': 0.3890602237099678}, {'tpr': 0.11888111888111888, 'fpr': 0.08156028368794327, 'thr': 0.3888431233719526}, {'tpr': 0.13286713286713286, 'fpr': 0.08156028368794327, 'thr': 0.38857646833407167}, {'tpr': 0.13286713286713286, 'fpr': 0.0851063829787234, 'thr': 0.3884092503012823}, {'tpr': 0.13986013986013987, 'fpr': 0.0851063829787234, 'thr': 0.3884058684714461}, {'tpr': 0.13986013986013987, 'fpr': 0.08865248226950355, 'thr': 0.3883532519071739}, {'tpr': 0.15384615384615385, 'fpr': 0.08865248226950355, 'thr': 0.3882528754803296}, {'tpr': 0.15384615384615385, 'fpr': 0.09219858156028368, 'thr': 0.3880578869094088}, {'tpr': 0.16783216783216784, 'fpr': 0.09219858156028368, 'thr': 0.387796883401099}, {'tpr': 0.16783216783216784, 'fpr': 0.09929078014184398, 'thr': 0.3876518898673866}, {'tpr': 0.18181818181818182, 'fpr': 0.09929078014184398, 'thr': 0.3874722259139959}, {'tpr': 0.18181818181818182, 'fpr': 0.11347517730496454, 'thr': 0.3869524783030307}, {'tpr': 0.1888111888111888, 'fpr': 0.11347517730496454, 'thr': 0.38672489952716854}, {'tpr': 0.1888111888111888, 'fpr': 0.12411347517730496, 'thr': 0.3864277584028561}, {'tpr': 0.1958041958041958, 'fpr': 0.12411347517730496, 'thr': 0.3864043602559622}, {'tpr': 0.1958041958041958, 'fpr': 0.1453900709219858, 'thr': 0.38616497138970923}, {'tpr': 0.21678321678321677, 'fpr': 0.1453900709219858, 'thr': 0.3846182033297911}, {'tpr': 0.21678321678321677, 'fpr': 0.14893617021276595, 'thr': 0.384249214408029}, {'tpr': 0.23076923076923078, 'fpr': 0.14893617021276595, 'thr': 0.38302506094260147}, {'tpr': 0.23076923076923078, 'fpr': 0.15602836879432624, 'thr': 0.3827728525022132}, {'tpr': 0.23776223776223776, 'fpr': 0.15602836879432624, 'thr': 0.3818855600064884}, {'tpr': 0.23776223776223776, 'fpr': 0.1595744680851064, 'thr': 0.38148681803130896}, {'tpr': 0.24475524475524477, 'fpr': 0.1595744680851064, 'thr': 0.38108978132405674}, {'tpr': 0.24475524475524477, 'fpr': 0.16666666666666666, 'thr': 0.3809875881510613}, {'tpr': 0.25874125874125875, 'fpr': 0.16666666666666666, 'thr': 0.3809448574911888}, {'tpr': 0.25874125874125875, 'fpr': 0.17375886524822695, 'thr': 0.3808556773235562}, {'tpr': 0.26573426573426573, 'fpr': 0.17375886524822695, 'thr': 0.3807829791898206}, {'tpr': 0.26573426573426573, 'fpr': 0.18085106382978725, 'thr': 0.38046557729062264}, {'tpr': 0.27972027972027974, 'fpr': 0.18085106382978725, 'thr': 0.3804642214749266}, {'tpr': 0.27972027972027974, 'fpr': 0.18439716312056736, 'thr': 0.38040916191986285}, {'tpr': 0.2867132867132867, 'fpr': 0.18439716312056736, 'thr': 0.3802958861186586}, {'tpr': 0.2867132867132867, 'fpr': 0.19148936170212766, 'thr': 0.37997865605166453}, {'tpr': 0.3006993006993007, 'fpr': 0.19148936170212766, 'thr': 0.379914899602496}, {'tpr': 0.3006993006993007, 'fpr': 0.19858156028368795, 'thr': 0.3794409330079994}, {'tpr': 0.3076923076923077, 'fpr': 0.19858156028368795, 'thr': 0.3793757583702916}, {'tpr': 0.3076923076923077, 'fpr': 0.21631205673758866, 'thr': 0.3791499524025797}, {'tpr': 0.3146853146853147, 'fpr': 0.21631205673758866, 'thr': 0.3790319866965055}, {'tpr': 0.3146853146853147, 'fpr': 0.23049645390070922, 'thr': 0.3785736615062081}, {'tpr': 0.32167832167832167, 'fpr': 0.23049645390070922, 'thr': 0.37853995148592157}, {'tpr': 0.32167832167832167, 'fpr': 0.2375886524822695, 'thr': 0.3784878933171076}, {'tpr': 0.32867132867132864, 'fpr': 0.2375886524822695, 'thr': 0.3784423724731295}, {'tpr': 0.32867132867132864, 'fpr': 0.24113475177304963, 'thr': 0.3783978016934084}, {'tpr': 0.3356643356643357, 'fpr': 0.24113475177304963, 'thr': 0.37834141529976256}, {'tpr': 0.3356643356643357, 'fpr': 0.24468085106382978, 'thr': 0.3783266554145162}, {'tpr': 0.34965034965034963, 'fpr': 0.24468085106382978, 'thr': 0.37822454326593374}, {'tpr': 0.34965034965034963, 'fpr': 0.25177304964539005, 'thr': 0.37804187075050105}, {'tpr': 0.36363636363636365, 'fpr': 0.25177304964539005, 'thr': 0.37747152067107437}, {'tpr': 0.36363636363636365, 'fpr': 0.2553191489361702, 'thr': 0.37745992103207276}, {'tpr': 0.3706293706293706, 'fpr': 0.2553191489361702, 'thr': 0.37742677215543635}, {'tpr': 0.3706293706293706, 'fpr': 0.25886524822695034, 'thr': 0.37605459030434535}, {'tpr': 0.3776223776223776, 'fpr': 0.25886524822695034, 'thr': 0.37468664723905537}, {'tpr': 0.3776223776223776, 'fpr': 0.2624113475177305, 'thr': 0.3742396494336542}, {'tpr': 0.38461538461538464, 'fpr': 0.2624113475177305, 'thr': 0.37421366952816404}, {'tpr': 0.38461538461538464, 'fpr': 0.2730496453900709, 'thr': 0.374103538648043}, {'tpr': 0.3986013986013986, 'fpr': 0.2730496453900709, 'thr': 0.3738724796229065}, {'tpr': 0.3986013986013986, 'fpr': 0.2801418439716312, 'thr': 0.3737801256801318}, {'tpr': 0.4125874125874126, 'fpr': 0.2801418439716312, 'thr': 0.3735713640872878}, {'tpr': 0.4125874125874126, 'fpr': 0.29432624113475175, 'thr': 0.3731868654025543}, {'tpr': 0.43356643356643354, 'fpr': 0.29432624113475175, 'thr': 0.3728900159626855}, {'tpr': 0.43356643356643354, 'fpr': 0.30851063829787234, 'thr': 0.371861758927763}, {'tpr': 0.4405594405594406, 'fpr': 0.30851063829787234, 'thr': 0.3717580093218061}, {'tpr': 0.4405594405594406, 'fpr': 0.31560283687943264, 'thr': 0.37148110307947535}, {'tpr': 0.44755244755244755, 'fpr': 0.31560283687943264, 'thr': 0.37145521702149853}, {'tpr': 0.44755244755244755, 'fpr': 0.3191489361702128, 'thr': 0.3714150848850547}, {'tpr': 0.45454545454545453, 'fpr': 0.3191489361702128, 'thr': 0.3713843808317775}, {'tpr': 0.45454545454545453, 'fpr': 0.32978723404255317, 'thr': 0.37125596806815025}, {'tpr': 0.46153846153846156, 'fpr': 0.32978723404255317, 'thr': 0.371238760386431}, {'tpr': 0.46153846153846156, 'fpr': 0.33687943262411346, 'thr': 0.3708861017965657}, {'tpr': 0.4755244755244755, 'fpr': 0.33687943262411346, 'thr': 0.37069857176293874}, {'tpr': 0.4755244755244755, 'fpr': 0.34397163120567376, 'thr': 0.37060915816778434}, {'tpr': 0.48951048951048953, 'fpr': 0.34397163120567376, 'thr': 0.3704802985574484}, {'tpr': 0.48951048951048953, 'fpr': 0.3617021276595745, 'thr': 0.370346799582076}, {'tpr': 0.4965034965034965, 'fpr': 0.3617021276595745, 'thr': 0.3703448833635185}, {'tpr': 0.4965034965034965, 'fpr': 0.36524822695035464, 'thr': 0.37033114599432554}, {'tpr': 0.5034965034965035, 'fpr': 0.36524822695035464, 'thr': 0.3702545970736646}, {'tpr': 0.5034965034965035, 'fpr': 0.375886524822695, 'thr': 0.3701769048180042}, {'tpr': 0.5174825174825175, 'fpr': 0.375886524822695, 'thr': 0.3700653714252307}, {'tpr': 0.5174825174825175, 'fpr': 0.37943262411347517, 'thr': 0.37002367980131795}, {'tpr': 0.5244755244755245, 'fpr': 0.37943262411347517, 'thr': 0.36996651710688716}, {'tpr': 0.5244755244755245, 'fpr': 0.3900709219858156, 'thr': 0.36977575702332394}, {'tpr': 0.5314685314685315, 'fpr': 0.3900709219858156, 'thr': 0.36968371929666916}, {'tpr': 0.5314685314685315, 'fpr': 0.39361702127659576, 'thr': 0.3695998293651233}, {'tpr': 0.5524475524475524, 'fpr': 0.39361702127659576, 'thr': 0.36956720682057775}, {'tpr': 0.5524475524475524, 'fpr': 0.3971631205673759, 'thr': 0.3695083184151682}, {'tpr': 0.5594405594405595, 'fpr': 0.3971631205673759, 'thr': 0.3694918319238467}, {'tpr': 0.5594405594405595, 'fpr': 0.40070921985815605, 'thr': 0.3694843399476337}, {'tpr': 0.5664335664335665, 'fpr': 0.40070921985815605, 'thr': 0.36946414765427665}, {'tpr': 0.5664335664335665, 'fpr': 0.4148936170212766, 'thr': 0.36928454257146537}, {'tpr': 0.5734265734265734, 'fpr': 0.4148936170212766, 'thr': 0.3692510135343675}, {'tpr': 0.5734265734265734, 'fpr': 0.42907801418439717, 'thr': 0.3691653310842624}, {'tpr': 0.5804195804195804, 'fpr': 0.42907801418439717, 'thr': 0.3691027297662292}, {'tpr': 0.5804195804195804, 'fpr': 0.4326241134751773, 'thr': 0.36905836220830973}, {'tpr': 0.5874125874125874, 'fpr': 0.4326241134751773, 'thr': 0.36902211993199174}, {'tpr': 0.5874125874125874, 'fpr': 0.44680851063829785, 'thr': 0.3687214709560817}, {'tpr': 0.5944055944055944, 'fpr': 0.44680851063829785, 'thr': 0.3686115019692328}, {'tpr': 0.5944055944055944, 'fpr': 0.45390070921985815, 'thr': 0.36815756994230114}, {'tpr': 0.6013986013986014, 'fpr': 0.45390070921985815, 'thr': 0.368072569083143}, {'tpr': 0.6013986013986014, 'fpr': 0.4574468085106383, 'thr': 0.3676604269526788}, {'tpr': 0.6083916083916084, 'fpr': 0.4574468085106383, 'thr': 0.3676011750344266}, {'tpr': 0.6083916083916084, 'fpr': 0.4787234042553192, 'thr': 0.3635832560526755}, {'tpr': 0.6223776223776224, 'fpr': 0.4787234042553192, 'thr': 0.35886160036628123}, {'tpr': 0.6223776223776224, 'fpr': 0.48226950354609927, 'thr': 0.35835091066642955}, {'tpr': 0.6293706293706294, 'fpr': 0.48226950354609927, 'thr': 0.3573024375888548}, {'tpr': 0.6293706293706294, 'fpr': 0.4929078014184397, 'thr': 0.356726766071184}, {'tpr': 0.6363636363636364, 'fpr': 0.4929078014184397, 'thr': 0.35606156557243174}, {'tpr': 0.6363636363636364, 'fpr': 0.5070921985815603, 'thr': 0.3540939090899464}, {'tpr': 0.6433566433566433, 'fpr': 0.5070921985815603, 'thr': 0.35381807824227507}, {'tpr': 0.6433566433566433, 'fpr': 0.5106382978723404, 'thr': 0.35378442199572324}, {'tpr': 0.6503496503496503, 'fpr': 0.5106382978723404, 'thr': 0.3537587383446137}, {'tpr': 0.6503496503496503, 'fpr': 0.5141843971631206, 'thr': 0.3536559117067049}, {'tpr': 0.6573426573426573, 'fpr': 0.5141843971631206, 'thr': 0.3536498035997589}, {'tpr': 0.6573426573426573, 'fpr': 0.5177304964539007, 'thr': 0.3533202715184726}, {'tpr': 0.6713286713286714, 'fpr': 0.5177304964539007, 'thr': 0.3528847554361308}, {'tpr': 0.6713286713286714, 'fpr': 0.5390070921985816, 'thr': 0.352513298261165}, {'tpr': 0.6783216783216783, 'fpr': 0.5390070921985816, 'thr': 0.35245038691414715}, {'tpr': 0.6783216783216783, 'fpr': 0.5425531914893617, 'thr': 0.35244216343187973}, {'tpr': 0.6923076923076923, 'fpr': 0.5425531914893617, 'thr': 0.3523456920102512}, {'tpr': 0.6923076923076923, 'fpr': 0.5531914893617021, 'thr': 0.35225959546199664}, {'tpr': 0.6993006993006993, 'fpr': 0.5531914893617021, 'thr': 0.3522498417811379}, {'tpr': 0.6993006993006993, 'fpr': 0.5602836879432624, 'thr': 0.35221164587155085}, {'tpr': 0.7132867132867133, 'fpr': 0.5602836879432624, 'thr': 0.35209011778297594}, {'tpr': 0.7132867132867133, 'fpr': 0.5638297872340425, 'thr': 0.3520889507708855}, {'tpr': 0.7202797202797203, 'fpr': 0.5638297872340425, 'thr': 0.35206965942191876}, {'tpr': 0.7202797202797203, 'fpr': 0.5709219858156028, 'thr': 0.35202688352087375}, {'tpr': 0.7272727272727273, 'fpr': 0.5709219858156028, 'thr': 0.35197135413716585}, {'tpr': 0.7272727272727273, 'fpr': 0.574468085106383, 'thr': 0.351942264909529}, {'tpr': 0.7342657342657343, 'fpr': 0.574468085106383, 'thr': 0.3519176636109555}, {'tpr': 0.7342657342657343, 'fpr': 0.5957446808510638, 'thr': 0.35135547273707585}, {'tpr': 0.7412587412587412, 'fpr': 0.5957446808510638, 'thr': 0.35134605915579165}, {'tpr': 0.7412587412587412, 'fpr': 0.599290780141844, 'thr': 0.3512979163619658}, {'tpr': 0.7482517482517482, 'fpr': 0.599290780141844, 'thr': 0.3512881036664992}, {'tpr': 0.7482517482517482, 'fpr': 0.6028368794326241, 'thr': 0.3511219403361026}, {'tpr': 0.7552447552447552, 'fpr': 0.6028368794326241, 'thr': 0.35097296652718685}, {'tpr': 0.7552447552447552, 'fpr': 0.6134751773049646, 'thr': 0.3485334679986308}, {'tpr': 0.7622377622377622, 'fpr': 0.6134751773049646, 'thr': 0.348268550504844}, {'tpr': 0.7622377622377622, 'fpr': 0.6418439716312057, 'thr': 0.3471893262812707}, {'tpr': 0.7692307692307693, 'fpr': 0.6418439716312057, 'thr': 0.34710271172704055}, {'tpr': 0.7692307692307693, 'fpr': 0.6631205673758865, 'thr': 0.346782095764501}, {'tpr': 0.7762237762237763, 'fpr': 0.6631205673758865, 'thr': 0.3467474398939245}, {'tpr': 0.7762237762237763, 'fpr': 0.7021276595744681, 'thr': 0.3451979882382894}, {'tpr': 0.7832167832167832, 'fpr': 0.7021276595744681, 'thr': 0.3450004072557233}, {'tpr': 0.7832167832167832, 'fpr': 0.7198581560283688, 'thr': 0.34336871781106176}, {'tpr': 0.7902097902097902, 'fpr': 0.7198581560283688, 'thr': 0.3433295959573105}, {'tpr': 0.7902097902097902, 'fpr': 0.723404255319149, 'thr': 0.3432427277056454}, {'tpr': 0.7972027972027972, 'fpr': 0.723404255319149, 'thr': 0.34312219929652404}, {'tpr': 0.7972027972027972, 'fpr': 0.7411347517730497, 'thr': 0.3425800971710551}, {'tpr': 0.8041958041958042, 'fpr': 0.7411347517730497, 'thr': 0.3425513122946867}, {'tpr': 0.8041958041958042, 'fpr': 0.7553191489361702, 'thr': 0.34224448659258966}, {'tpr': 0.8181818181818182, 'fpr': 0.7553191489361702, 'thr': 0.341903889757066}, {'tpr': 0.8181818181818182, 'fpr': 0.776595744680851, 'thr': 0.3391707794882859}, {'tpr': 0.8251748251748252, 'fpr': 0.776595744680851, 'thr': 0.3389213834696401}, {'tpr': 0.8251748251748252, 'fpr': 0.7836879432624113, 'thr': 0.33798948582181426}, {'tpr': 0.8321678321678322, 'fpr': 0.7836879432624113, 'thr': 0.3379305783425839}, {'tpr': 0.8321678321678322, 'fpr': 0.8014184397163121, 'thr': 0.33608607239954785}, {'tpr': 0.8391608391608392, 'fpr': 0.8014184397163121, 'thr': 0.3360454755701935}, {'tpr': 0.8391608391608392, 'fpr': 0.8049645390070922, 'thr': 0.33594971039066573}, {'tpr': 0.8461538461538461, 'fpr': 0.8049645390070922, 'thr': 0.33580691682950337}, {'tpr': 0.8461538461538461, 'fpr': 0.8085106382978723, 'thr': 0.33575993524747605}, {'tpr': 0.8531468531468531, 'fpr': 0.8085106382978723, 'thr': 0.33553987554367676}, {'tpr': 0.8531468531468531, 'fpr': 0.8120567375886525, 'thr': 0.3354357249054542}, {'tpr': 0.8601398601398601, 'fpr': 0.8120567375886525, 'thr': 0.3353819677634851}, {'tpr': 0.8601398601398601, 'fpr': 0.8262411347517731, 'thr': 0.33491933184371686}, {'tpr': 0.8671328671328671, 'fpr': 0.8262411347517731, 'thr': 0.3348050896841421}, {'tpr': 0.8671328671328671, 'fpr': 0.8333333333333334, 'thr': 0.3347666058328416}, {'tpr': 0.8881118881118881, 'fpr': 0.8333333333333334, 'thr': 0.3346111356677722}, {'tpr': 0.8881118881118881, 'fpr': 0.8723404255319149, 'thr': 0.3338313636915216}, {'tpr': 0.8951048951048951, 'fpr': 0.8723404255319149, 'thr': 0.33381834881122896}, {'tpr': 0.8951048951048951, 'fpr': 0.9078014184397163, 'thr': 0.33240267909596793}, {'tpr': 0.9020979020979021, 'fpr': 0.9078014184397163, 'thr': 0.33237133827776455}, {'tpr': 0.9020979020979021, 'fpr': 0.9326241134751773, 'thr': 0.330901982827071}, {'tpr': 0.916083916083916, 'fpr': 0.9326241134751773, 'thr': 0.33014635204696824}, {'tpr': 0.916083916083916, 'fpr': 0.9432624113475178, 'thr': 0.3285051019977915}, {'tpr': 0.9300699300699301, 'fpr': 0.9432624113475178, 'thr': 0.2720045308901106}, {'tpr': 0.9300699300699301, 'fpr': 0.9468085106382979, 'thr': 0.2715590620629126}, {'tpr': 0.9440559440559441, 'fpr': 0.9468085106382979, 'thr': 0.27145433596078883}, {'tpr': 0.9440559440559441, 'fpr': 0.9539007092198581, 'thr': 0.27113389370240754}, {'tpr': 0.958041958041958, 'fpr': 0.9539007092198581, 'thr': 0.2711069250802492}, {'tpr': 0.958041958041958, 'fpr': 0.9574468085106383, 'thr': 0.2710330877764188}, {'tpr': 0.965034965034965, 'fpr': 0.9574468085106383, 'thr': 0.2709806212517785}, {'tpr': 0.965034965034965, 'fpr': 0.9858156028368794, 'thr': 0.27040089102294523}, {'tpr': 0.972027972027972, 'fpr': 0.9858156028368794, 'thr': 0.27028609629205924}, {'tpr': 0.972027972027972, 'fpr': 0.9893617021276596, 'thr': 0.27026421461013234}, {'tpr': 0.9790209790209791, 'fpr': 0.9893617021276596, 'thr': 0.2698853330204343}, {'tpr': 0.9790209790209791, 'fpr': 0.9964539007092199, 'thr': 0.2698543809913826}, {'tpr': 1.0, 'fpr': 0.9964539007092199, 'thr': 0.2693459236693972}, {'tpr': 1.0, 'fpr': 1.0, 'thr': 0.26647170545679094}]\n",
            "AUC Score  0.58\n"
          ]
        },
        {
          "output_type": "display_data",
          "data": {
            "text/plain": [
              "<Figure size 432x288 with 1 Axes>"
            ],
            "image/png": "[encoded data removed]"
          },
          "metadata": {
            "needs_background": "light"
          }
        }
      ],
      "source": [
        "# Apply UMAP first [ / 3 marks]\n",
        "\n",
        "UMAP_Final = umap.UMAP(n_components=13, init='random',low_memory=False, random_state=seed,  n_epochs=1000,n_neighbors=25, min_dist=0.25,metric='cosine', n_jobs=-1)\n",
        "UMAP_train = UMAP_Final.fit_transform(TfIDF_train)\n",
        "UMAP_test = UMAP_Final.transform(TfIDF_test)\n",
        "x = LogisticRegressionCV(random_state=seed,cv = StratifiedKFold())\n",
        "\n",
        "#Train and test using model LogisticRegressionCV [ /3 marks]\n",
        "x.fit(UMAP_train, y_train)\n",
        "y_pred = x.predict_proba(UMAP_test)[:,1]\n",
        "# Plot ROC curve and compute AUC score [ /2 marks]\n",
        "fpr, tpr, thresholds = roc_curve(y_test, y_pred)\n",
        "plt.plot(fpr, tpr)\n",
        "lg_curve = []\n",
        "# Calculate the ROC curve points\n",
        "for i in range(len(tpr)):\n",
        "  lg_curve.append({'tpr': tpr[i], 'fpr':fpr[i],'thr': thresholds[i]})\n",
        "print(lg_curve)\n",
        "# Save the AUC in a variable to display it. Round it first\n",
        "aucUMAP = np.round(auc(fpr,tpr),2)\n",
        "print('AUC Score ',aucUMAP)\n",
        "# Create and show the plot\n",
        "plt.xlabel('False Positive Rate')\n",
        "plt.ylabel('True Positive Rate')\n",
        "plt.title('ROC Curve UMAP' )\n",
        "plt.show()\n"
      ]
    },
    {
      "cell_type": "markdown",
      "id": "1aaeef53",
      "metadata": {
        "id": "1aaeef53"
      },
      "source": [
        "### Question 2.4\n",
        "Train a XGBoost model over the SVD-reduced dataset prepared in Question 2.2. Calculate the AUC score and plot the ROC curve for the SVD-transformed test set. In your model set ``num_boost_round=10`` and ``early_stopping_rounds=2``. You need to do CV using the training dataset, and then get best iteration based on cross-validation results. Finally, train the model on full training dataset with best number of iterations."
      ]
    },
    {
      "cell_type": "code",
      "execution_count": 20,
      "id": "7f6d05ed",
      "metadata": {
        "id": "7f6d05ed",
        "colab": {
          "base_uri": "https://localhost:8080/",
          "height": 397
        },
        "outputId": "0da7de4d-ae57-4a5e-d0ed-bca14728af55"
      },
      "outputs": [
        {
          "output_type": "stream",
          "name": "stdout",
          "text": [
            "train-logloss-mean    0.551919\n",
            "train-logloss-std     0.002905\n",
            "test-logloss-mean     0.614074\n",
            "test-logloss-std      0.008917\n",
            "Name: 9, dtype: float64\n",
            "AUC Score  0.55\n"
          ]
        },
        {
          "output_type": "display_data",
          "data": {
            "text/plain": [
              "<Figure size 432x288 with 1 Axes>"
            ],
            "image/png": "[encoded data removed]"
          },
          "metadata": {
            "needs_background": "light"
          }
        }
      ],
      "source": [
        "# Define XGBoost parameters\n",
        "params = {\n",
        "    \"objective\": \"binary:logistic\",\n",
        "    \"eval_metric\": \"logloss\",\n",
        "    \"max_depth\": 3,\n",
        "}\n",
        "\n",
        "# Define cross-validation object\n",
        "kf = StratifiedKFold(n_splits=5, shuffle=True, random_state=seed)\n",
        "# Perform cross-validation with XGBoost [ \\3 marks]\n",
        "dtrain = xgb.DMatrix(svdX_train, label=y_train)\n",
        "cv_results = xgb.cv(params=params, dtrain=dtrain, num_boost_round=10, folds=kf, early_stopping_rounds=2)\n",
        "\n",
        "# Get best iteration based on cross-validation results [\\ 1 mark]\n",
        "print(pd.DataFrame(cv_results).iloc[-1])\n",
        "# Train final model on full dataset with best number of iterations [\\ 2 mark]\n",
        "model = xgb.train(params, dtrain, num_boost_round=9)\n",
        "\n",
        "# Compute predicted probabilities on the test set [\\ 1 mark]\n",
        "y_pred = model.predict(xgb.DMatrix(svdX_test, label=y_test))\n",
        "# Calculate the ROC curve points\n",
        "fpr, tpr, thresholds = roc_curve(y_test, y_pred)\n",
        "plt.plot(fpr, tpr)\n",
        "# Save the AUC in a variable to display it. Round it first\n",
        "aucUMAP = np.round(auc(fpr,tpr),2)\n",
        "print('AUC Score ',aucUMAP)\n",
        "# Create and show the plot\n",
        "plt.xlabel('False Positive Rate')\n",
        "plt.ylabel('True Positive Rate')\n",
        "plt.title('ROC Curve XGboost' )\n",
        "plt.show()\n"
      ]
    },
    {
      "cell_type": "markdown",
      "id": "damaged-peace",
      "metadata": {
        "id": "damaged-peace"
      },
      "source": [
        "### Question 2.5\n",
        "Compare the performance of the four models. Which one is the best. [ / 2 marks] \n",
        "\n",
        "**Your Answer:** \n",
        "\n",
        "The first one was the best model I got I believe i went wrong somewhere but not sure how or where."
      ]
    }
  ],
  "metadata": {
    "colab": {
      "provenance": []
    },
    "kernelspec": {
      "display_name": "Python 3 (ipykernel)",
      "language": "python",
      "name": "python3"
    },
    "language_info": {
      "codemirror_mode": {
        "name": "ipython",
        "version": 3
      },
      "file_extension": ".py",
      "mimetype": "text/x-python",
      "name": "python",
      "nbconvert_exporter": "python",
      "pygments_lexer": "ipython3",
      "version": "3.10.6"
    },
    "latex_envs": {
      "LaTeX_envs_menu_present": true,
      "autoclose": false,
      "autocomplete": true,
      "bibliofile": "biblio.bib",
      "cite_by": "apalike",
      "current_citInitial": 1,
      "eqLabelWithNumbers": true,
      "eqNumInitial": 1,
      "hotkeys": {
        "equation": "Ctrl-E",
        "itemize": "Ctrl-I"
      },
      "labels_anchors": false,
      "latex_user_defs": false,
      "report_style_numbering": false,
      "user_envs_cfg": false
    },
    "toc": {
      "base_numbering": 1,
      "nav_menu": {},
      "number_sections": true,
      "sideBar": true,
      "skip_h1_title": false,
      "title_cell": "Table of Contents",
      "title_sidebar": "Contents",
      "toc_cell": false,
      "toc_position": {},
      "toc_section_display": true,
      "toc_window_display": false
    },
    "varInspector": {
      "cols": {
        "lenName": 16,
        "lenType": 16,
        "lenVar": 40
      },
      "kernels_config": {
        "python": {
          "delete_cmd_postfix": "",
          "delete_cmd_prefix": "del ",
          "library": "var_list.py",
          "varRefreshCmd": "print(var_dic_list())"
        },
        "r": {
          "delete_cmd_postfix": ") ",
          "delete_cmd_prefix": "rm(",
          "library": "var_list.r",
          "varRefreshCmd": "cat(var_dic_list()) "
        }
      },
      "types_to_exclude": [
        "module",
        "function",
        "builtin_function_or_method",
        "instance",
        "_Feature"
      ],
      "window_display": false
    },
    "vscode": {
      "interpreter": {
        "hash": "3420a8792bbc8a921cecec9f5e200567f9d5b83365a03086ee32a665b051d9eb"
      }
    }
  },
  "nbformat": 4,
  "nbformat_minor": 5
}