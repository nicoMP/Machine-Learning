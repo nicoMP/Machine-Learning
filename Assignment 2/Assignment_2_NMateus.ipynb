{
  "cells": [
    {
      "cell_type": "markdown",
      "metadata": {
        "id": "Z__Ux3ZqGVmO"
      },
      "source": [
        "# Grade: /100 Mark(s)\n",
        "\n",
        "# Assignment 02: Maximum Likelihood\n",
        "\n",
        "\n",
        "### Maximum Likelihood\n",
        "\n",
        "The exponential distribution https://en.wikipedia.org/wiki/Exponential_distribution is a continuous probability distribution often used to predict time when an event might ocurr, for instance Earthquake. \n",
        "\n",
        "If we know $y$ is influenced by feature $x$, then we can use the maximum likelihood principle to develop a regression model that estimates the mean of $Y$ given $X=x$."
      ]
    },
    {
      "cell_type": "code",
      "execution_count": 1,
      "metadata": {
        "id": "oNR5_78NGVmS"
      },
      "outputs": [],
      "source": [
        "# Packages for this assignment\n",
        "import pandas as pd\n",
        "import numpy as np\n",
        "import matplotlib.pyplot as plt\n",
        "from scipy.optimize import minimize\n",
        "from sklearn.linear_model import LinearRegression\n"
      ]
    },
    {
      "cell_type": "markdown",
      "metadata": {
        "id": "VmUVT942GVmT"
      },
      "source": [
        "### Question 1: /10 Marks\n",
        "\n",
        "The negative log likelihood for a exponential random variable is\n",
        "\n",
        "$$\\ell(\\lambda; \\mathbf{y}) = -\\sum_{i=1}^N\\Bigg(\\ln(\\lambda) - \\lambda y_i \\Bigg)$$\n",
        "\n",
        "Here, $\\mathbf{y}=(y_i) \\in \\mathbb{R^N}$ is a vector  and $\\lambda$ is a scalar value.\n",
        "\n",
        "Define a function called `exponentialNegLogLikelihood` that takes a vector  $\\mathbf{y}$ and a parameter $\\lambda$ and returns the negative log likelihood.\n",
        "\n",
        "Test your function by calling it with `lamb = 2` and `y = np.array([1, 4, 6, 0])`.\n",
        "\n",
        "Test your function by calling it with `lamb = np.array([1, 0.5, 2, 5])` and  `y = np.array([1.5, 2.1, 3.4, 0])`.\n",
        "\n",
        "Answer in markdown:\n",
        "\n",
        "* What happens when you set an element of lamb to 0 or a negative number. Why?"
      ]
    },
    {
      "cell_type": "code",
      "execution_count": 2,
      "metadata": {
        "id": "5okkxPQuGVmT",
        "colab": {
          "base_uri": "https://localhost:8080/"
        },
        "outputId": "1868d3e4-a776-49c9-da8b-704a0a4ca85b"
      },
      "outputs": [
        {
          "output_type": "stream",
          "name": "stdout",
          "text": [
            "Lamb = 2 y = [1,4,6,0] = 19.227411277760222\n",
            "Lamb = [1, 0.5, 2, 5] y = [1.5, 2.1, 3.4, 0] = 7.740562087565899\n"
          ]
        }
      ],
      "source": [
        "def exponentialNegLogLikelihood(lamb, y):\n",
        "    neg_log_likelyhood = -np.sum(np.log(lamb)-lamb*y)\n",
        "    return neg_log_likelyhood\n",
        "\n",
        "lamb = 2\n",
        "y = np.array([1, 4, 6, 0])\n",
        "print( \"Lamb = 2 y = [1,4,6,0] = \"+str(exponentialNegLogLikelihood(lamb,y)))\n",
        "print( \"Lamb = [1, 0.5, 2, 5] y = [1.5, 2.1, 3.4, 0] = \"+str(exponentialNegLogLikelihood(np.array([1, 0.5, 2, 5]),np.array([1.5, 2.1, 3.4, 0]))))"
      ]
    },
    {
      "cell_type": "markdown",
      "source": [
        "---\n",
        "#### Question 1 Answer\n",
        "Output:\n",
        "\n",
        "Lamb = 2 y = [1,4,6,0] = 19.227411277760222\n",
        "Lamb = [1, 0.5, 2, 5] y = [1.5, 2.1, 3.4, 0] = 7.740562087565899\n",
        "\n",
        "When you set an element of lambda to zero we get an error because log functions are undefined at any value equal to zero it is undefined as it approaches infinity, and at any value thats negative is undefined\n"
      ],
      "metadata": {
        "id": "bqSt5wzLqNsV"
      }
    },
    {
      "cell_type": "markdown",
      "metadata": {
        "id": "hLcgtM3gGVmX"
      },
      "source": [
        "---\n",
        "\n",
        "### Question 2: /15 Marks\n",
        "\n",
        "Write a function called `exponentialRegressionNegLogLikelihood` that takes as arguments a vector $\\mathbf{y}$ , a design matrix $\\mathbf{X}$ of features, and a vector $\\mathbf{\\beta}$ of parameters. The function should return the negative log likelihood of this dataset, assuming that each element of  $\\mathbf{y}$ is independent, and exponentially distributed with $\\lambda=\\exp(-\\mathbf{X}\\beta)$.\n",
        "\n",
        "Test your function by calling it with \n",
        "* `b = np.array([1, 3])`\n",
        "* `X = np.array([[1.4, 2.1, 3], [2.2, 3, 1.5]]).T`\n",
        "* `y = np.array([0, 2.5, 10])`"
      ]
    },
    {
      "cell_type": "code",
      "execution_count": 3,
      "metadata": {
        "id": "5SC8fRojGVmX",
        "colab": {
          "base_uri": "https://localhost:8080/"
        },
        "outputId": "94f1691d-1432-46be-9687-1f470c69d8c6"
      },
      "outputs": [
        {
          "output_type": "execute_result",
          "data": {
            "text/plain": [
              "26.60556862451103"
            ]
          },
          "metadata": {},
          "execution_count": 3
        }
      ],
      "source": [
        "def exponentialRegressionNegLogLikelihood(b, X, y):\n",
        "    l = np.exp(-X@b)\n",
        "    reg = exponentialNegLogLikelihood(l, y)\n",
        "    return(reg)\n",
        "\n",
        "exponentialRegressionNegLogLikelihood(np.array([1, 3]),np.array([[1.4, 2.1, 3], [2.2, 3, 1.5]]).T,np.array([0, 2.5, 10]))"
      ]
    },
    {
      "cell_type": "markdown",
      "metadata": {
        "id": "G9XV1DaJGVmY"
      },
      "source": [
        "### Question 3: /10 Marks\n",
        "\n",
        "a) In `exponentialRegressionNegLogLikelihood`, what problem can happen if we assume that $\\lambda = \\mathbf{X}\\beta$?.\n",
        "\n",
        "This is due to the fact that when XB is used the density numbers are so small computers assume 0. This loss of preciscion makes it ineffictive in comparing different models.\n",
        "\n",
        "b) What property of the exponential distribution is guaranteed when we assume that $\\lambda$ has the form of $\\exp(-\\mathbf{X}\\beta)$?:\n",
        "\n",
        "Maximizing the log likelihood is the same as maximizing the likelehood,the log likelihood is summed instead of multiplied preventing the issues above.\n",
        "\n",
        "No more than 2 lines for each answer."
      ]
    },
    {
      "cell_type": "markdown",
      "metadata": {
        "id": "4euBU8yfGVmZ"
      },
      "source": [
        "### Question 4: /2.5 Marks\n",
        "\n",
        "Define a function called `Prediction` whose arguments are a vector of coefficents $\\beta$ and a design matrix $\\mathbf{X}$, and its outputs are predictions of the form $\\widehat{\\mathbf{y}} = \\exp(\\mathbf{X}\\beta)$. \n",
        "\n",
        "Test your function by calling it with \n",
        "* `b = np.array([1, 3])`\n",
        "* `X = np.array([[1.4, 2.1, 3], [2.2, 3, 1.5]]).T`"
      ]
    },
    {
      "cell_type": "code",
      "execution_count": 4,
      "metadata": {
        "id": "tysS6_lKGVmZ",
        "colab": {
          "base_uri": "https://localhost:8080/"
        },
        "outputId": "444c10e1-1912-4777-89f5-7135f33c882c"
      },
      "outputs": [
        {
          "output_type": "execute_result",
          "data": {
            "text/plain": [
              "array([ 2980.95798704, 66171.16016838,  1808.04241446])"
            ]
          },
          "metadata": {},
          "execution_count": 4
        }
      ],
      "source": [
        "def Prediction(b, X):\n",
        " \n",
        "    pred = np.exp(X@b)\n",
        "    return pred\n",
        "\n",
        "Prediction(np.array([1, 3]), np.array([[1.4, 2.1, 3], [2.2, 3, 1.5]]).T)"
      ]
    },
    {
      "cell_type": "markdown",
      "metadata": {
        "id": "xD9sS7SwGVmZ"
      },
      "source": [
        "### Question 5: /15 Marks\n",
        "\n",
        "Define a function called `Model_fit` which accepts as its first argument a design matrix $\\mathbf{X}$ and as its second argument a vector of $\\mathbf{y}$. Its output should be the maximum likelihood estimates for the coefficients of exponential regression of $\\mathbf{y}$ onto $\\mathbf{X}$.\n",
        "\n",
        "Test your function by calling it with \n",
        "* `X = np.array([[1.4, 2.1, 3], [2.2, 3, 1.5]]).T`\n",
        "* `y = np.array([0, 2.5, 10])`\n",
        "\n",
        "Write the estimated coefficient $b$."
      ]
    },
    {
      "cell_type": "code",
      "execution_count": 5,
      "metadata": {
        "id": "Dvcyhi2LGVma",
        "colab": {
          "base_uri": "https://localhost:8080/"
        },
        "outputId": "b47a4d63-8c95-4191-a936-c081d8653e97"
      },
      "outputs": [
        {
          "output_type": "stream",
          "name": "stdout",
          "text": [
            "Estimated coefficient b = [ 1.17119176 -0.72067184]\n"
          ]
        }
      ],
      "source": [
        "def Model_fit(X, y):\n",
        "    bstart = np.zeros(X.shape[-1])\n",
        "    results = minimize(exponentialRegressionNegLogLikelihood,bstart ,(X,y), \"Powell\")\n",
        "    return results.x\n",
        "\n",
        "x = Model_fit(np.array([[1.4, 2.1, 3], [2.2, 3, 1.5]]).T,np.array([0, 2.5, 10]))\n",
        "print(\"Estimated coefficient b = \" + str(x))"
      ]
    },
    {
      "cell_type": "markdown",
      "metadata": {
        "id": "aDhUC0fMmRMD"
      },
      "source": [
        "### Question 6: /2.5 Marks\n",
        "\n",
        "Define a function called `Squared_residual` which accepts as its first argument a design matrix $\\mathbf{X}$, its second argument a vector of $\\mathbf{y}$ and its third argument a vector $\\beta$. Its output should be squared residual of the exponential regression model. This residual is defined as \n",
        "\n",
        "$$\n",
        "\\text{squared-residual} = \\dfrac{1}{n}\\sum_i (y_i-\\hat{y}_i)^2\n",
        "$$\n",
        "\n",
        "Test your function by calling it with \n",
        "* `X = np.array([[1.4, 2.1, 3], [2.2, 3, 1.5]]).T`\n",
        "* `y = np.array([2980, 66171, 1808])`\n",
        "* `b = np.array([1, 3])`\n"
      ]
    },
    {
      "cell_type": "code",
      "execution_count": 6,
      "metadata": {
        "id": "n6jO9ElomRME",
        "colab": {
          "base_uri": "https://localhost:8080/"
        },
        "outputId": "07d6d0f3-700f-491d-86d0-0034dd8645f3"
      },
      "outputs": [
        {
          "output_type": "execute_result",
          "data": {
            "text/plain": [
              "0.315064022352556"
            ]
          },
          "metadata": {},
          "execution_count": 6
        }
      ],
      "source": [
        "def Squared_residual(X,y,b):\n",
        "    pred = Prediction(b, X)\n",
        "    sqres = np.sum(np.square(y-pred))/len(y)\n",
        "    return sqres\n",
        "\n",
        "Squared_residual(np.array([[1.4, 2.1, 3], [2.2, 3, 1.5]]).T, np.array([2980, 66171, 1808]),  np.array([1, 3]))"
      ]
    },
    {
      "cell_type": "markdown",
      "metadata": {
        "id": "u39d5e41GVma"
      },
      "source": [
        "### Question 7: /20 Mark(s)\n",
        "\n",
        "Use the data `exponential_regression.csv`, where $y$ represents time units to fit a exponential regression using the functions that you already have created. \n",
        "\n",
        "* What are the estimated coefficients?\n",
        "* Plot a scatterplot of the data that includes the model prediction over $x \\in [-2.14, 2.14]$. Do not forget to include a graph title.\n",
        "* Report the Squared residual in the plot"
      ]
    },
    {
      "cell_type": "code",
      "source": [
        "my_DF = pd.read_csv('/content/exponential_regression.csv', sep = ';')\n",
        "y = my_DF['y'].to_numpy()\n",
        "X = my_DF['x'].to_numpy()\n",
        "tempX = np.linspace(-2.14,2.14,num = len(X))\n",
        "predX = np.array([[i] for i in tempX])\n",
        "X = np.array([[i] for i in X])\n",
        "\n",
        "\n",
        "b = Model_fit(X,y)\n",
        "predY = Prediction(b, predX)\n",
        "sqres = Squared_residual(X,y,b)\n",
        "plt.ylabel(\"Time Unit\")\n",
        "plt.title('Exponential Regression')\n",
        "plt.annotate((\"Squared Residual = \" + str(sqres.round(4))), (0,40))\n",
        "plt.plot(predX, predY, 'blue')\n",
        "plt.plot(X,y, 'ro')\n",
        "plt.show\n",
        "predY[-1]\n",
        "print(all(i >= 0 for i in predY))"
      ],
      "metadata": {
        "colab": {
          "base_uri": "https://localhost:8080/",
          "height": 298
        },
        "id": "r3p-yDqJ54P-",
        "outputId": "91d096df-3688-4cd4-e67e-013ea90275d7"
      },
      "execution_count": 11,
      "outputs": [
        {
          "output_type": "stream",
          "name": "stdout",
          "text": [
            "True\n"
          ]
        },
        {
          "output_type": "display_data",
          "data": {
            "text/plain": [
              "<Figure size 432x288 with 1 Axes>"
            ],
            "image/png": "[encoded data removed]"
          },
          "metadata": {
            "needs_background": "light"
          }
        }
      ]
    },
    {
      "cell_type": "markdown",
      "metadata": {
        "id": "UQxKy5DwGVmb"
      },
      "source": [
        "### Question 8:  /10 Marks\n",
        "\n",
        "Fit a linear regression (ordinary least squares) to the data, and obtain parameter estimates and and plot the predictions over the same range. Report the Squared residual in the plot\n"
      ]
    },
    {
      "cell_type": "code",
      "source": [
        "y = my_DF['y'].values\n",
        "X = my_DF['x'].values.reshape(-1,1)\n",
        "model = LinearRegression().fit(X,y)\n",
        "predY = model.predict(predX)\n",
        "sqres = Squared_residual(X,y,model.coef_)\n",
        "model.score(X,y)\n",
        "plt.ylabel(\"Time Unit\")\n",
        "plt.title('Linear Regression')\n",
        "plt.annotate((\"Squared Residual = \" + str(sqres.round(0))), (0,40))\n",
        "lnReg = plt.plot(predX, predY, 'blue')\n",
        "plt.plot(X,y, 'ro')\n",
        "plt.show\n",
        "print(all(i >= 0 for i in predY))"
      ],
      "metadata": {
        "colab": {
          "base_uri": "https://localhost:8080/",
          "height": 298
        },
        "id": "J79ychwcv9P6",
        "outputId": "b217415b-3a10-49a7-b4b3-cf1a20b6a716"
      },
      "execution_count": 10,
      "outputs": [
        {
          "output_type": "stream",
          "name": "stdout",
          "text": [
            "False\n"
          ]
        },
        {
          "output_type": "display_data",
          "data": {
            "text/plain": [
              "<Figure size 432x288 with 1 Axes>"
            ],
            "image/png": "[encoded data removed]"
          },
          "metadata": {
            "needs_background": "light"
          }
        }
      ]
    },
    {
      "cell_type": "markdown",
      "metadata": {
        "id": "TYn3InWBmRMG"
      },
      "source": [
        "### Question 9:  /10 Marks\n",
        "\n",
        "Fit a linear regression (ordinary least squares) to the data with a square term, and obtain parameter estimates and and plot the predictions over the same range. Report the Squared residual in the plot.\n",
        "\n",
        "Note that in this case the matrix X should look like \n",
        "\n",
        "$X =[[1,x_1,x_1^2],[1,x_2,x_2^2],...]$\n"
      ]
    },
    {
      "cell_type": "code",
      "source": [
        "y = my_DF['y'].values\n",
        "X = my_DF['x'].values.reshape(-1,1)\n",
        "tempSqX = np.linspace(-2.14,2.14,num = len(X))\n",
        "sqX = np.array([[1, i, i**2] for i in X], dtype=object)\n",
        "predSqX = np.array([[1, i, i**2] for i in tempSqX])\n",
        "model = LinearRegression().fit(sqX,y)\n",
        "predY = model.predict(predSqX)\n",
        "sqres = Squared_residual(X,y,b)\n",
        "plt.ylabel(\"Time Unit\")\n",
        "plt.title('Linear Regression With Squared Terms')\n",
        "plt.annotate((\"Squared Residual = \" + str(sqres.round(5))), (0,40))\n",
        "plt.plot(predX, predY, 'blue')\n",
        "plt.plot(X,y, 'ro')\n",
        "lnReg\n",
        "plt.show\n",
        "print(all(i >= 0 for i in predY))"
      ],
      "metadata": {
        "colab": {
          "base_uri": "https://localhost:8080/",
          "height": 298
        },
        "id": "qi9KR7EUxCb-",
        "outputId": "4682b721-f34a-4c30-80f8-fdf2ff921ef8"
      },
      "execution_count": 9,
      "outputs": [
        {
          "output_type": "stream",
          "name": "stdout",
          "text": [
            "False\n"
          ]
        },
        {
          "output_type": "display_data",
          "data": {
            "text/plain": [
              "<Figure size 432x288 with 1 Axes>"
            ],
            "image/png": "[encoded data removed]"
          },
          "metadata": {
            "needs_background": "light"
          }
        }
      ]
    },
    {
      "cell_type": "markdown",
      "metadata": {
        "id": "tyvGOxYDGVmb"
      },
      "source": [
        "### Question 10: /5 Mark(s)\n",
        "\n",
        "Between this three models which one would you select? What is the major problem with predictions from the other two models? Remember that in this case $y$ is measured in time units.\n",
        "\n",
        "#### Answer\n",
        "\n",
        "Between the three models i would select the first one primarily for one reason, the other two the X values go below zero which would not make sense in the context of Time as time can't go below zero. So some predictions are lost there while the first also remains above zero. Also the graph more closesly resemble with the first one. With the the second not even coming close, and the third making it curve up at the end "
      ]
    },
    {
      "cell_type": "markdown",
      "metadata": {
        "id": "zyjwKgcsGVmc"
      },
      "source": [
        "### Follow These Instructions\n",
        "\n",
        "Once you are finished, ensure to complete the following steps.\n",
        "\n",
        "1.  Restart your kernel by clicking 'Kernel' > 'Restart & Run All'.\n",
        "\n",
        "2.  Fix any errors which result from this.\n",
        "\n",
        "3.  Repeat steps 1. and 2. until your notebook runs without errors.\n",
        "\n",
        "4.  Submit your completed notebook to OWL by the deadline."
      ]
    }
  ],
  "metadata": {
    "colab": {
      "provenance": [],
      "collapsed_sections": [
        "bqSt5wzLqNsV",
        "G9XV1DaJGVmY",
        "zyjwKgcsGVmc"
      ]
    },
    "kernelspec": {
      "display_name": "Python 3",
      "language": "python",
      "name": "python3"
    },
    "language_info": {
      "codemirror_mode": {
        "name": "ipython",
        "version": 3
      },
      "file_extension": ".py",
      "mimetype": "text/x-python",
      "name": "python",
      "nbconvert_exporter": "python",
      "pygments_lexer": "ipython3",
      "version": "3.9.12"
    },
    "vscode": {
      "interpreter": {
        "hash": "7a629f88739bb99df36ee3169b5f674a3a3506dd75f237fb1b2703d7911537b3"
      }
    }
  },
  "nbformat": 4,
  "nbformat_minor": 0
}