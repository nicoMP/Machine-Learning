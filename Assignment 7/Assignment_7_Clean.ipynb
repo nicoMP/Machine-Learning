{
 "cells": [
  {
   "attachments": {},
   "cell_type": "markdown",
   "metadata": {},
   "source": [
    "# Grade: /100 pts\n",
    "\n",
    "# Assignment 7: Tree methods\n",
    "\n",
    "In this assignment you'll study tree methods. You will use a dataset that contains the premier league (soccer) matches between 2010 and 2021. The data has the following variables:\n",
    "\n",
    "|#|Attribute|Description|\n",
    "|---|---|---|\n",
    "|0|home_team|home team|\n",
    "|1|away_team|away team|\n",
    "|2|result_full|match result|\n",
    "|3|home_clearances|home team clearances in the match|\n",
    "|4|home_corners|home team corners in the match|\n",
    "|5|home_fouls_conceded|home team fouls conceded in the match|\n",
    "|6|home_offsides|home team offsides in the match|\n",
    "|7|home_passes|home team passes in the match|\n",
    "|8|home_possession|home team possession in the match|\n",
    "|9|home_red_cards|home team red cards in the match|\n",
    "|10|home_shots|home team shots in the match|\n",
    "|11|home_shots_on_target|home team shots on target in the match|\n",
    "|12|home_tackles|home team tackles in the match|\n",
    "|13|home_touches|home team touches in the match|\n",
    "|14|home_yellow_cards|home team yellow cards in the match|\n",
    "|15|away_clearances|away tem clearances in the match|\n",
    "|16|away_corners|away team corners in the match|\n",
    "|17|away_fouls_concedevd|away team fouls conceded in the match|\n",
    "|18|away_offsides|away team offsides in the match|\n",
    "|19|away_passes|away team passes in the match|\n",
    "|20|away_possession|away team possession in the match|\n",
    "|21|away_red_cards|away team red cards in the match|\n",
    "|22|away_shots|away team shots in the match|\n",
    "|23|away_shots_on_target|away team shots on target in the match|\n",
    "|24|away_tackles|away team tackles in the match|\n",
    "|25|away_touches|away team touches in the match|\n",
    "|26|away_yellow_cards|away team yellow cards in the match|\n",
    "|27|clearances_avg_home|average home team clearances in the season; accumulated until the last match|\n",
    "|28|corners_avg_home|average home team corners in the season; accumulated until the last match|\n",
    "|29|fouls_conceded_avg_home|average home team fouls conceded in the season; accumulated until the last match|\n",
    "|30|offsides_avg_home|average home team offsides in the season; accumulated until the last match|\n",
    "|31|passes_avg_home|average home team passes in the season; accumulated until the last match|\n",
    "|32|possession_avg_home|average home team possession in the season; accumulated until the last match|\n",
    "|33|red_cards_avg_home|average home team red cards in the season; accumulated until the last match|\n",
    "|34|shots_on_target_avg_home|average home team shots on target in the season; accumulated until the last match|\n",
    "|35|tackles_avg_home|average home team tackles in the season; accumulated until the last match|\n",
    "|36|touches_avg_home|average home team touches in the season; accumulated until the last match|\n",
    "|37|yellow_cards_avg_home|average home team yellow cards in the season; accumulated until the last match|\n",
    "|38|goals_scored_ft_avg_home|average home team goals scored in the season; accumulated until the last match|\n",
    "|39|goals_conced_ft_avg_home|average home team goals conceded in the season; accumulated until the last match|\n",
    "|40|sg_match_ft_acum_home|goals difference in the season; accumulated until the last match|\n",
    "|41|goals_scored_ht_avg_home|average home team goals scored in 1st time in the season; accumulated until the last match|\n",
    "|42|goals_conced_ht_avg_home|average home team goals conceded in 1st time in the season; accumulated until the last match|\n",
    "|43|clearances_avg_away|average away team clearances in the season; accumulated until the last match|\n",
    "|44|corners_avg_away|average away team corners in the season; accumulated until the last match|\n",
    "|45|fouls_conceded_avg_away|average away team fouls conceded in the season; accumulated until the last match|\n",
    "|46|offsides_avg_away|average away team offsides in the season; accumulated until the last match|\n",
    "|47|passes_avg_away|average away team passes in the season; accumulated until the last match|\n",
    "|48|possession_avg_away|average away team possession in the season; accumulated until the last match|\n",
    "|49|red_cards_avg_away|average away team red cards in the season; accumulated until the last match|\n",
    "|50|shots_on_target_avg_away|average away team shots on target in the season; accumulated until the last match|\n",
    "|51|tackles_avg_away|average away team tackles in the season; accumulated until the last match|\n",
    "|52|touches_avg_away|average away team touches in the season; accumulated until the last match|\n",
    "|53|yellow_cards_avg_away|average away team yellow cards in the season; accumulated until the last match|\n",
    "|54|goals_scored_ft_avg_away|average away team goals scored in the season; accumulated until the last match|\n",
    "|55|goals_conced_ft_avg_away|average away team goals conceded in the season; accumulated until the last match|\n",
    "|56|sg_match_ft_acum_away|goals difference in the season; accumulated until the last match|\n",
    "|57|goals_scored_ht_avg_away|average away team goals scored in 1st time in the season; accumulated until the last match|\n",
    "|58|goals_conced_ht_avg_away|average away team goals conceded in 1st time in the season; accumulated until the last match|\n",
    "\n",
    "*Do not forget to include labels in your figures.*\n",
    "\n",
    "*Take advantage of `n_jobs=-1` where applicable.*"
   ]
  },
  {
   "attachments": {},
   "cell_type": "markdown",
   "metadata": {},
   "source": [
    "### <span style=\"color:yellow\"> Global Toolbox </span>"
   ]
  },
  {
   "cell_type": "code",
   "execution_count": 1,
   "metadata": {},
   "outputs": [],
   "source": [
    "import pandas as pd\n",
    "import numpy as np\n",
    "import seaborn as sns\n",
    "import matplotlib.pyplot as plt\n",
    "\n",
    "import sklearn as sk \n",
    "from sklearn.model_selection import  train_test_split, GridSearchCV, StratifiedKFold\n",
    "from sklearn.metrics import accuracy_score, confusion_matrix, ConfusionMatrixDisplay\n",
    "from sklearn.ensemble import RandomForestClassifier\n",
    "import xgboost\n",
    "from xgboost import XGBClassifier\n",
    "\n",
    "import pydotplus \n",
    "from sklearn.tree import export_graphviz\n",
    "from IPython.display import Image\n",
    "\n",
    "import warnings; warnings.filterwarnings('ignore')\n",
    "seed = 310\n",
    "np.random.seed(seed)"
   ]
  },
  {
   "attachments": {},
   "cell_type": "markdown",
   "metadata": {},
   "source": [
    "### Q1.1 - <span style=\"color:red\">[4]</span> - Load and clean the dataset:\n",
    "\n",
    "1. Load the dataset.\n",
    "2. Drop all the variables that you would not have known prior to the match, except for the goals.\n",
    "3. Store the shape of the dataframe in a variable called <span style=\"color:pink\">**shape_vector**</span>.\n",
    "\n",
    "**Points will be deducted if your answer is not in the variable mentioned above**"
   ]
  },
  {
   "cell_type": "code",
   "execution_count": 2,
   "metadata": {},
   "outputs": [],
   "source": [
    "#"
   ]
  },
  {
   "attachments": {},
   "cell_type": "markdown",
   "metadata": {},
   "source": [
    "### Q1.2 - <span style=\"color:red\">[10]</span> - Create the target variable:\n",
    "\n",
    "1. Create a new variable (column) in the dataset called \"target\", which will be the target for our classification. This variable will be \"0\" if the home team scored more goals than away team, \"1\" if the away scored more, and \"2\" if they scored the same number of goals. \n",
    "2. In which game was the greatest goal difference? What was the result of the game? Store the home team of the game in **home_team**, away in **away_team** and result in **game_result**.\n",
    "3. Drop all variables related to the  result of the game including the name of the teams, except for the target.\n",
    "4. **Written question:** Is this dataset balanced? Why? Write no more than 2 lines.\n",
    "\n",
    "**Hint:** To create the target variable you should use the split function from pandas. Take a look to the documentation [here](https://pandas.pydata.org/docs/reference/api/pandas.Series.str.split.html).\n",
    "\n",
    "\n",
    "**Points will be deducted if your answer is not in the variable names mentioned above.**"
   ]
  },
  {
   "cell_type": "code",
   "execution_count": 3,
   "metadata": {},
   "outputs": [],
   "source": [
    "#"
   ]
  },
  {
   "attachments": {},
   "cell_type": "markdown",
   "metadata": {},
   "source": [
    "**Written Answer:**"
   ]
  },
  {
   "attachments": {},
   "cell_type": "markdown",
   "metadata": {},
   "source": [
    "### Q1.3 - <span style=\"color:red\">[4]</span> - Correlation:\n",
    "\n",
    "- Compute pairwise Pearson correlation coefficient (PCC) of columns and report only those with pairwise correlation absolute value greater than 0.9. The table below illustrates how the output of your code should look like. It is just for illustration and its number of rows (i.e., 3) is not deterministic. (We are checking pairwise correlations amongst the variables - and not each variable with respect to target.) \n",
    "\n",
    "|Index|Variable 1|Variable 2|PCC|\n",
    "|---|---|---|---|\n",
    "|137|passes_avg_home|possession_avg_home|0.935083|\n",
    "|...|...|...|...|\n",
    "|...|...|...|...|\n",
    "\n",
    "  \n",
    "- **Written question:** Using common sense and your understanding of the attributes, can you tell why are these variables correlated? Write no more than 5 sentences.\n",
    "\n",
    "- In the pairwise PCCs, identify those variables without the term \"possession\" in their names and drop them from the dataframe.\n"
   ]
  },
  {
   "cell_type": "code",
   "execution_count": 4,
   "metadata": {},
   "outputs": [],
   "source": [
    "#"
   ]
  },
  {
   "attachments": {},
   "cell_type": "markdown",
   "metadata": {},
   "source": [
    "**Written Answer:**"
   ]
  },
  {
   "attachments": {},
   "cell_type": "markdown",
   "metadata": {},
   "source": [
    "### Q2.1 - <span style=\"color:red\">[40]</span> - Random Forest\n",
    "- Separate the data into X and y, X should have the predictors and y the target\n",
    "\n",
    "- Create train and test set with 30% of the data in the test set. Use the provided random seed.\n",
    "\n",
    "- Instantiate three [Random Forest Classifier](https://scikit-learn.org/stable/modules/generated/sklearn.ensemble.RandomForestClassifier.html#sklearn.ensemble.RandomForestClassifier.get_params) each with a different method of selection for argument ```max_features```, *i.e.*, \"sqrt\", \"log2\", \"None\". Train them in a `for` loop with the number of trees in the range of 3 to 263 inclusive with step size of 20. Then, plot their OOB scores against number of trees in the forest for each classifier. Which selection method yields a better generalization score?\n",
    "\n",
    "- Obtain the accuracy and the confusion matrix of the model with the best OOB rate. Store the accuracy in a variable called **accuracy1**.\n",
    "\n",
    "- Visualize one arbitrary tree from one of the forests.\n",
    "\n",
    "- **Written question:** Is this a good model? Write no more than 5 sentences.\n",
    "\n",
    "**Points will be deducted if your answer is not in the variable names mentioned above.**\n",
    "\n",
    "**Use random_state = seed in all the methods that take this argument.**"
   ]
  },
  {
   "cell_type": "code",
   "execution_count": 5,
   "metadata": {},
   "outputs": [],
   "source": [
    "#"
   ]
  },
  {
   "attachments": {},
   "cell_type": "markdown",
   "metadata": {},
   "source": [
    "**Written Answer:** "
   ]
  },
  {
   "attachments": {},
   "cell_type": "markdown",
   "metadata": {},
   "source": [
    "### Q2.2 - <span style=\"color:red\">[9]</span> - What are the 5 most important variables for the best (previous) model? Create a barplot reporting their importance scores based on Gini impurity."
   ]
  },
  {
   "cell_type": "code",
   "execution_count": 6,
   "metadata": {},
   "outputs": [],
   "source": [
    "#"
   ]
  },
  {
   "attachments": {},
   "cell_type": "markdown",
   "metadata": {},
   "source": [
    "### Q3.1 - <span style=\"color:red\">[20]</span> - XGBoosting\n",
    "Now we'll repeat the process for the XGB model, using an [```XGBClassifier``` object](https://xgboost.readthedocs.io/en/latest/python/python_api.html).\n",
    "\n",
    "1. Use cross-validated grid search (with 5 stratified validation sets) to find the best values from the lists below for `XGBClassifier`. Use only 40% of the training set for your search, otherwise it will take a long time. Take advantage of `n_jobs=-1`. Report the optimal values found per argument.\n",
    " - Number of trees: [25, 50, 100]\n",
    " - Maximum depth: [8, 25, 42]\n",
    " - Learning rate: [0.1, 0.5, 0.9]\n",
    " \n",
    "2. Train a `XGBClassifier` using the optimal values and report its accuracy as well as the confusion matrix. Store the accuracy in a variable called **accuracy2**.\n",
    "3. Compare the confusion matrix and the accuracy of this model with the previous one. Is the performance of XGBoost better than the RandomForestClassifier in this case?\n",
    "\n",
    "**Points will be deducted if your answer is not in the variable mentioned above.**\n",
    "\n",
    "**Use random_state = seed in all the methods that take this argument.**"
   ]
  },
  {
   "cell_type": "code",
   "execution_count": 7,
   "metadata": {},
   "outputs": [],
   "source": [
    "#"
   ]
  },
  {
   "attachments": {},
   "cell_type": "markdown",
   "metadata": {},
   "source": [
    "### Q3.2 - <span style=\"color:red\">[4]</span> - **Written question:** How would you improve the accuracy of the models? Write no more than 5 sentences."
   ]
  },
  {
   "attachments": {},
   "cell_type": "markdown",
   "metadata": {},
   "source": [
    "**Written Answer:** "
   ]
  },
  {
   "attachments": {},
   "cell_type": "markdown",
   "metadata": {},
   "source": [
    "### Q3.3 - <span style=\"color:red\">[9]</span> - What are the 5 most important variables for the XGB classifier? Create a barplot reporting their importance scores based on Gini impurity."
   ]
  },
  {
   "cell_type": "code",
   "execution_count": 8,
   "metadata": {},
   "outputs": [],
   "source": [
    "#"
   ]
  }
 ],
 "metadata": {
  "kernelspec": {
   "display_name": "base",
   "language": "python",
   "name": "python3"
  },
  "language_info": {
   "codemirror_mode": {
    "name": "ipython",
    "version": 3
   },
   "file_extension": ".py",
   "mimetype": "text/x-python",
   "name": "python",
   "nbconvert_exporter": "python",
   "pygments_lexer": "ipython3",
   "version": "3.10.6"
  },
  "orig_nbformat": 4
 },
 "nbformat": 4,
 "nbformat_minor": 2
}
