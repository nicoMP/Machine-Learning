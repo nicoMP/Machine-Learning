{
 "cells": [
  {
   "attachments": {},
   "cell_type": "markdown",
   "metadata": {},
   "source": [
    "# Grade: /100 pts\n",
    "# Assignment 10: FATE Machine Learning\n",
    "\n",
    "## Student ID: XXXXXXXX\n",
    "\n",
    "In this coursework, we will study how to make a complex non-linear model more interpretable and we will study any fairness issues that may arise when using AI models to solve organizational problems.\n",
    "\n",
    "Our problem will be graduate admission,  we'll create a model to predict if a person would be accepted the master program they applied for. The following questions first develop a model, then we study how to make it more interpretable, and finally, we discuss any fairness issues that arise."
   ]
  },
  {
   "cell_type": "code",
   "execution_count": 1,
   "metadata": {},
   "outputs": [],
   "source": [
    "import numpy as np\n",
    "import pandas as pd\n",
    "import os\n",
    "import matplotlib.pyplot as plt\n",
    "%matplotlib inline\n",
    "import seaborn as sns\n",
    "\n",
    "from sklearn.model_selection import cross_val_score\n",
    "from sklearn.preprocessing import StandardScaler\n",
    "from sklearn.model_selection import train_test_split,GridSearchCV, StratifiedKFold\n",
    "from sklearn.metrics import roc_curve,roc_auc_score\n",
    "\n",
    "from xgboost import XGBClassifier\n",
    "import shap"
   ]
  },
  {
   "attachments": {},
   "cell_type": "markdown",
   "metadata": {},
   "source": [
    "For this assignment, we will use a graduate admission dataset. For further information about the data, refer to: https://www.kaggle.com/datasets/mohansacharya/graduate-admissions?resource=download&select=Admission_Predict.csv"
   ]
  },
  {
   "attachments": {},
   "cell_type": "markdown",
   "metadata": {},
   "source": [
    "**Variables**\n",
    "\n",
    "1. GRE Scores ( out of 340 )\n",
    "2. TOEFL Scores ( out of 120 )\n",
    "3. University Rating ( out of 5 )\n",
    "4. Statement of Purpose and Letter of Recommendation Strength ( out of 5 )\n",
    "5. Undergraduate GPA ( out of 10 )\n",
    "6. Research Experience ( either 0 or 1 )\n",
    "7. Chance of Admit ( ranging from 0 to 1 )"
   ]
  },
  {
   "attachments": {},
   "cell_type": "markdown",
   "metadata": {},
   "source": [
    "# Part 1: Data preprocessing and model construction (20 pts)"
   ]
  },
  {
   "attachments": {},
   "cell_type": "markdown",
   "metadata": {},
   "source": [
    "**Task 1:** Load the data\n",
    "\n",
    "**Task 2:** Create the target column as 1 if Change of Admit is >0.5 and 0 otherwise\n",
    "\n",
    "**Task 3:** Drop Chance of Admit, Serial No. and University Rating\n",
    "\n",
    "**Task 4:** Keep only rows with CGPA values between 8 and 9\n",
    "\n",
    "**Task 5:** Save the shape in the variable df_shape and print it\n",
    "\n",
    "**Written question:** Is this dataset imbalanced?"
   ]
  },
  {
   "cell_type": "code",
   "execution_count": null,
   "metadata": {},
   "outputs": [],
   "source": []
  },
  {
   "attachments": {},
   "cell_type": "markdown",
   "metadata": {},
   "source": [
    "## Model Construction (30 pts)\n",
    "\n",
    "**Task 1:** Using all features , split the dataset into training and test sets with `test_size=0.3` and `random_state=0`. (For all later settings, work with this random seed). \n",
    "\n",
    "**Task 2:** Construct an xgboost model with the best of the following parameters: 'n_estimators': [50,100,150,250, 300, 350], 'max_depth': [3, 4, 5], 'learning_rate' : [0.001, 0.01, 0.1]. Correctly set the argument `scale_pos_weight`. Check the documentation if needed.\n",
    "\n",
    "Report the best parameters you found. Save them in a dictionary call best_parameters\n",
    "\n",
    "**Task 3:** fit the model over the full data using the best parameters you found, plot the roc and report the auc score."
   ]
  },
  {
   "cell_type": "code",
   "execution_count": null,
   "metadata": {},
   "outputs": [],
   "source": []
  },
  {
   "attachments": {},
   "cell_type": "markdown",
   "metadata": {},
   "source": [
    "# Part 2: Feature importance and Interpretability (50 pts)"
   ]
  },
  {
   "attachments": {},
   "cell_type": "markdown",
   "metadata": {},
   "source": [
    "## Feature Importance (11 pts)"
   ]
  },
  {
   "attachments": {},
   "cell_type": "markdown",
   "metadata": {},
   "source": [
    "In this part, we compare the variable importance constructed by mean-gini and mean-shap values.\n",
    "\n",
    "**Task 1:** Plot the variable importance plot by Entropy. \n",
    "\n",
    "**Task 2:** Plot the variable importance plot by mean-shap value. \n",
    "\n",
    "**Task 3:** Discuss the differences between the variables importance and why do you think it happens. "
   ]
  },
  {
   "cell_type": "code",
   "execution_count": null,
   "metadata": {},
   "outputs": [],
   "source": []
  },
  {
   "attachments": {},
   "cell_type": "markdown",
   "metadata": {},
   "source": [
    "## Understanding and interpreting using SHAP values (39 pts)"
   ]
  },
  {
   "attachments": {},
   "cell_type": "markdown",
   "metadata": {},
   "source": [
    "**Task 1:** explain the model's predictions using SHAP for the first, third and fourth cases in the dataset. What can you conclude from the feature contribution plot? \n",
    "\n",
    "**Task 2:** Summarize the effects of all features by using a beeswarm plot. Report the first 3 features and interpret the results. \n",
    "\n",
    "**Task 3 :** For each of the variables \"GRE Score\" and \"CGPA\", create a Shap-value dependence scatter plot to show the effect of the single feature across the whole dataset."
   ]
  },
  {
   "cell_type": "code",
   "execution_count": null,
   "metadata": {},
   "outputs": [],
   "source": []
  }
 ],
 "metadata": {
  "kernelspec": {
   "display_name": "Python 3",
   "language": "python",
   "name": "python3"
  },
  "language_info": {
   "codemirror_mode": {
    "name": "ipython",
    "version": 3
   },
   "file_extension": ".py",
   "mimetype": "text/x-python",
   "name": "python",
   "nbconvert_exporter": "python",
   "pygments_lexer": "ipython3",
   "version": "3.9.12"
  },
  "orig_nbformat": 4
 },
 "nbformat": 4,
 "nbformat_minor": 2
}
