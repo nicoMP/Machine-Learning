{
  "cells": [
    {
      "cell_type": "markdown",
      "metadata": {
        "id": "-yO029ffQWaI"
      },
      "source": [
        "# Grade: /100 pts\n",
        "# Assignment 8: Customer Segmentation with Clustering\n",
        "\n",
        "In this assignment, you will be solving a traditional problem in quantitative marketing: customer segmentation. Having a properly segmented database is extremely important to define marketing campaigns, as it allows companies to define value-centric actions targeted towards customers of different profiles. In this ocassion you are going to analyze customers of an automobile company.\n",
        "\n",
        "Assume you are the owner of a consulting company that is in charge of this project. In this assignment you are going to conduct 2 different strategies for segmentating the potential customers.\n",
        "\n",
        "The information is provided in the document `DATA.csv` which has the following columns:\n",
        "\n",
        "- **ID:** Customer identifier (it does not have prediction power).\n",
        "- **Gender:** Gender of a customer.\n",
        "- **Ever_Married**: Potential customer's marrige status.\n",
        "- **Age**: Potential customer's age.\n",
        "- **Graduated:** Education status of the customer.\n",
        "- **Profession:** Type of customer's career.\n",
        "- **Work_Experience:** Work experience in years.\n",
        "- **Spending_Score:** Level of customer's spending power.\n",
        "- **Family_Size:** Number of family members for the customer.\n",
        "- **Var_1:** Anonymised Category for the customer.\n",
        "\n",
        "\n",
        "### Follow These Steps before submitting\n",
        "Once you are finished, ensure to complete the following steps.\n",
        "\n",
        "1.  Restart your kernel by clicking 'Kernel' > 'Restart & Run All'.\n",
        "\n",
        "2.  Fix any errors which result from this.\n",
        "\n",
        "3.  Repeat steps 1. and 2. until your notebook runs without errors.\n",
        "\n",
        "4.  Submit your completed notebook to OWL by the deadline. \n",
        "\n",
        "5.  Your submission document should be saved in the form: `LastName_FirstName_Assignment9.ipynb`\n"
      ]
    },
    {
      "cell_type": "code",
      "execution_count": null,
      "metadata": {
        "id": "GCyJlnOeQWao"
      },
      "outputs": [],
      "source": [
        "import numpy as np\n",
        "import pandas as pd\n",
        "import matplotlib.pyplot as plt\n",
        "from sklearn.cluster import AgglomerativeClustering, KMeans\n",
        "from yellowbrick.cluster import KElbowVisualizer, SilhouetteVisualizer\n",
        "# pip install yellowbrick\n",
        "#from yellowbrick.cluster.elbow import kelbow_visualizer\n",
        "from sklearn.preprocessing import StandardScaler\n",
        "from sklearn.metrics import silhouette_samples, silhouette_score\n",
        "import matplotlib.cm as cm\n",
        "from sklearn import preprocessing\n",
        "from sklearn.decomposition import PCA\n",
        "import seaborn as sns\n",
        "import itertools\n",
        "%matplotlib inline"
      ]
    },
    {
      "cell_type": "markdown",
      "metadata": {
        "id": "-_T0o7l0QWav"
      },
      "source": [
        "## Question 1 Loading the data and Preprocessing (10 pts)\n"
      ]
    },
    {
      "cell_type": "markdown",
      "metadata": {
        "id": "Q-YMDYcWLA6Q"
      },
      "source": [
        "1. Import the data. Report the data shape. How many null values in each column?"
      ]
    },
    {
      "cell_type": "code",
      "execution_count": null,
      "metadata": {
        "id": "qQ4brJA8GAp8"
      },
      "outputs": [],
      "source": []
    },
    {
      "cell_type": "markdown",
      "metadata": {
        "id": "UckMnjFLtxEq"
      },
      "source": [
        "2. For the column `Work_Experience` and `Family_Size`, use median value to replace the null values. For each of other columns with null entries, use the most frequent level in a column to replace the null values in this column."
      ]
    },
    {
      "cell_type": "code",
      "execution_count": null,
      "metadata": {
        "id": "zw7BUF0xGBjF"
      },
      "outputs": [],
      "source": []
    },
    {
      "cell_type": "markdown",
      "metadata": {
        "id": "RziYkUa6t4ED"
      },
      "source": [
        "3. Using `preprocessing.OneHotEncoder()`, convert all categorical features. Make sure not to add collinear features during the encoding process. Then, display the first 10 rows."
      ]
    },
    {
      "cell_type": "code",
      "execution_count": null,
      "metadata": {
        "id": "eTL0_pmrGCDD"
      },
      "outputs": [],
      "source": []
    },
    {
      "cell_type": "markdown",
      "metadata": {
        "id": "6OFhwoz-uBVl"
      },
      "source": [
        "4. Then standardize your data (except the `ID` column) with `StandardScaler()`, and store the result into a Pandas dataFrame."
      ]
    },
    {
      "cell_type": "code",
      "execution_count": null,
      "metadata": {
        "id": "kdfmiSMsGCnJ"
      },
      "outputs": [],
      "source": []
    },
    {
      "attachments": {},
      "cell_type": "markdown",
      "metadata": {
        "id": "mI_GK7TXu510"
      },
      "source": [
        "## Question 2: First Strategy (45 pts)\n",
        "\n",
        "1. We use K-means method to conduct the clustering analysis by setting the seed to 9. Use the [KelbowVisualizer](https://www.scikit-yb.org/en/latest/api/cluster/elbow.html) function to find the optimal number of clusters, where sets `k=(2,10)` and `metric` as default. **Written answer: Can you find the optimal number of clusters using the elbow method?**"
      ]
    },
    {
      "cell_type": "code",
      "execution_count": null,
      "metadata": {
        "id": "_XeVQERBvLL7"
      },
      "outputs": [],
      "source": []
    },
    {
      "cell_type": "markdown",
      "metadata": {
        "id": "mSn2fZ5Sv-xO"
      },
      "source": [
        "**Written answer (2 pts):**"
      ]
    },
    {
      "cell_type": "markdown",
      "metadata": {
        "id": "jtonBc3gxKZx"
      },
      "source": [
        "2. Try between 2 and 6 clusters, using a seed of 9, and draw the silouhette plot for the K-means analysis. Report the silhouette scores. Do NOT use the built-in function `SilhouetteVisualizer()`."
      ]
    },
    {
      "cell_type": "code",
      "execution_count": null,
      "metadata": {
        "id": "VhEj44xoGRxJ"
      },
      "outputs": [],
      "source": []
    },
    {
      "cell_type": "markdown",
      "metadata": {
        "id": "_ulj2b_I1RBN"
      },
      "source": [
        "**What is the optimal number of clusters using the silhouette method?**"
      ]
    },
    {
      "cell_type": "markdown",
      "metadata": {
        "id": "VB_96Z382IHF"
      },
      "source": [
        "**ANSWER HERE (2pts):** "
      ]
    },
    {
      "cell_type": "markdown",
      "metadata": {
        "id": "ybsMsxKj3TRX"
      },
      "source": [
        "3. Use the first and second principle components of the data as the x and y axis, draw the scatter plot where points are differentiated by clusters. Hints: you need to first perform dimension reduction with PCA using 2 components."
      ]
    },
    {
      "cell_type": "code",
      "execution_count": null,
      "metadata": {
        "id": "IFMmhbjnGzq9"
      },
      "outputs": [],
      "source": []
    },
    {
      "attachments": {},
      "cell_type": "markdown",
      "metadata": {
        "id": "a0t9OdyD4nQ_"
      },
      "source": [
        "\n",
        "4. The objective of any cluster analysis over customer data is to create a reasonable segmentation of your customers. Using the number of clusters you have decided in Question 1, create a table (using `pandas.DataFrame.groupby`) of the averages per variable (`Age`, `Work_Experience`, `Family_Size`) of each cluster (use the original, non-scaled, variables). Write a conclusion on the characteristics of each cluster."
      ]
    },
    {
      "cell_type": "code",
      "execution_count": null,
      "metadata": {
        "id": "jYHaH4EDG0jA"
      },
      "outputs": [],
      "source": []
    },
    {
      "cell_type": "markdown",
      "metadata": {
        "id": "jWdOw-3r43mM"
      },
      "source": [
        "**ANSWER HERE (2pts):** "
      ]
    },
    {
      "cell_type": "markdown",
      "metadata": {
        "id": "E6gDux4OLA6W"
      },
      "source": [
        "## Question 3: Second Strategy (45 pts) \n",
        "\n",
        "1. First performing dimension reduction with PCA using 4 components. Look for the best number of clusters (between 3 to 6) using `Agglomerative clustering` with `affinity = 'cosine'` and `linkage = 'average'` and Silhuoette analysis."
      ]
    },
    {
      "cell_type": "code",
      "execution_count": null,
      "metadata": {
        "id": "dce5jc4iGxR8"
      },
      "outputs": [],
      "source": []
    },
    {
      "cell_type": "markdown",
      "metadata": {
        "id": "ykO7i7x3LA6Y"
      },
      "source": [
        "**Written Answer:** How many clusters is select based on the previous results?"
      ]
    },
    {
      "cell_type": "markdown",
      "metadata": {
        "id": "dvahLU56LA6Y"
      },
      "source": [
        "**ANSWER HERE (2pts):** "
      ]
    },
    {
      "attachments": {},
      "cell_type": "markdown",
      "metadata": {
        "id": "Fm6hm162-zDQ"
      },
      "source": [
        "2. Graph the scatter plot of the PCA-transformed data differentiated by cluster. Use the first and second principal components of the data as the x and y axis.\n"
      ]
    },
    {
      "cell_type": "code",
      "execution_count": null,
      "metadata": {
        "id": "F5fNrKXBGxto"
      },
      "outputs": [],
      "source": []
    },
    {
      "cell_type": "markdown",
      "metadata": {
        "id": "0iBhExCs_gsk"
      },
      "source": [
        "3. Make the boxplot `Age` vs `Family_Size` based on the dataFrame before standardization, and use `hue = \"Your_Cluster_Label\"` in the plot function to show the differences among clusters."
      ]
    },
    {
      "cell_type": "code",
      "execution_count": null,
      "metadata": {
        "id": "IOEPJq5eGyEm"
      },
      "outputs": [],
      "source": []
    },
    {
      "attachments": {},
      "cell_type": "markdown",
      "metadata": {
        "id": "VL6byidbACf4"
      },
      "source": [
        "4. Using the number of clusters you have decided in Question 2 and `pandas.DataFrame.groupby`, create a table of the averages per variable (`Age`, `Work_Experience`, `Family_Size`) of each cluster (use the original, non-scaled, variables). Write a conclusion on the characteristics of each cluster."
      ]
    },
    {
      "cell_type": "code",
      "execution_count": null,
      "metadata": {
        "id": "IqlQAa3bGyv-"
      },
      "outputs": [],
      "source": []
    },
    {
      "cell_type": "markdown",
      "metadata": {
        "id": "HEu2VKbrAnmy"
      },
      "source": [
        "**ANSWER HERE (2pts):** \n",
        "\n"
      ]
    }
  ],
  "metadata": {
    "colab": {
      "provenance": []
    },
    "kernelspec": {
      "display_name": "Python 3",
      "language": "python",
      "name": "python3"
    },
    "language_info": {
      "codemirror_mode": {
        "name": "ipython",
        "version": 3
      },
      "file_extension": ".py",
      "mimetype": "text/x-python",
      "name": "python",
      "nbconvert_exporter": "python",
      "pygments_lexer": "ipython3",
      "version": "3.8.8"
    }
  },
  "nbformat": 4,
  "nbformat_minor": 0
}
