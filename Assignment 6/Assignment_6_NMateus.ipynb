{
  "cells": [
    {
      "cell_type": "markdown",
      "metadata": {
        "id": "izqne0Z6IH__"
      },
      "source": [
        "# Assignment 6: Feature selection and regularization\n",
        "\n",
        "# Total: /100\n",
        "\n",
        "## Instructions\n",
        "\n",
        "* Complete the assignment\n",
        "\n",
        "* Once the notebook is complete, **restart** your kernel and **rerun** your cells\n",
        "\n",
        "* Submit this notebook to owl by the deadline\n",
        "\n",
        "* You may use any python library functions you wish to complete the assignment."
      ]
    },
    {
      "cell_type": "code",
      "execution_count": 1,
      "metadata": {
        "id": "GTwVRZnbIGrl"
      },
      "outputs": [],
      "source": [
        "# You may need these\n",
        "import pandas as pd\n",
        "import numpy as np\n",
        "import seaborn as sns\n",
        "import sklearn as sk\n",
        "import sklearn.linear_model as skl\n",
        "from sklearn import preprocessing\n",
        "from sklearn import metrics\n",
        "from sklearn.preprocessing import PolynomialFeatures\n",
        "from sklearn.preprocessing import StandardScaler \n",
        "from sklearn.model_selection import train_test_split, cross_val_score\n",
        "from sklearn.feature_selection import SelectFromModel\n",
        "from sklearn.feature_selection import SequentialFeatureSelector\n",
        "from sklearn.linear_model import LassoCV\n",
        "import matplotlib.pyplot as plt\n",
        "from IPython.display import display\n",
        "\n",
        "seed = 2023\n",
        "np.random.seed(seed)"
      ]
    },
    {
      "cell_type": "markdown",
      "metadata": {
        "id": "G4EmPdu-tV-2"
      },
      "source": [
        "## Question 1: /20 pts\n",
        "\n",
        "\n",
        "Customer Lifetime Value (CLV) is the total income a business can expect from a customer over the entire period of their relationship. It’s an important metric as it costs less to keep existing customers than it does to acquire new ones, so increasing the value of your existing customers is a great way to drive growth. We want to predict CLV for an auto insurance company.\n",
        "\n",
        "1. Read in the `Vehicle_Insurance.csv` dataset and display the last 5 rows.\n",
        "2. Conduct the required data preparation."
      ]
    },
    {
      "cell_type": "markdown",
      "metadata": {
        "id": "8K4pylNyuK5z"
      },
      "source": [
        "### 1.1 Read the dataset and display the last 5 rows"
      ]
    },
    {
      "cell_type": "code",
      "execution_count": 2,
      "metadata": {
        "colab": {
          "base_uri": "https://localhost:8080/",
          "height": 637
        },
        "id": "hW5aHQQoKHtu",
        "outputId": "e347da2b-7f83-448c-c810-dd251504855c"
      },
      "outputs": [
        {
          "output_type": "stream",
          "name": "stdout",
          "text": [
            "              clv  Coverage Gender  Income Marital.Status  \\\n",
            "8625  4100.398533   Premium      F   47761         Single   \n",
            "8626  3096.511217  Extended      F   21604       Divorced   \n",
            "8627  8163.890428  Extended      M       0         Single   \n",
            "8628  7524.442436  Extended      M   21941        Married   \n",
            "8629  2611.836866  Extended      M       0         Single   \n",
            "\n",
            "      Monthly.Premium.Auto  Number.of.Open.Complaints  Number.of.Policies  \\\n",
            "8625                   104                          0                   1   \n",
            "8626                    79                          0                   1   \n",
            "8627                    85                          3                   2   \n",
            "8628                    96                          0                   3   \n",
            "8629                    77                          0                   1   \n",
            "\n",
            "     Renew.Offer.Type  Total.Claim.Amount  Vehicle.Class  \n",
            "8625           Offer1          541.282007  Four-Door Car  \n",
            "8626           Offer1          379.200000  Four-Door Car  \n",
            "8627           Offer1          790.784983  Four-Door Car  \n",
            "8628           Offer3          691.200000  Four-Door Car  \n",
            "8629           Offer4          369.600000   Two-Door Car  \n"
          ]
        },
        {
          "output_type": "execute_result",
          "data": {
            "text/plain": [
              "                clv        Income  Monthly.Premium.Auto  \\\n",
              "count   8630.000000   8630.000000           8630.000000   \n",
              "mean    6725.281515  37586.405794             91.677057   \n",
              "std     3934.876313  30453.838594             32.648209   \n",
              "min     1898.007675      0.000000             61.000000   \n",
              "25%     3858.177183      0.000000             68.000000   \n",
              "50%     5569.220419  33817.000000             81.000000   \n",
              "75%     8456.408530  62250.750000            108.000000   \n",
              "max    21235.445570  99981.000000            298.000000   \n",
              "\n",
              "       Number.of.Open.Complaints  Number.of.Policies  Total.Claim.Amount  \n",
              "count                8630.000000         8630.000000         8630.000000  \n",
              "mean                    0.389108            3.020626          427.131607  \n",
              "std                     0.920491            2.445994          282.722326  \n",
              "min                     0.000000            1.000000            0.099007  \n",
              "25%                     0.000000            1.000000          268.881398  \n",
              "50%                     0.000000            2.000000          376.880363  \n",
              "75%                     0.000000            4.000000          542.400000  \n",
              "max                     5.000000            9.000000         2893.239678  "
            ],
            "text/html": [
              "\n",
              "  <div id=\"df-a9a59ab2-2622-4670-bbc8-5d9d43300e07\">\n",
              "    <div class=\"colab-df-container\">\n",
              "      <div>\n",
              "<style scoped>\n",
              "    .dataframe tbody tr th:only-of-type {\n",
              "        vertical-align: middle;\n",
              "    }\n",
              "\n",
              "    .dataframe tbody tr th {\n",
              "        vertical-align: top;\n",
              "    }\n",
              "\n",
              "    .dataframe thead th {\n",
              "        text-align: right;\n",
              "    }\n",
              "</style>\n",
              "<table border=\"1\" class=\"dataframe\">\n",
              "  <thead>\n",
              "    <tr style=\"text-align: right;\">\n",
              "      <th></th>\n",
              "      <th>clv</th>\n",
              "      <th>Income</th>\n",
              "      <th>Monthly.Premium.Auto</th>\n",
              "      <th>Number.of.Open.Complaints</th>\n",
              "      <th>Number.of.Policies</th>\n",
              "      <th>Total.Claim.Amount</th>\n",
              "    </tr>\n",
              "  </thead>\n",
              "  <tbody>\n",
              "    <tr>\n",
              "      <th>count</th>\n",
              "      <td>8630.000000</td>\n",
              "      <td>8630.000000</td>\n",
              "      <td>8630.000000</td>\n",
              "      <td>8630.000000</td>\n",
              "      <td>8630.000000</td>\n",
              "      <td>8630.000000</td>\n",
              "    </tr>\n",
              "    <tr>\n",
              "      <th>mean</th>\n",
              "      <td>6725.281515</td>\n",
              "      <td>37586.405794</td>\n",
              "      <td>91.677057</td>\n",
              "      <td>0.389108</td>\n",
              "      <td>3.020626</td>\n",
              "      <td>427.131607</td>\n",
              "    </tr>\n",
              "    <tr>\n",
              "      <th>std</th>\n",
              "      <td>3934.876313</td>\n",
              "      <td>30453.838594</td>\n",
              "      <td>32.648209</td>\n",
              "      <td>0.920491</td>\n",
              "      <td>2.445994</td>\n",
              "      <td>282.722326</td>\n",
              "    </tr>\n",
              "    <tr>\n",
              "      <th>min</th>\n",
              "      <td>1898.007675</td>\n",
              "      <td>0.000000</td>\n",
              "      <td>61.000000</td>\n",
              "      <td>0.000000</td>\n",
              "      <td>1.000000</td>\n",
              "      <td>0.099007</td>\n",
              "    </tr>\n",
              "    <tr>\n",
              "      <th>25%</th>\n",
              "      <td>3858.177183</td>\n",
              "      <td>0.000000</td>\n",
              "      <td>68.000000</td>\n",
              "      <td>0.000000</td>\n",
              "      <td>1.000000</td>\n",
              "      <td>268.881398</td>\n",
              "    </tr>\n",
              "    <tr>\n",
              "      <th>50%</th>\n",
              "      <td>5569.220419</td>\n",
              "      <td>33817.000000</td>\n",
              "      <td>81.000000</td>\n",
              "      <td>0.000000</td>\n",
              "      <td>2.000000</td>\n",
              "      <td>376.880363</td>\n",
              "    </tr>\n",
              "    <tr>\n",
              "      <th>75%</th>\n",
              "      <td>8456.408530</td>\n",
              "      <td>62250.750000</td>\n",
              "      <td>108.000000</td>\n",
              "      <td>0.000000</td>\n",
              "      <td>4.000000</td>\n",
              "      <td>542.400000</td>\n",
              "    </tr>\n",
              "    <tr>\n",
              "      <th>max</th>\n",
              "      <td>21235.445570</td>\n",
              "      <td>99981.000000</td>\n",
              "      <td>298.000000</td>\n",
              "      <td>5.000000</td>\n",
              "      <td>9.000000</td>\n",
              "      <td>2893.239678</td>\n",
              "    </tr>\n",
              "  </tbody>\n",
              "</table>\n",
              "</div>\n",
              "      <button class=\"colab-df-convert\" onclick=\"convertToInteractive('df-a9a59ab2-2622-4670-bbc8-5d9d43300e07')\"\n",
              "              title=\"Convert this dataframe to an interactive table.\"\n",
              "              style=\"display:none;\">\n",
              "        \n",
              "  <svg xmlns=\"http://www.w3.org/2000/svg\" height=\"24px\"viewBox=\"0 0 24 24\"\n",
              "       width=\"24px\">\n",
              "    <path d=\"M0 0h24v24H0V0z\" fill=\"none\"/>\n",
              "    <path d=\"M18.56 5.44l.94 2.06.94-2.06 2.06-.94-2.06-.94-.94-2.06-.94 2.06-2.06.94zm-11 1L8.5 8.5l.94-2.06 2.06-.94-2.06-.94L8.5 2.5l-.94 2.06-2.06.94zm10 10l.94 2.06.94-2.06 2.06-.94-2.06-.94-.94-2.06-.94 2.06-2.06.94z\"/><path d=\"M17.41 7.96l-1.37-1.37c-.4-.4-.92-.59-1.43-.59-.52 0-1.04.2-1.43.59L10.3 9.45l-7.72 7.72c-.78.78-.78 2.05 0 2.83L4 21.41c.39.39.9.59 1.41.59.51 0 1.02-.2 1.41-.59l7.78-7.78 2.81-2.81c.8-.78.8-2.07 0-2.86zM5.41 20L4 18.59l7.72-7.72 1.47 1.35L5.41 20z\"/>\n",
              "  </svg>\n",
              "      </button>\n",
              "      \n",
              "  <style>\n",
              "    .colab-df-container {\n",
              "      display:flex;\n",
              "      flex-wrap:wrap;\n",
              "      gap: 12px;\n",
              "    }\n",
              "\n",
              "    .colab-df-convert {\n",
              "      background-color: #E8F0FE;\n",
              "      border: none;\n",
              "      border-radius: 50%;\n",
              "      cursor: pointer;\n",
              "      display: none;\n",
              "      fill: #1967D2;\n",
              "      height: 32px;\n",
              "      padding: 0 0 0 0;\n",
              "      width: 32px;\n",
              "    }\n",
              "\n",
              "    .colab-df-convert:hover {\n",
              "      background-color: #E2EBFA;\n",
              "      box-shadow: 0px 1px 2px rgba(60, 64, 67, 0.3), 0px 1px 3px 1px rgba(60, 64, 67, 0.15);\n",
              "      fill: #174EA6;\n",
              "    }\n",
              "\n",
              "    [theme=dark] .colab-df-convert {\n",
              "      background-color: #3B4455;\n",
              "      fill: #D2E3FC;\n",
              "    }\n",
              "\n",
              "    [theme=dark] .colab-df-convert:hover {\n",
              "      background-color: #434B5C;\n",
              "      box-shadow: 0px 1px 3px 1px rgba(0, 0, 0, 0.15);\n",
              "      filter: drop-shadow(0px 1px 2px rgba(0, 0, 0, 0.3));\n",
              "      fill: #FFFFFF;\n",
              "    }\n",
              "  </style>\n",
              "\n",
              "      <script>\n",
              "        const buttonEl =\n",
              "          document.querySelector('#df-a9a59ab2-2622-4670-bbc8-5d9d43300e07 button.colab-df-convert');\n",
              "        buttonEl.style.display =\n",
              "          google.colab.kernel.accessAllowed ? 'block' : 'none';\n",
              "\n",
              "        async function convertToInteractive(key) {\n",
              "          const element = document.querySelector('#df-a9a59ab2-2622-4670-bbc8-5d9d43300e07');\n",
              "          const dataTable =\n",
              "            await google.colab.kernel.invokeFunction('convertToInteractive',\n",
              "                                                     [key], {});\n",
              "          if (!dataTable) return;\n",
              "\n",
              "          const docLinkHtml = 'Like what you see? Visit the ' +\n",
              "            '<a target=\"_blank\" href=https://colab.research.google.com/notebooks/data_table.ipynb>data table notebook</a>'\n",
              "            + ' to learn more about interactive tables.';\n",
              "          element.innerHTML = '';\n",
              "          dataTable['output_type'] = 'display_data';\n",
              "          await google.colab.output.renderOutput(dataTable, element);\n",
              "          const docLink = document.createElement('div');\n",
              "          docLink.innerHTML = docLinkHtml;\n",
              "          element.appendChild(docLink);\n",
              "        }\n",
              "      </script>\n",
              "    </div>\n",
              "  </div>\n",
              "  "
            ]
          },
          "metadata": {},
          "execution_count": 2
        }
      ],
      "source": [
        "#\n",
        "raw_data = pd.read_csv('/content/Vehicle_Insurance.csv')\n",
        "print(raw_data.tail(5))\n",
        "raw_data.describe()"
      ]
    },
    {
      "cell_type": "markdown",
      "metadata": {
        "id": "T48PV8tIvQEF"
      },
      "source": [
        "### 1.2 Remove the rows with \"clv\" $> 16000$ as well as those with \"clv\" $< 2200$ from the dataset. What's the shape of the dataframe now?"
      ]
    },
    {
      "cell_type": "code",
      "execution_count": 3,
      "metadata": {
        "id": "uT1uSpcHvgC6"
      },
      "outputs": [],
      "source": [
        "#\n",
        "raw_data.drop(raw_data[raw_data['clv'] > 16000].index, inplace=True)\n",
        "raw_data.drop(raw_data[raw_data['clv'] < 2200].index, inplace = True)\n"
      ]
    },
    {
      "cell_type": "markdown",
      "metadata": {
        "id": "t6h1-f7sxKJa"
      },
      "source": [
        "### 1.3 Using `preprocessing.OneHotEncoder()`, convert all categorical features. Make sure not to add collinear features during the encoding process. Then, display the first 3 rows."
      ]
    },
    {
      "cell_type": "code",
      "execution_count": 4,
      "metadata": {
        "colab": {
          "base_uri": "https://localhost:8080/",
          "height": 568
        },
        "id": "roWX2SCqxCDW",
        "outputId": "191cb523-c135-4e28-b272-e260e692cb56"
      },
      "outputs": [
        {
          "output_type": "stream",
          "name": "stderr",
          "text": [
            "<ipython-input-4-f9fabdd7cd0c>:7: FutureWarning: In a future version of pandas all arguments of DataFrame.drop except for the argument 'labels' will be keyword-only\n",
            "  enc_data = pd.concat([raw_data.drop(['Coverage', 'Gender', 'Marital.Status', 'Renew.Offer.Type', 'Vehicle.Class'], 1).reset_index(), cat_Data], 1).drop('index',1)\n",
            "<ipython-input-4-f9fabdd7cd0c>:7: FutureWarning: In a future version of pandas all arguments of concat except for the argument 'objs' will be keyword-only\n",
            "  enc_data = pd.concat([raw_data.drop(['Coverage', 'Gender', 'Marital.Status', 'Renew.Offer.Type', 'Vehicle.Class'], 1).reset_index(), cat_Data], 1).drop('index',1)\n"
          ]
        },
        {
          "output_type": "execute_result",
          "data": {
            "text/plain": [
              "               clv  Income  Monthly.Premium.Auto  Number.of.Open.Complaints  \\\n",
              "0      2763.519279   56274                    69                          0   \n",
              "1      6979.535903       0                    94                          0   \n",
              "2     12887.431650   48767                   108                          0   \n",
              "3      7645.861827       0                   106                          0   \n",
              "4      2813.692575   43836                    73                          0   \n",
              "...            ...     ...                   ...                        ...   \n",
              "8207   4100.398533   47761                   104                          0   \n",
              "8208   3096.511217   21604                    79                          0   \n",
              "8209   8163.890428       0                    85                          3   \n",
              "8210   7524.442436   21941                    96                          0   \n",
              "8211   2611.836866       0                    77                          0   \n",
              "\n",
              "      Number.of.Policies  Total.Claim.Amount  Coverage_Extended  \\\n",
              "0                      1          384.811147                0.0   \n",
              "1                      8         1131.464935                1.0   \n",
              "2                      2          566.472247                0.0   \n",
              "3                      7          529.881344                0.0   \n",
              "4                      1          138.130879                0.0   \n",
              "...                  ...                 ...                ...   \n",
              "8207                   1          541.282007                0.0   \n",
              "8208                   1          379.200000                1.0   \n",
              "8209                   2          790.784983                1.0   \n",
              "8210                   3          691.200000                1.0   \n",
              "8211                   1          369.600000                1.0   \n",
              "\n",
              "      Coverage_Premium  Gender_M  Marital.Status_Married  \\\n",
              "0                  0.0       0.0                     1.0   \n",
              "1                  0.0       0.0                     0.0   \n",
              "2                  1.0       0.0                     1.0   \n",
              "3                  0.0       1.0                     1.0   \n",
              "4                  0.0       1.0                     0.0   \n",
              "...                ...       ...                     ...   \n",
              "8207               1.0       0.0                     0.0   \n",
              "8208               0.0       0.0                     0.0   \n",
              "8209               0.0       1.0                     0.0   \n",
              "8210               0.0       1.0                     1.0   \n",
              "8211               0.0       1.0                     0.0   \n",
              "\n",
              "      Marital.Status_Single  Renew.Offer.Type_Offer2  Renew.Offer.Type_Offer3  \\\n",
              "0                       0.0                      0.0                      0.0   \n",
              "1                       1.0                      0.0                      1.0   \n",
              "2                       0.0                      0.0                      0.0   \n",
              "3                       0.0                      0.0                      0.0   \n",
              "4                       1.0                      0.0                      0.0   \n",
              "...                     ...                      ...                      ...   \n",
              "8207                    1.0                      0.0                      0.0   \n",
              "8208                    0.0                      0.0                      0.0   \n",
              "8209                    1.0                      0.0                      0.0   \n",
              "8210                    0.0                      0.0                      1.0   \n",
              "8211                    1.0                      0.0                      0.0   \n",
              "\n",
              "      Renew.Offer.Type_Offer4  Vehicle.Class_Luxury Car  \\\n",
              "0                         0.0                       0.0   \n",
              "1                         0.0                       0.0   \n",
              "2                         0.0                       0.0   \n",
              "3                         0.0                       0.0   \n",
              "4                         0.0                       0.0   \n",
              "...                       ...                       ...   \n",
              "8207                      0.0                       0.0   \n",
              "8208                      0.0                       0.0   \n",
              "8209                      0.0                       0.0   \n",
              "8210                      0.0                       0.0   \n",
              "8211                      1.0                       0.0   \n",
              "\n",
              "      Vehicle.Class_Luxury SUV  Vehicle.Class_SUV  Vehicle.Class_Sports Car  \\\n",
              "0                          0.0                0.0                       0.0   \n",
              "1                          0.0                0.0                       0.0   \n",
              "2                          0.0                0.0                       0.0   \n",
              "3                          0.0                1.0                       0.0   \n",
              "4                          0.0                0.0                       0.0   \n",
              "...                        ...                ...                       ...   \n",
              "8207                       0.0                0.0                       0.0   \n",
              "8208                       0.0                0.0                       0.0   \n",
              "8209                       0.0                0.0                       0.0   \n",
              "8210                       0.0                0.0                       0.0   \n",
              "8211                       0.0                0.0                       0.0   \n",
              "\n",
              "      Vehicle.Class_Two-Door Car  \n",
              "0                            1.0  \n",
              "1                            0.0  \n",
              "2                            1.0  \n",
              "3                            0.0  \n",
              "4                            0.0  \n",
              "...                          ...  \n",
              "8207                         0.0  \n",
              "8208                         0.0  \n",
              "8209                         0.0  \n",
              "8210                         0.0  \n",
              "8211                         1.0  \n",
              "\n",
              "[8212 rows x 19 columns]"
            ],
            "text/html": [
              "\n",
              "  <div id=\"df-54f9948b-ccba-43ba-a053-ce7bebd1df7d\">\n",
              "    <div class=\"colab-df-container\">\n",
              "      <div>\n",
              "<style scoped>\n",
              "    .dataframe tbody tr th:only-of-type {\n",
              "        vertical-align: middle;\n",
              "    }\n",
              "\n",
              "    .dataframe tbody tr th {\n",
              "        vertical-align: top;\n",
              "    }\n",
              "\n",
              "    .dataframe thead th {\n",
              "        text-align: right;\n",
              "    }\n",
              "</style>\n",
              "<table border=\"1\" class=\"dataframe\">\n",
              "  <thead>\n",
              "    <tr style=\"text-align: right;\">\n",
              "      <th></th>\n",
              "      <th>clv</th>\n",
              "      <th>Income</th>\n",
              "      <th>Monthly.Premium.Auto</th>\n",
              "      <th>Number.of.Open.Complaints</th>\n",
              "      <th>Number.of.Policies</th>\n",
              "      <th>Total.Claim.Amount</th>\n",
              "      <th>Coverage_Extended</th>\n",
              "      <th>Coverage_Premium</th>\n",
              "      <th>Gender_M</th>\n",
              "      <th>Marital.Status_Married</th>\n",
              "      <th>Marital.Status_Single</th>\n",
              "      <th>Renew.Offer.Type_Offer2</th>\n",
              "      <th>Renew.Offer.Type_Offer3</th>\n",
              "      <th>Renew.Offer.Type_Offer4</th>\n",
              "      <th>Vehicle.Class_Luxury Car</th>\n",
              "      <th>Vehicle.Class_Luxury SUV</th>\n",
              "      <th>Vehicle.Class_SUV</th>\n",
              "      <th>Vehicle.Class_Sports Car</th>\n",
              "      <th>Vehicle.Class_Two-Door Car</th>\n",
              "    </tr>\n",
              "  </thead>\n",
              "  <tbody>\n",
              "    <tr>\n",
              "      <th>0</th>\n",
              "      <td>2763.519279</td>\n",
              "      <td>56274</td>\n",
              "      <td>69</td>\n",
              "      <td>0</td>\n",
              "      <td>1</td>\n",
              "      <td>384.811147</td>\n",
              "      <td>0.0</td>\n",
              "      <td>0.0</td>\n",
              "      <td>0.0</td>\n",
              "      <td>1.0</td>\n",
              "      <td>0.0</td>\n",
              "      <td>0.0</td>\n",
              "      <td>0.0</td>\n",
              "      <td>0.0</td>\n",
              "      <td>0.0</td>\n",
              "      <td>0.0</td>\n",
              "      <td>0.0</td>\n",
              "      <td>0.0</td>\n",
              "      <td>1.0</td>\n",
              "    </tr>\n",
              "    <tr>\n",
              "      <th>1</th>\n",
              "      <td>6979.535903</td>\n",
              "      <td>0</td>\n",
              "      <td>94</td>\n",
              "      <td>0</td>\n",
              "      <td>8</td>\n",
              "      <td>1131.464935</td>\n",
              "      <td>1.0</td>\n",
              "      <td>0.0</td>\n",
              "      <td>0.0</td>\n",
              "      <td>0.0</td>\n",
              "      <td>1.0</td>\n",
              "      <td>0.0</td>\n",
              "      <td>1.0</td>\n",
              "      <td>0.0</td>\n",
              "      <td>0.0</td>\n",
              "      <td>0.0</td>\n",
              "      <td>0.0</td>\n",
              "      <td>0.0</td>\n",
              "      <td>0.0</td>\n",
              "    </tr>\n",
              "    <tr>\n",
              "      <th>2</th>\n",
              "      <td>12887.431650</td>\n",
              "      <td>48767</td>\n",
              "      <td>108</td>\n",
              "      <td>0</td>\n",
              "      <td>2</td>\n",
              "      <td>566.472247</td>\n",
              "      <td>0.0</td>\n",
              "      <td>1.0</td>\n",
              "      <td>0.0</td>\n",
              "      <td>1.0</td>\n",
              "      <td>0.0</td>\n",
              "      <td>0.0</td>\n",
              "      <td>0.0</td>\n",
              "      <td>0.0</td>\n",
              "      <td>0.0</td>\n",
              "      <td>0.0</td>\n",
              "      <td>0.0</td>\n",
              "      <td>0.0</td>\n",
              "      <td>1.0</td>\n",
              "    </tr>\n",
              "    <tr>\n",
              "      <th>3</th>\n",
              "      <td>7645.861827</td>\n",
              "      <td>0</td>\n",
              "      <td>106</td>\n",
              "      <td>0</td>\n",
              "      <td>7</td>\n",
              "      <td>529.881344</td>\n",
              "      <td>0.0</td>\n",
              "      <td>0.0</td>\n",
              "      <td>1.0</td>\n",
              "      <td>1.0</td>\n",
              "      <td>0.0</td>\n",
              "      <td>0.0</td>\n",
              "      <td>0.0</td>\n",
              "      <td>0.0</td>\n",
              "      <td>0.0</td>\n",
              "      <td>0.0</td>\n",
              "      <td>1.0</td>\n",
              "      <td>0.0</td>\n",
              "      <td>0.0</td>\n",
              "    </tr>\n",
              "    <tr>\n",
              "      <th>4</th>\n",
              "      <td>2813.692575</td>\n",
              "      <td>43836</td>\n",
              "      <td>73</td>\n",
              "      <td>0</td>\n",
              "      <td>1</td>\n",
              "      <td>138.130879</td>\n",
              "      <td>0.0</td>\n",
              "      <td>0.0</td>\n",
              "      <td>1.0</td>\n",
              "      <td>0.0</td>\n",
              "      <td>1.0</td>\n",
              "      <td>0.0</td>\n",
              "      <td>0.0</td>\n",
              "      <td>0.0</td>\n",
              "      <td>0.0</td>\n",
              "      <td>0.0</td>\n",
              "      <td>0.0</td>\n",
              "      <td>0.0</td>\n",
              "      <td>0.0</td>\n",
              "    </tr>\n",
              "    <tr>\n",
              "      <th>...</th>\n",
              "      <td>...</td>\n",
              "      <td>...</td>\n",
              "      <td>...</td>\n",
              "      <td>...</td>\n",
              "      <td>...</td>\n",
              "      <td>...</td>\n",
              "      <td>...</td>\n",
              "      <td>...</td>\n",
              "      <td>...</td>\n",
              "      <td>...</td>\n",
              "      <td>...</td>\n",
              "      <td>...</td>\n",
              "      <td>...</td>\n",
              "      <td>...</td>\n",
              "      <td>...</td>\n",
              "      <td>...</td>\n",
              "      <td>...</td>\n",
              "      <td>...</td>\n",
              "      <td>...</td>\n",
              "    </tr>\n",
              "    <tr>\n",
              "      <th>8207</th>\n",
              "      <td>4100.398533</td>\n",
              "      <td>47761</td>\n",
              "      <td>104</td>\n",
              "      <td>0</td>\n",
              "      <td>1</td>\n",
              "      <td>541.282007</td>\n",
              "      <td>0.0</td>\n",
              "      <td>1.0</td>\n",
              "      <td>0.0</td>\n",
              "      <td>0.0</td>\n",
              "      <td>1.0</td>\n",
              "      <td>0.0</td>\n",
              "      <td>0.0</td>\n",
              "      <td>0.0</td>\n",
              "      <td>0.0</td>\n",
              "      <td>0.0</td>\n",
              "      <td>0.0</td>\n",
              "      <td>0.0</td>\n",
              "      <td>0.0</td>\n",
              "    </tr>\n",
              "    <tr>\n",
              "      <th>8208</th>\n",
              "      <td>3096.511217</td>\n",
              "      <td>21604</td>\n",
              "      <td>79</td>\n",
              "      <td>0</td>\n",
              "      <td>1</td>\n",
              "      <td>379.200000</td>\n",
              "      <td>1.0</td>\n",
              "      <td>0.0</td>\n",
              "      <td>0.0</td>\n",
              "      <td>0.0</td>\n",
              "      <td>0.0</td>\n",
              "      <td>0.0</td>\n",
              "      <td>0.0</td>\n",
              "      <td>0.0</td>\n",
              "      <td>0.0</td>\n",
              "      <td>0.0</td>\n",
              "      <td>0.0</td>\n",
              "      <td>0.0</td>\n",
              "      <td>0.0</td>\n",
              "    </tr>\n",
              "    <tr>\n",
              "      <th>8209</th>\n",
              "      <td>8163.890428</td>\n",
              "      <td>0</td>\n",
              "      <td>85</td>\n",
              "      <td>3</td>\n",
              "      <td>2</td>\n",
              "      <td>790.784983</td>\n",
              "      <td>1.0</td>\n",
              "      <td>0.0</td>\n",
              "      <td>1.0</td>\n",
              "      <td>0.0</td>\n",
              "      <td>1.0</td>\n",
              "      <td>0.0</td>\n",
              "      <td>0.0</td>\n",
              "      <td>0.0</td>\n",
              "      <td>0.0</td>\n",
              "      <td>0.0</td>\n",
              "      <td>0.0</td>\n",
              "      <td>0.0</td>\n",
              "      <td>0.0</td>\n",
              "    </tr>\n",
              "    <tr>\n",
              "      <th>8210</th>\n",
              "      <td>7524.442436</td>\n",
              "      <td>21941</td>\n",
              "      <td>96</td>\n",
              "      <td>0</td>\n",
              "      <td>3</td>\n",
              "      <td>691.200000</td>\n",
              "      <td>1.0</td>\n",
              "      <td>0.0</td>\n",
              "      <td>1.0</td>\n",
              "      <td>1.0</td>\n",
              "      <td>0.0</td>\n",
              "      <td>0.0</td>\n",
              "      <td>1.0</td>\n",
              "      <td>0.0</td>\n",
              "      <td>0.0</td>\n",
              "      <td>0.0</td>\n",
              "      <td>0.0</td>\n",
              "      <td>0.0</td>\n",
              "      <td>0.0</td>\n",
              "    </tr>\n",
              "    <tr>\n",
              "      <th>8211</th>\n",
              "      <td>2611.836866</td>\n",
              "      <td>0</td>\n",
              "      <td>77</td>\n",
              "      <td>0</td>\n",
              "      <td>1</td>\n",
              "      <td>369.600000</td>\n",
              "      <td>1.0</td>\n",
              "      <td>0.0</td>\n",
              "      <td>1.0</td>\n",
              "      <td>0.0</td>\n",
              "      <td>1.0</td>\n",
              "      <td>0.0</td>\n",
              "      <td>0.0</td>\n",
              "      <td>1.0</td>\n",
              "      <td>0.0</td>\n",
              "      <td>0.0</td>\n",
              "      <td>0.0</td>\n",
              "      <td>0.0</td>\n",
              "      <td>1.0</td>\n",
              "    </tr>\n",
              "  </tbody>\n",
              "</table>\n",
              "<p>8212 rows × 19 columns</p>\n",
              "</div>\n",
              "      <button class=\"colab-df-convert\" onclick=\"convertToInteractive('df-54f9948b-ccba-43ba-a053-ce7bebd1df7d')\"\n",
              "              title=\"Convert this dataframe to an interactive table.\"\n",
              "              style=\"display:none;\">\n",
              "        \n",
              "  <svg xmlns=\"http://www.w3.org/2000/svg\" height=\"24px\"viewBox=\"0 0 24 24\"\n",
              "       width=\"24px\">\n",
              "    <path d=\"M0 0h24v24H0V0z\" fill=\"none\"/>\n",
              "    <path d=\"M18.56 5.44l.94 2.06.94-2.06 2.06-.94-2.06-.94-.94-2.06-.94 2.06-2.06.94zm-11 1L8.5 8.5l.94-2.06 2.06-.94-2.06-.94L8.5 2.5l-.94 2.06-2.06.94zm10 10l.94 2.06.94-2.06 2.06-.94-2.06-.94-.94-2.06-.94 2.06-2.06.94z\"/><path d=\"M17.41 7.96l-1.37-1.37c-.4-.4-.92-.59-1.43-.59-.52 0-1.04.2-1.43.59L10.3 9.45l-7.72 7.72c-.78.78-.78 2.05 0 2.83L4 21.41c.39.39.9.59 1.41.59.51 0 1.02-.2 1.41-.59l7.78-7.78 2.81-2.81c.8-.78.8-2.07 0-2.86zM5.41 20L4 18.59l7.72-7.72 1.47 1.35L5.41 20z\"/>\n",
              "  </svg>\n",
              "      </button>\n",
              "      \n",
              "  <style>\n",
              "    .colab-df-container {\n",
              "      display:flex;\n",
              "      flex-wrap:wrap;\n",
              "      gap: 12px;\n",
              "    }\n",
              "\n",
              "    .colab-df-convert {\n",
              "      background-color: #E8F0FE;\n",
              "      border: none;\n",
              "      border-radius: 50%;\n",
              "      cursor: pointer;\n",
              "      display: none;\n",
              "      fill: #1967D2;\n",
              "      height: 32px;\n",
              "      padding: 0 0 0 0;\n",
              "      width: 32px;\n",
              "    }\n",
              "\n",
              "    .colab-df-convert:hover {\n",
              "      background-color: #E2EBFA;\n",
              "      box-shadow: 0px 1px 2px rgba(60, 64, 67, 0.3), 0px 1px 3px 1px rgba(60, 64, 67, 0.15);\n",
              "      fill: #174EA6;\n",
              "    }\n",
              "\n",
              "    [theme=dark] .colab-df-convert {\n",
              "      background-color: #3B4455;\n",
              "      fill: #D2E3FC;\n",
              "    }\n",
              "\n",
              "    [theme=dark] .colab-df-convert:hover {\n",
              "      background-color: #434B5C;\n",
              "      box-shadow: 0px 1px 3px 1px rgba(0, 0, 0, 0.15);\n",
              "      filter: drop-shadow(0px 1px 2px rgba(0, 0, 0, 0.3));\n",
              "      fill: #FFFFFF;\n",
              "    }\n",
              "  </style>\n",
              "\n",
              "      <script>\n",
              "        const buttonEl =\n",
              "          document.querySelector('#df-54f9948b-ccba-43ba-a053-ce7bebd1df7d button.colab-df-convert');\n",
              "        buttonEl.style.display =\n",
              "          google.colab.kernel.accessAllowed ? 'block' : 'none';\n",
              "\n",
              "        async function convertToInteractive(key) {\n",
              "          const element = document.querySelector('#df-54f9948b-ccba-43ba-a053-ce7bebd1df7d');\n",
              "          const dataTable =\n",
              "            await google.colab.kernel.invokeFunction('convertToInteractive',\n",
              "                                                     [key], {});\n",
              "          if (!dataTable) return;\n",
              "\n",
              "          const docLinkHtml = 'Like what you see? Visit the ' +\n",
              "            '<a target=\"_blank\" href=https://colab.research.google.com/notebooks/data_table.ipynb>data table notebook</a>'\n",
              "            + ' to learn more about interactive tables.';\n",
              "          element.innerHTML = '';\n",
              "          dataTable['output_type'] = 'display_data';\n",
              "          await google.colab.output.renderOutput(dataTable, element);\n",
              "          const docLink = document.createElement('div');\n",
              "          docLink.innerHTML = docLinkHtml;\n",
              "          element.appendChild(docLink);\n",
              "        }\n",
              "      </script>\n",
              "    </div>\n",
              "  </div>\n",
              "  "
            ]
          },
          "metadata": {},
          "execution_count": 4
        }
      ],
      "source": [
        "\n",
        "#\n",
        "transformer = preprocessing.OneHotEncoder(drop='first', handle_unknown='ignore').fit(raw_data[['Coverage', 'Gender', 'Marital.Status', 'Renew.Offer.Type', 'Vehicle.Class']])\n",
        "\n",
        "cat_Data = transformer.transform(raw_data[['Coverage', 'Gender', 'Marital.Status', 'Renew.Offer.Type', 'Vehicle.Class']])\n",
        "cat_Data = pd.DataFrame(cat_Data.toarray(), columns=transformer.get_feature_names_out() );\n",
        "\n",
        "enc_data = pd.concat([raw_data.drop(['Coverage', 'Gender', 'Marital.Status', 'Renew.Offer.Type', 'Vehicle.Class'], 1).reset_index(), cat_Data], 1).drop('index',1)\n",
        "enc_data"
      ]
    },
    {
      "cell_type": "markdown",
      "metadata": {
        "id": "noBsqu-y1lQU"
      },
      "source": [
        ")### 1.4 Use `pandas.DataFrame.apply` to apply square root transformation to \"Total.Claim.Amount\" and log to the target variable. And then, create your `X` and `y`. (No training/test splitting yet) "
      ]
    },
    {
      "cell_type": "code",
      "execution_count": 5,
      "metadata": {
        "colab": {
          "base_uri": "https://localhost:8080/"
        },
        "id": "xzW_Qbtd4QSe",
        "outputId": "33228ee7-368a-46a5-b595-02b25f2a5fcc"
      },
      "outputs": [
        {
          "output_type": "stream",
          "name": "stderr",
          "text": [
            "<ipython-input-5-308416c76643>:5: FutureWarning: In a future version of pandas all arguments of DataFrame.drop except for the argument 'labels' will be keyword-only\n",
            "  X = enc_data.drop('clv',1)\n"
          ]
        }
      ],
      "source": [
        "#\n",
        "enc_data['Total.Claim.Amount'] = enc_data['Total.Claim.Amount'].apply(np.sqrt)\n",
        "enc_data['clv'] = enc_data['clv'].apply(np.log)\n",
        "\n",
        "X = enc_data.drop('clv',1)\n",
        "y = enc_data['clv']"
      ]
    },
    {
      "cell_type": "markdown",
      "metadata": {
        "id": "azwMuwal3eL_"
      },
      "source": [
        "### 1.5 Build a new design matrix by applying polynomial expansion on the `X` from Question 1.4."
      ]
    },
    {
      "cell_type": "code",
      "execution_count": 6,
      "metadata": {
        "id": "dSoq2jdp3dI-"
      },
      "outputs": [],
      "source": [
        "#\n",
        "polytrans = PolynomialFeatures(degree=2)\n",
        "X_2 = polytrans.fit_transform(X)\n",
        "design_X = []\n",
        "for i in range(len(X_2)):\n",
        "    design_X.append(X_2[i][1:-1])\n"
      ]
    },
    {
      "cell_type": "markdown",
      "metadata": {
        "id": "qIOYW9ue7nab"
      },
      "source": [
        "### 1.6 Standardize your design matrix (from Question 1.5) with `StandardScaler()`, and store the result into a Pandas dataFrame."
      ]
    },
    {
      "cell_type": "code",
      "execution_count": 7,
      "metadata": {
        "id": "_qfJ-MfR9pLe"
      },
      "outputs": [],
      "source": [
        "#\n",
        "sc = StandardScaler().fit_transform(design_X)\n",
        "polyscDF = pd.DataFrame(sc)"
      ]
    },
    {
      "cell_type": "markdown",
      "metadata": {
        "id": "R0Llj1HB4I_f"
      },
      "source": [
        "### 1.7 What is the shape of the resultant DataFrame obtained from question 1.6?"
      ]
    },
    {
      "cell_type": "code",
      "execution_count": 8,
      "metadata": {
        "colab": {
          "base_uri": "https://localhost:8080/"
        },
        "id": "XB3-l4rJ4QSg",
        "outputId": "6813362c-d01c-4c28-f79d-8a7a7929d104"
      },
      "outputs": [
        {
          "output_type": "execute_result",
          "data": {
            "text/plain": [
              "(8212, 188)"
            ]
          },
          "metadata": {},
          "execution_count": 8
        }
      ],
      "source": [
        "#\n",
        "polyscDF.shape"
      ]
    },
    {
      "cell_type": "markdown",
      "metadata": {
        "id": "WT-POfziGnpm"
      },
      "source": [
        "## Question 2: /7 pts\n",
        "\n",
        "Split the data into training and test sets. Hold out 30% of observations as the test set.  Pass `random_state=seed` to `train_test_split` to ensure you get the same sets per run. The design matrix to pass in to the splitter function is the dataframe whcih you got in Question 1.6. As for the target, you have created it in Question 1.4."
      ]
    },
    {
      "cell_type": "code",
      "execution_count": 9,
      "metadata": {
        "id": "0nA70uSCJMiO",
        "colab": {
          "base_uri": "https://localhost:8080/"
        },
        "outputId": "e7a18872-213b-4f18-8aab-f5003064f535"
      },
      "outputs": [
        {
          "output_type": "stream",
          "name": "stdout",
          "text": [
            "count    5748.00\n",
            "mean        8.62\n",
            "std         0.50\n",
            "min         7.70\n",
            "25%         8.24\n",
            "50%         8.61\n",
            "75%         9.01\n",
            "max         9.68\n",
            "Name: clv, dtype: float64\n"
          ]
        },
        {
          "output_type": "execute_result",
          "data": {
            "text/plain": [
              "5748"
            ]
          },
          "metadata": {},
          "execution_count": 9
        }
      ],
      "source": [
        "#\n",
        "X_train, X_test, y_train, y_test = train_test_split(polyscDF, y, test_size=0.3, random_state=seed)\n",
        "print(y_train.describe().round(2))\n",
        "len(y_train)"
      ]
    },
    {
      "cell_type": "markdown",
      "metadata": {
        "id": "2LN9bLXV5H3Q"
      },
      "source": [
        "How many observations in your traning data set? What is the average value of the target variable in the traning data set (keep 2 decimal place)?\n",
        "\n",
        "5748 observations and the mean of the target is 8.62"
      ]
    },
    {
      "cell_type": "markdown",
      "metadata": {
        "id": "hhxxdCrA59Ur"
      },
      "source": [
        "**YOUR ANSWER HERE:** [2pts]\n",
        "\n",
        "..."
      ]
    },
    {
      "cell_type": "markdown",
      "metadata": {
        "id": "JSROy1U56I8Y"
      },
      "source": [
        "## Question 3: /23 pts"
      ]
    },
    {
      "cell_type": "markdown",
      "metadata": {
        "id": "HnTESpfO8g2_"
      },
      "source": [
        "### 3.1 Create a SciKit Learn `Ridge` regression object. Using this object, run a ridge regression analysis of the target variable against all the transformed predictor variables using your training data. Include the arguement `alpha=4.0`. In addition, the ridge regression should be fitted with the intercept."
      ]
    },
    {
      "cell_type": "code",
      "execution_count": 10,
      "metadata": {
        "id": "KNbYd9YM5QO3",
        "colab": {
          "base_uri": "https://localhost:8080/"
        },
        "outputId": "33eca037-f87c-4ee0-e93a-0c5b49428339"
      },
      "outputs": [
        {
          "output_type": "execute_result",
          "data": {
            "text/plain": [
              "0.56750367531317"
            ]
          },
          "metadata": {},
          "execution_count": 10
        }
      ],
      "source": [
        "#\n",
        "RidgeReg = skl.Ridge(alpha = 4.0, fit_intercept=True)\n",
        "\n",
        "RidgeReg.fit(X_train,y_train).score(X_test, y_test)"
      ]
    },
    {
      "cell_type": "markdown",
      "metadata": {
        "id": "TiPa777vIESf"
      },
      "source": [
        "### 3.2 Vary the ridge coeficient `alpha` according to the hint. Use `cross_val_score()` to select the best `alpha` based on 'mean_squared_error'. Include the argument `cv=5`. Report the `alpha` that yields the smallest mean_squared_error.   "
      ]
    },
    {
      "cell_type": "code",
      "execution_count": 11,
      "metadata": {
        "id": "FqbRiqdBICnW",
        "colab": {
          "base_uri": "https://localhost:8080/"
        },
        "outputId": "7c8fa8d6-260f-4b65-9559-4c5facb0f022"
      },
      "outputs": [
        {
          "output_type": "execute_result",
          "data": {
            "text/plain": [
              "[[0.01831563888873418, 0.11156882556807868],\n",
              " [0.0319224918348957, 0.11155806056929773],\n",
              " [0.05563799827784281, 0.11154489576006218],\n",
              " [0.0969719678644051, 0.11153050133867155],\n",
              " [0.1690133154060661, 0.11151599381582993],\n",
              " [0.29457482831010734, 0.11150172133392251],\n",
              " [0.5134171190325921, 0.11148759029293047],\n",
              " [0.8948393168143701, 0.11147457520632176],\n",
              " [1.559623497606781, 0.11146715907829548],\n",
              " [2.718281828459045, 0.11147709409113753]]"
            ]
          },
          "metadata": {},
          "execution_count": 11
        }
      ],
      "source": [
        "#\n",
        "lam = np.exp(np.linspace(-4,1,10))\n",
        "mean_sq_error_Avg = []\n",
        "for i in lam:\n",
        "  mean_sq_error_Avg.append([i, -(cross_val_score(skl.Ridge(alpha = i, fit_intercept=True), X_train, y_train, cv=5,scoring = 'neg_mean_squared_error').mean())])\n",
        "\n",
        "mean_sq_error_Avg"
      ]
    },
    {
      "cell_type": "markdown",
      "metadata": {
        "id": "6sDLY0ZoD2gl"
      },
      "source": [
        "### 3.3 Re-fit the ridge regression with `alpha` being the value obtained in the previous question. `Print` the first 3 parameters of your model."
      ]
    },
    {
      "cell_type": "code",
      "execution_count": 12,
      "metadata": {
        "colab": {
          "base_uri": "https://localhost:8080/"
        },
        "id": "SdW6-rRKDs0H",
        "outputId": "60e4dc92-19c8-41f1-9a98-ba01be9cab60"
      },
      "outputs": [
        {
          "output_type": "execute_result",
          "data": {
            "text/plain": [
              "array([0.02840103, 0.33071394, 0.02778553])"
            ]
          },
          "metadata": {},
          "execution_count": 12
        }
      ],
      "source": [
        "#\n",
        "\n",
        "RidgeReg = skl.Ridge(alpha = 1.559623497606781, fit_intercept=True).fit(X_train, y_train)\n",
        "RidgeReg.coef_[0:3]"
      ]
    },
    {
      "cell_type": "markdown",
      "metadata": {
        "id": "0Tkm7rYwZhav"
      },
      "source": [
        "### 3.4 Fit the linear regression without any penalty, and the regression should be fitted with the intercept. `Print` the first 3 parameters of your model."
      ]
    },
    {
      "cell_type": "code",
      "execution_count": 13,
      "metadata": {
        "colab": {
          "base_uri": "https://localhost:8080/"
        },
        "id": "gqo8keT9Z-oz",
        "outputId": "08f4518f-aa7a-4993-cea0-b0b5f89c36ba"
      },
      "outputs": [
        {
          "output_type": "execute_result",
          "data": {
            "text/plain": [
              "array([0.01541357, 0.24335571, 0.00828896])"
            ]
          },
          "metadata": {},
          "execution_count": 13
        }
      ],
      "source": [
        "#\n",
        "noPen = skl.Ridge(alpha = 0, fit_intercept=True).fit(X_train, y_train)\n",
        "noPen.coef_[0:3]"
      ]
    },
    {
      "cell_type": "markdown",
      "metadata": {
        "id": "sm7Gr6eXaqzP"
      },
      "source": [
        "Comparing the parameters that you obtain in questions 3.3 and 3.4, what do you find?"
      ]
    },
    {
      "cell_type": "markdown",
      "metadata": {
        "id": "3dWojdSQbD1n"
      },
      "source": [
        "**YOUR ANSWER HERE:** [2pts]\n",
        "\n",
        "When we remove the penalty the strenght of prediction of  the variables is dropped at least within the first three\n",
        "..."
      ]
    },
    {
      "cell_type": "markdown",
      "metadata": {
        "id": "tWgD5DCS4abp"
      },
      "source": [
        "### 3.5 Use your trained model from Question 3.4 to predict over the test set and `print` the first 5 prediction values."
      ]
    },
    {
      "cell_type": "code",
      "execution_count": 14,
      "metadata": {
        "colab": {
          "base_uri": "https://localhost:8080/"
        },
        "id": "jZ2kmfb74usy",
        "outputId": "8a51630c-8e83-46ea-c107-e02db5c76761"
      },
      "outputs": [
        {
          "output_type": "execute_result",
          "data": {
            "text/plain": [
              "array([9.15619122, 8.29791485, 8.86908185])"
            ]
          },
          "metadata": {},
          "execution_count": 14
        }
      ],
      "source": [
        "#\n",
        "noPenPred = noPen.predict(X_test)\n",
        "noPenPred[0:3]"
      ]
    },
    {
      "cell_type": "markdown",
      "metadata": {
        "id": "rbzjtW76e1pD"
      },
      "source": [
        "## Question 4: /25 pts"
      ]
    },
    {
      "cell_type": "markdown",
      "metadata": {
        "id": "fVzCvbKUgQUr"
      },
      "source": [
        "### 4.1 Consider to fit a Lasso regression to the train dataset. Use `lasso_path()` to show the full path of the first 20 coefficients of the Lasso regression. Include the arguement `eps=8e-3` and `n_alphas=50`."
      ]
    },
    {
      "cell_type": "code",
      "execution_count": 15,
      "metadata": {
        "colab": {
          "base_uri": "https://localhost:8080/",
          "height": 1000
        },
        "id": "-yYkOTzFe1DT",
        "outputId": "9a3c588d-2130-4fa7-c30d-18fd8cfdcc14"
      },
      "outputs": [
        {
          "output_type": "execute_result",
          "data": {
            "text/plain": [
              "[<matplotlib.lines.Line2D at 0x7f897207ca30>,\n",
              " <matplotlib.lines.Line2D at 0x7f897207ca90>,\n",
              " <matplotlib.lines.Line2D at 0x7f897207cbe0>,\n",
              " <matplotlib.lines.Line2D at 0x7f897207cd00>,\n",
              " <matplotlib.lines.Line2D at 0x7f897207ce20>,\n",
              " <matplotlib.lines.Line2D at 0x7f897207cf40>,\n",
              " <matplotlib.lines.Line2D at 0x7f89720900a0>,\n",
              " <matplotlib.lines.Line2D at 0x7f89720901c0>,\n",
              " <matplotlib.lines.Line2D at 0x7f89720902e0>,\n",
              " <matplotlib.lines.Line2D at 0x7f8972090400>,\n",
              " <matplotlib.lines.Line2D at 0x7f897207ca60>,\n",
              " <matplotlib.lines.Line2D at 0x7f8972090520>,\n",
              " <matplotlib.lines.Line2D at 0x7f8972090730>,\n",
              " <matplotlib.lines.Line2D at 0x7f8972090850>,\n",
              " <matplotlib.lines.Line2D at 0x7f8972090970>,\n",
              " <matplotlib.lines.Line2D at 0x7f8972090a90>,\n",
              " <matplotlib.lines.Line2D at 0x7f8972090bb0>,\n",
              " <matplotlib.lines.Line2D at 0x7f8972090cd0>,\n",
              " <matplotlib.lines.Line2D at 0x7f8972090df0>,\n",
              " <matplotlib.lines.Line2D at 0x7f8972090f10>,\n",
              " <matplotlib.lines.Line2D at 0x7f8972096070>,\n",
              " <matplotlib.lines.Line2D at 0x7f8972096190>,\n",
              " <matplotlib.lines.Line2D at 0x7f89720962b0>,\n",
              " <matplotlib.lines.Line2D at 0x7f89720963d0>,\n",
              " <matplotlib.lines.Line2D at 0x7f89720964f0>,\n",
              " <matplotlib.lines.Line2D at 0x7f8972096610>,\n",
              " <matplotlib.lines.Line2D at 0x7f8972096730>,\n",
              " <matplotlib.lines.Line2D at 0x7f8972096850>,\n",
              " <matplotlib.lines.Line2D at 0x7f8972096970>,\n",
              " <matplotlib.lines.Line2D at 0x7f8972096a90>,\n",
              " <matplotlib.lines.Line2D at 0x7f8972096bb0>,\n",
              " <matplotlib.lines.Line2D at 0x7f8972096cd0>,\n",
              " <matplotlib.lines.Line2D at 0x7f8972096df0>,\n",
              " <matplotlib.lines.Line2D at 0x7f8972096f10>,\n",
              " <matplotlib.lines.Line2D at 0x7f897201c070>,\n",
              " <matplotlib.lines.Line2D at 0x7f897201c190>,\n",
              " <matplotlib.lines.Line2D at 0x7f897201c2b0>,\n",
              " <matplotlib.lines.Line2D at 0x7f897201c3d0>,\n",
              " <matplotlib.lines.Line2D at 0x7f897201c4f0>,\n",
              " <matplotlib.lines.Line2D at 0x7f897201c610>,\n",
              " <matplotlib.lines.Line2D at 0x7f897201c730>,\n",
              " <matplotlib.lines.Line2D at 0x7f897201c850>,\n",
              " <matplotlib.lines.Line2D at 0x7f897201c970>,\n",
              " <matplotlib.lines.Line2D at 0x7f897201ca90>,\n",
              " <matplotlib.lines.Line2D at 0x7f897201cbb0>,\n",
              " <matplotlib.lines.Line2D at 0x7f897201ccd0>,\n",
              " <matplotlib.lines.Line2D at 0x7f897201cdf0>,\n",
              " <matplotlib.lines.Line2D at 0x7f897201cf10>,\n",
              " <matplotlib.lines.Line2D at 0x7f8972023070>,\n",
              " <matplotlib.lines.Line2D at 0x7f8972023190>]"
            ]
          },
          "metadata": {},
          "execution_count": 15
        },
        {
          "output_type": "display_data",
          "data": {
            "text/plain": [
              "<Figure size 432x288 with 1 Axes>"
            ],
            "image/png": "[encoded data removed]"
          },
          "metadata": {
            "needs_background": "light"
          }
        }
      ],
      "source": [
        "# Draw a plot to show the path. Legend is not required in the plot.\n",
        "_,coefs_lasso, _ = skl.lasso_path(eps=8e-3 , n_alphas=50,X= X_train,y = y_train)\n",
        "\n",
        "plt.plot(coefs_lasso[:20])\n"
      ]
    },
    {
      "cell_type": "markdown",
      "metadata": {
        "id": "CS-5Wbsfh7UL"
      },
      "source": [
        "Describe the trend that shows in your figure."
      ]
    },
    {
      "cell_type": "markdown",
      "metadata": {
        "id": "aOig7gYBiFJ0"
      },
      "source": [
        "**YOUR ANSWER HERE:** [3pts] \n",
        "\n",
        "It applies that a bulk of the features have the strongest correlation at degree four"
      ]
    },
    {
      "cell_type": "markdown",
      "metadata": {
        "id": "8VqmO6vyjGtm"
      },
      "source": [
        "### 4.2 Use the Scikit Learn's cross-validated LASSO to automatically search for the best tuning parameter of the LASSO regression on the training set with intercept. Include arguments `eps=8e-3`, `n_alphas=30`, `tol=0.001`, `cv=5`, and `random_state=seed`. Report the best tuning parameter and the number of the non-zero coefficients in the model."
      ]
    },
    {
      "cell_type": "code",
      "execution_count": 16,
      "metadata": {
        "id": "XcgZDP9kjNHP",
        "colab": {
          "base_uri": "https://localhost:8080/"
        },
        "outputId": "d2113dc9-c59e-4ea7-d1b2-92e7e37cf186"
      },
      "outputs": [
        {
          "output_type": "stream",
          "name": "stdout",
          "text": [
            "Best Alpha:  0.0019347932826026507  Num of none zero 92\n"
          ]
        }
      ],
      "source": [
        "#\n",
        "lassocv = LassoCV(eps=8e-3, n_alphas=30, tol=0.001, cv=5, random_state=seed).fit(X_train, y_train)\n",
        "print('Best Alpha: ', lassocv.alpha_, ' Num of none zero', np.count_nonzero(lassocv.coef_) )\n"
      ]
    },
    {
      "cell_type": "markdown",
      "metadata": {
        "id": "Czdd73jll-QW"
      },
      "source": [
        "### 4.3 Use the Scikit Learn's cross-validated ElasticNet to automatically search for the best tuning parameters of the Elasticnet regression with intercept on the training data set. Include the same argument as question 4.2 as well as `l1_ratio=[.7, .9, .95, .99,1]`. Report the best tuning parameters."
      ]
    },
    {
      "cell_type": "code",
      "execution_count": 17,
      "metadata": {
        "colab": {
          "base_uri": "https://localhost:8080/"
        },
        "id": "fPJuGnkjmcE6",
        "outputId": "2cf1607b-2159-46bd-c0f0-e86a70eaa44a"
      },
      "outputs": [
        {
          "output_type": "stream",
          "name": "stdout",
          "text": [
            "Best Alpha:  0.0019347932826026507  Best L1 1.0\n"
          ]
        }
      ],
      "source": [
        "#\n",
        "ElasticNetCV = skl.ElasticNetCV(l1_ratio=[.7, .9, .95, .99,1],eps=8e-3, n_alphas=30, tol=0.001, cv=5, random_state=seed).fit(X_train, y_train)\n",
        "print('Best Alpha: ', ElasticNetCV.alpha_, ' Best L1', ElasticNetCV.l1_ratio_ )"
      ]
    },
    {
      "cell_type": "markdown",
      "metadata": {
        "id": "yQLwlTQznvfs"
      },
      "source": [
        "From the obtained tuning parameters, is the Elasticnet regression model equivalent to the Lasso regression? Briefly describe the reason. \n"
      ]
    },
    {
      "cell_type": "markdown",
      "metadata": {
        "id": "imEmw4pdozsc"
      },
      "source": [
        "**YOUR ANSWER HERE:** [3pts]\n",
        "\n",
        "They're virtually equivalent as they both have the same alpha and since its 1:0 l1:l2 meaning its fully l1 just as the lasso function "
      ]
    },
    {
      "cell_type": "markdown",
      "metadata": {
        "id": "mA8w-HPJ93h6"
      },
      "source": [
        "## Question 5: /16 pts"
      ]
    },
    {
      "cell_type": "markdown",
      "metadata": {
        "id": "xGaiH_Y49_Nl"
      },
      "source": [
        "### 5.1 Start from the regression model in question 3.4, use `SequentialFeatureSelector()` to conduct the forward selection for the features of the regression model. Include the argument `n_features_to_select=20`. Report the indices of the selected features. \n",
        "\n",
        "FYI: Running this using 8 physical cores took about 1 minute for me."
      ]
    },
    {
      "cell_type": "code",
      "execution_count": 18,
      "metadata": {
        "id": "jxGV90gx6nDm",
        "colab": {
          "base_uri": "https://localhost:8080/"
        },
        "outputId": "0c4bfb0f-e75e-4ab4-c879-94464d351cef"
      },
      "outputs": [
        {
          "output_type": "execute_result",
          "data": {
            "text/plain": [
              "array([  1,   3,  12,  18,  19,  20,  28,  36,  38,  55,  59,  69,  75,\n",
              "       104, 117, 118, 119, 126, 131, 143])"
            ]
          },
          "metadata": {},
          "execution_count": 18
        }
      ],
      "source": [
        "#\n",
        "sfs = SequentialFeatureSelector(noPen, n_features_to_select=20, n_jobs = 4)\n",
        "sfs.fit(X_train, y_train)\n",
        "sfs.get_support(indices = True)"
      ]
    },
    {
      "cell_type": "markdown",
      "metadata": {
        "id": "QNFD6RQJ_8m3"
      },
      "source": [
        "What do you need to change about the argument in your model if you want to conduct a backward selection?"
      ]
    },
    {
      "cell_type": "markdown",
      "metadata": {
        "id": "8pawMkg5-3j9"
      },
      "source": [
        "**YOUR ANSWER HERE:** [2pts] \n",
        "\n",
        "Change direction argument in SequentialFeatureSelector to negative"
      ]
    },
    {
      "cell_type": "markdown",
      "metadata": {
        "id": "CBLcnkP71SbP"
      },
      "source": [
        "### 5.2 Re-fit the regular linear regression based on the traning set by using the selected features from the question 5.1. Report the first 3 parameters of your model as indicated with the print function."
      ]
    },
    {
      "cell_type": "code",
      "execution_count": 19,
      "metadata": {
        "id": "k8gVaU4mA6Zw",
        "colab": {
          "base_uri": "https://localhost:8080/"
        },
        "outputId": "ccea533a-1df9-450b-e20c-800c72fb88b7"
      },
      "outputs": [
        {
          "output_type": "execute_result",
          "data": {
            "text/plain": [
              "array([ 0.48181157,  1.07122953, -0.0122778 ])"
            ]
          },
          "metadata": {},
          "execution_count": 19
        }
      ],
      "source": [
        "#\n",
        "SeqFet = noPen.fit(X_train[[  1,   3,  12,  18,  19,  20,  28,  36,  38,  55,  59,  69,  75,\n",
        "       104, 117, 118, 119, 126, 131, 143]],y_train)\n",
        "SeqFet.coef_[0:3]"
      ]
    },
    {
      "cell_type": "markdown",
      "metadata": {
        "id": "ETqQ_ZMy2oyB"
      },
      "source": [
        "## Question 6: /9 pts"
      ]
    },
    {
      "cell_type": "markdown",
      "metadata": {
        "id": "3V9n4qj68cQn"
      },
      "source": [
        "### 6.1 Make predictions on the test set using your models in questions 3.3, 4.2, 4.3, and 5.2, respectively. Together with the predicted values obtained in question 3.5, report the first 5 rows of predicted values obtained from different models in a single DataFrame."
      ]
    },
    {
      "cell_type": "code",
      "execution_count": 20,
      "metadata": {
        "id": "bcjWPGH82stF"
      },
      "outputs": [],
      "source": [
        "#\n",
        "modelsPred = pd.DataFrame()\n",
        "modelsPred['3.3'] = RidgeReg.predict(X_test)\n",
        "modelsPred['4.2'] = lassocv.predict(X_test)\n",
        "modelsPred['4.3'] = ElasticNetCV.predict(X_test)\n",
        "modelsPred['5.2'] =  SeqFet.predict(X_test[[  1,   3,  12,  18,  19,  20,  28,  36,  38,  55,  59,  69,  75,\n",
        "       104, 117, 118, 119, 126, 131, 143]])"
      ]
    },
    {
      "cell_type": "code",
      "source": [
        "modelsPred[0:5]"
      ],
      "metadata": {
        "colab": {
          "base_uri": "https://localhost:8080/",
          "height": 204
        },
        "id": "6NF4DfirGLu7",
        "outputId": "525b8408-fcf0-4441-e563-f600716928da"
      },
      "execution_count": 21,
      "outputs": [
        {
          "output_type": "execute_result",
          "data": {
            "text/plain": [
              "        3.3       4.2       4.3       5.2\n",
              "0  9.244244  9.142903  9.142903  9.197035\n",
              "1  8.317209  8.303288  8.303288  8.300987\n",
              "2  8.894473  8.859596  8.859596  8.910826\n",
              "3  8.083843  8.085032  8.085032  8.025311\n",
              "4  8.433515  8.416404  8.416404  8.445480"
            ],
            "text/html": [
              "\n",
              "  <div id=\"df-785096a3-1187-4633-8613-42e78c9f6e8a\">\n",
              "    <div class=\"colab-df-container\">\n",
              "      <div>\n",
              "<style scoped>\n",
              "    .dataframe tbody tr th:only-of-type {\n",
              "        vertical-align: middle;\n",
              "    }\n",
              "\n",
              "    .dataframe tbody tr th {\n",
              "        vertical-align: top;\n",
              "    }\n",
              "\n",
              "    .dataframe thead th {\n",
              "        text-align: right;\n",
              "    }\n",
              "</style>\n",
              "<table border=\"1\" class=\"dataframe\">\n",
              "  <thead>\n",
              "    <tr style=\"text-align: right;\">\n",
              "      <th></th>\n",
              "      <th>3.3</th>\n",
              "      <th>4.2</th>\n",
              "      <th>4.3</th>\n",
              "      <th>5.2</th>\n",
              "    </tr>\n",
              "  </thead>\n",
              "  <tbody>\n",
              "    <tr>\n",
              "      <th>0</th>\n",
              "      <td>9.244244</td>\n",
              "      <td>9.142903</td>\n",
              "      <td>9.142903</td>\n",
              "      <td>9.197035</td>\n",
              "    </tr>\n",
              "    <tr>\n",
              "      <th>1</th>\n",
              "      <td>8.317209</td>\n",
              "      <td>8.303288</td>\n",
              "      <td>8.303288</td>\n",
              "      <td>8.300987</td>\n",
              "    </tr>\n",
              "    <tr>\n",
              "      <th>2</th>\n",
              "      <td>8.894473</td>\n",
              "      <td>8.859596</td>\n",
              "      <td>8.859596</td>\n",
              "      <td>8.910826</td>\n",
              "    </tr>\n",
              "    <tr>\n",
              "      <th>3</th>\n",
              "      <td>8.083843</td>\n",
              "      <td>8.085032</td>\n",
              "      <td>8.085032</td>\n",
              "      <td>8.025311</td>\n",
              "    </tr>\n",
              "    <tr>\n",
              "      <th>4</th>\n",
              "      <td>8.433515</td>\n",
              "      <td>8.416404</td>\n",
              "      <td>8.416404</td>\n",
              "      <td>8.445480</td>\n",
              "    </tr>\n",
              "  </tbody>\n",
              "</table>\n",
              "</div>\n",
              "      <button class=\"colab-df-convert\" onclick=\"convertToInteractive('df-785096a3-1187-4633-8613-42e78c9f6e8a')\"\n",
              "              title=\"Convert this dataframe to an interactive table.\"\n",
              "              style=\"display:none;\">\n",
              "        \n",
              "  <svg xmlns=\"http://www.w3.org/2000/svg\" height=\"24px\"viewBox=\"0 0 24 24\"\n",
              "       width=\"24px\">\n",
              "    <path d=\"M0 0h24v24H0V0z\" fill=\"none\"/>\n",
              "    <path d=\"M18.56 5.44l.94 2.06.94-2.06 2.06-.94-2.06-.94-.94-2.06-.94 2.06-2.06.94zm-11 1L8.5 8.5l.94-2.06 2.06-.94-2.06-.94L8.5 2.5l-.94 2.06-2.06.94zm10 10l.94 2.06.94-2.06 2.06-.94-2.06-.94-.94-2.06-.94 2.06-2.06.94z\"/><path d=\"M17.41 7.96l-1.37-1.37c-.4-.4-.92-.59-1.43-.59-.52 0-1.04.2-1.43.59L10.3 9.45l-7.72 7.72c-.78.78-.78 2.05 0 2.83L4 21.41c.39.39.9.59 1.41.59.51 0 1.02-.2 1.41-.59l7.78-7.78 2.81-2.81c.8-.78.8-2.07 0-2.86zM5.41 20L4 18.59l7.72-7.72 1.47 1.35L5.41 20z\"/>\n",
              "  </svg>\n",
              "      </button>\n",
              "      \n",
              "  <style>\n",
              "    .colab-df-container {\n",
              "      display:flex;\n",
              "      flex-wrap:wrap;\n",
              "      gap: 12px;\n",
              "    }\n",
              "\n",
              "    .colab-df-convert {\n",
              "      background-color: #E8F0FE;\n",
              "      border: none;\n",
              "      border-radius: 50%;\n",
              "      cursor: pointer;\n",
              "      display: none;\n",
              "      fill: #1967D2;\n",
              "      height: 32px;\n",
              "      padding: 0 0 0 0;\n",
              "      width: 32px;\n",
              "    }\n",
              "\n",
              "    .colab-df-convert:hover {\n",
              "      background-color: #E2EBFA;\n",
              "      box-shadow: 0px 1px 2px rgba(60, 64, 67, 0.3), 0px 1px 3px 1px rgba(60, 64, 67, 0.15);\n",
              "      fill: #174EA6;\n",
              "    }\n",
              "\n",
              "    [theme=dark] .colab-df-convert {\n",
              "      background-color: #3B4455;\n",
              "      fill: #D2E3FC;\n",
              "    }\n",
              "\n",
              "    [theme=dark] .colab-df-convert:hover {\n",
              "      background-color: #434B5C;\n",
              "      box-shadow: 0px 1px 3px 1px rgba(0, 0, 0, 0.15);\n",
              "      filter: drop-shadow(0px 1px 2px rgba(0, 0, 0, 0.3));\n",
              "      fill: #FFFFFF;\n",
              "    }\n",
              "  </style>\n",
              "\n",
              "      <script>\n",
              "        const buttonEl =\n",
              "          document.querySelector('#df-785096a3-1187-4633-8613-42e78c9f6e8a button.colab-df-convert');\n",
              "        buttonEl.style.display =\n",
              "          google.colab.kernel.accessAllowed ? 'block' : 'none';\n",
              "\n",
              "        async function convertToInteractive(key) {\n",
              "          const element = document.querySelector('#df-785096a3-1187-4633-8613-42e78c9f6e8a');\n",
              "          const dataTable =\n",
              "            await google.colab.kernel.invokeFunction('convertToInteractive',\n",
              "                                                     [key], {});\n",
              "          if (!dataTable) return;\n",
              "\n",
              "          const docLinkHtml = 'Like what you see? Visit the ' +\n",
              "            '<a target=\"_blank\" href=https://colab.research.google.com/notebooks/data_table.ipynb>data table notebook</a>'\n",
              "            + ' to learn more about interactive tables.';\n",
              "          element.innerHTML = '';\n",
              "          dataTable['output_type'] = 'display_data';\n",
              "          await google.colab.output.renderOutput(dataTable, element);\n",
              "          const docLink = document.createElement('div');\n",
              "          docLink.innerHTML = docLinkHtml;\n",
              "          element.appendChild(docLink);\n",
              "        }\n",
              "      </script>\n",
              "    </div>\n",
              "  </div>\n",
              "  "
            ]
          },
          "metadata": {},
          "execution_count": 21
        }
      ]
    },
    {
      "cell_type": "markdown",
      "metadata": {
        "id": "jyZgAOlNAKxs"
      },
      "source": [
        "### 6.2 Use `mean_squared_error()` to assess the performance of different models based on all the predicted values mentioned in Question 6.1.  "
      ]
    },
    {
      "cell_type": "code",
      "execution_count": 22,
      "metadata": {
        "colab": {
          "base_uri": "https://localhost:8080/"
        },
        "id": "BnDTK5XG6k08",
        "outputId": "64d784ca-5329-496b-e530-03743f0c4f9b"
      },
      "outputs": [
        {
          "output_type": "stream",
          "name": "stdout",
          "text": [
            "['ridge', 'lasso', 'elastic', 'seqfet'] Least Mean Squared [0.1101502080118253, 0.10992600726531618, 0.10992600726531618, 0.11077019282893096]\n"
          ]
        }
      ],
      "source": [
        "#\n",
        "ridge_mse = metrics.mean_squared_error(modelsPred['3.3'], y_test)\n",
        "lasso_mse = metrics.mean_squared_error(modelsPred['4.2'], y_test)\n",
        "elastic_mse = metrics.mean_squared_error(modelsPred['4.3'], y_test)\n",
        "seqFet_mse = metrics.mean_squared_error(modelsPred['5.2'], y_test)\n",
        "\n",
        "print(\"{} Least Mean Squared {}\".format(['ridge', 'lasso', 'elastic', 'seqfet'], [ridge_mse,lasso_mse,elastic_mse,seqFet_mse]))"
      ]
    },
    {
      "cell_type": "markdown",
      "metadata": {
        "id": "C29Tjgo6A-eH"
      },
      "source": [
        "Which model yields the smallest mean squared error on the test dataset?"
      ]
    },
    {
      "cell_type": "markdown",
      "metadata": {
        "id": "rOXIpNBmBcay"
      },
      "source": [
        "**YOUR ANSWER HERE:** [2pts]\n",
        "\n",
        "Smallest mean squared error on the test is both elastic and lasso since they are the same"
      ]
    }
  ],
  "metadata": {
    "colab": {
      "provenance": []
    },
    "kernelspec": {
      "display_name": "my_py_env",
      "language": "python",
      "name": "python3"
    },
    "language_info": {
      "codemirror_mode": {
        "name": "ipython",
        "version": 3
      },
      "file_extension": ".py",
      "mimetype": "text/x-python",
      "name": "python",
      "nbconvert_exporter": "python",
      "pygments_lexer": "ipython3",
      "version": "3.10.6"
    },
    "vscode": {
      "interpreter": {
        "hash": "33450fd3005a3f920860570602bb6b9ad3febc9347ad497c595fea1c977e6b53"
      }
    }
  },
  "nbformat": 4,
  "nbformat_minor": 0
}